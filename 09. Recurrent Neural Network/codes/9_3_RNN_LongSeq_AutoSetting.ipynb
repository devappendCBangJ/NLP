{
 "cells": [
  {
   "attachments": {},
   "cell_type": "markdown",
   "metadata": {},
   "source": [
    "##### 0) 라이브러리 불러오기"
   ]
  },
  {
   "cell_type": "code",
   "execution_count": 1,
   "metadata": {},
   "outputs": [],
   "source": [
    "# (1) 기본 라이브러리\n",
    "import numpy as np\n",
    "\n",
    "# (2) 머신러닝 라이브러리\n",
    "import torch\n",
    "import torch.optim as optim"
   ]
  },
  {
   "cell_type": "code",
   "execution_count": 2,
   "metadata": {},
   "outputs": [
    {
     "data": {
      "text/plain": [
       "<torch._C.Generator at 0x291d5b38910>"
      ]
     },
     "execution_count": 2,
     "metadata": {},
     "output_type": "execute_result"
    }
   ],
   "source": [
    "torch.manual_seed(0)"
   ]
  },
  {
   "attachments": {},
   "cell_type": "markdown",
   "metadata": {},
   "source": [
    "##### 1) 데이터 불러오기"
   ]
  },
  {
   "cell_type": "code",
   "execution_count": 3,
   "metadata": {},
   "outputs": [],
   "source": [
    "sentence = (\"if you want to build a ship, don't drum up people together to \"\n",
    "            \"collect wood and don't assign them tasks and work, but rather \"\n",
    "            \"teach them to long for the endless immensity of the sea.\") # !!"
   ]
  },
  {
   "attachments": {},
   "cell_type": "markdown",
   "metadata": {},
   "source": [
    "##### 2) Unique 단어장 생성"
   ]
  },
  {
   "cell_type": "code",
   "execution_count": 4,
   "metadata": {},
   "outputs": [],
   "source": [
    "char_set = list(set(sentence))\n",
    "char_dic = {c: i for i, c in enumerate(char_set)}"
   ]
  },
  {
   "cell_type": "code",
   "execution_count": 5,
   "metadata": {},
   "outputs": [
    {
     "data": {
      "text/plain": [
       "['u',\n",
       " 'w',\n",
       " ',',\n",
       " 'i',\n",
       " 'f',\n",
       " 'c',\n",
       " 'b',\n",
       " 's',\n",
       " \"'\",\n",
       " 'm',\n",
       " 'y',\n",
       " '.',\n",
       " 'a',\n",
       " 'd',\n",
       " 'k',\n",
       " 'h',\n",
       " 'r',\n",
       " ' ',\n",
       " 'o',\n",
       " 't',\n",
       " 'e',\n",
       " 'n',\n",
       " 'g',\n",
       " 'l',\n",
       " 'p']"
      ]
     },
     "execution_count": 5,
     "metadata": {},
     "output_type": "execute_result"
    }
   ],
   "source": [
    "char_set"
   ]
  },
  {
   "cell_type": "code",
   "execution_count": 6,
   "metadata": {},
   "outputs": [
    {
     "data": {
      "text/plain": [
       "{'u': 0,\n",
       " 'w': 1,\n",
       " ',': 2,\n",
       " 'i': 3,\n",
       " 'f': 4,\n",
       " 'c': 5,\n",
       " 'b': 6,\n",
       " 's': 7,\n",
       " \"'\": 8,\n",
       " 'm': 9,\n",
       " 'y': 10,\n",
       " '.': 11,\n",
       " 'a': 12,\n",
       " 'd': 13,\n",
       " 'k': 14,\n",
       " 'h': 15,\n",
       " 'r': 16,\n",
       " ' ': 17,\n",
       " 'o': 18,\n",
       " 't': 19,\n",
       " 'e': 20,\n",
       " 'n': 21,\n",
       " 'g': 22,\n",
       " 'l': 23,\n",
       " 'p': 24}"
      ]
     },
     "execution_count": 6,
     "metadata": {},
     "output_type": "execute_result"
    }
   ],
   "source": [
    "char_dic"
   ]
  },
  {
   "attachments": {},
   "cell_type": "markdown",
   "metadata": {},
   "source": [
    "##### 3) 하이퍼파라미터 정의"
   ]
  },
  {
   "cell_type": "code",
   "execution_count": 7,
   "metadata": {},
   "outputs": [],
   "source": [
    "input_size = len(char_dic) # dic_size = input_size\n",
    "hidden_size = len(char_dic)\n",
    "sequence_length = 10 # !!\n",
    "learning_rate = 0.1"
   ]
  },
  {
   "cell_type": "code",
   "execution_count": 8,
   "metadata": {},
   "outputs": [
    {
     "data": {
      "text/plain": [
       "25"
      ]
     },
     "execution_count": 8,
     "metadata": {},
     "output_type": "execute_result"
    }
   ],
   "source": [
    "input_size"
   ]
  },
  {
   "cell_type": "code",
   "execution_count": 9,
   "metadata": {},
   "outputs": [
    {
     "data": {
      "text/plain": [
       "25"
      ]
     },
     "execution_count": 9,
     "metadata": {},
     "output_type": "execute_result"
    }
   ],
   "source": [
    "hidden_size"
   ]
  },
  {
   "attachments": {},
   "cell_type": "markdown",
   "metadata": {},
   "source": [
    "##### 4) 데이터 전처리"
   ]
  },
  {
   "attachments": {},
   "cell_type": "markdown",
   "metadata": {},
   "source": [
    "(1) String -> Int"
   ]
  },
  {
   "attachments": {},
   "cell_type": "markdown",
   "metadata": {},
   "source": [
    "(2) Data Split"
   ]
  },
  {
   "cell_type": "code",
   "execution_count": 10,
   "metadata": {},
   "outputs": [
    {
     "name": "stdout",
     "output_type": "stream",
     "text": [
      "0 if you wan -> f you want\n",
      "1 f you want ->  you want \n",
      "2  you want  -> you want t\n",
      "3 you want t -> ou want to\n",
      "4 ou want to -> u want to \n",
      "5 u want to  ->  want to b\n",
      "6  want to b -> want to bu\n",
      "7 want to bu -> ant to bui\n",
      "8 ant to bui -> nt to buil\n",
      "9 nt to buil -> t to build\n",
      "10 t to build ->  to build \n",
      "11  to build  -> to build a\n",
      "12 to build a -> o build a \n",
      "13 o build a  ->  build a s\n",
      "14  build a s -> build a sh\n",
      "15 build a sh -> uild a shi\n",
      "16 uild a shi -> ild a ship\n",
      "17 ild a ship -> ld a ship,\n",
      "18 ld a ship, -> d a ship, \n",
      "19 d a ship,  ->  a ship, d\n",
      "20  a ship, d -> a ship, do\n",
      "21 a ship, do ->  ship, don\n",
      "22  ship, don -> ship, don'\n",
      "23 ship, don' -> hip, don't\n",
      "24 hip, don't -> ip, don't \n",
      "25 ip, don't  -> p, don't d\n",
      "26 p, don't d -> , don't dr\n",
      "27 , don't dr ->  don't dru\n",
      "28  don't dru -> don't drum\n",
      "29 don't drum -> on't drum \n",
      "30 on't drum  -> n't drum u\n",
      "31 n't drum u -> 't drum up\n",
      "32 't drum up -> t drum up \n",
      "33 t drum up  ->  drum up p\n",
      "34  drum up p -> drum up pe\n",
      "35 drum up pe -> rum up peo\n",
      "36 rum up peo -> um up peop\n",
      "37 um up peop -> m up peopl\n",
      "38 m up peopl ->  up people\n",
      "39  up people -> up people \n",
      "40 up people  -> p people t\n",
      "41 p people t ->  people to\n",
      "42  people to -> people tog\n",
      "43 people tog -> eople toge\n",
      "44 eople toge -> ople toget\n",
      "45 ople toget -> ple togeth\n",
      "46 ple togeth -> le togethe\n",
      "47 le togethe -> e together\n",
      "48 e together ->  together \n",
      "49  together  -> together t\n",
      "50 together t -> ogether to\n",
      "51 ogether to -> gether to \n",
      "52 gether to  -> ether to c\n",
      "53 ether to c -> ther to co\n",
      "54 ther to co -> her to col\n",
      "55 her to col -> er to coll\n",
      "56 er to coll -> r to colle\n",
      "57 r to colle ->  to collec\n",
      "58  to collec -> to collect\n",
      "59 to collect -> o collect \n",
      "60 o collect  ->  collect w\n",
      "61  collect w -> collect wo\n",
      "62 collect wo -> ollect woo\n",
      "63 ollect woo -> llect wood\n",
      "64 llect wood -> lect wood \n",
      "65 lect wood  -> ect wood a\n",
      "66 ect wood a -> ct wood an\n",
      "67 ct wood an -> t wood and\n",
      "68 t wood and ->  wood and \n",
      "69  wood and  -> wood and d\n",
      "70 wood and d -> ood and do\n",
      "71 ood and do -> od and don\n",
      "72 od and don -> d and don'\n",
      "73 d and don' ->  and don't\n",
      "74  and don't -> and don't \n",
      "75 and don't  -> nd don't a\n",
      "76 nd don't a -> d don't as\n",
      "77 d don't as ->  don't ass\n",
      "78  don't ass -> don't assi\n",
      "79 don't assi -> on't assig\n",
      "80 on't assig -> n't assign\n",
      "81 n't assign -> 't assign \n",
      "82 't assign  -> t assign t\n",
      "83 t assign t ->  assign th\n",
      "84  assign th -> assign the\n",
      "85 assign the -> ssign them\n",
      "86 ssign them -> sign them \n",
      "87 sign them  -> ign them t\n",
      "88 ign them t -> gn them ta\n",
      "89 gn them ta -> n them tas\n",
      "90 n them tas ->  them task\n",
      "91  them task -> them tasks\n",
      "92 them tasks -> hem tasks \n",
      "93 hem tasks  -> em tasks a\n",
      "94 em tasks a -> m tasks an\n",
      "95 m tasks an ->  tasks and\n",
      "96  tasks and -> tasks and \n",
      "97 tasks and  -> asks and w\n",
      "98 asks and w -> sks and wo\n",
      "99 sks and wo -> ks and wor\n",
      "100 ks and wor -> s and work\n",
      "101 s and work ->  and work,\n",
      "102  and work, -> and work, \n",
      "103 and work,  -> nd work, b\n",
      "104 nd work, b -> d work, bu\n",
      "105 d work, bu ->  work, but\n",
      "106  work, but -> work, but \n",
      "107 work, but  -> ork, but r\n",
      "108 ork, but r -> rk, but ra\n",
      "109 rk, but ra -> k, but rat\n",
      "110 k, but rat -> , but rath\n",
      "111 , but rath ->  but rathe\n",
      "112  but rathe -> but rather\n",
      "113 but rather -> ut rather \n",
      "114 ut rather  -> t rather t\n",
      "115 t rather t ->  rather te\n",
      "116  rather te -> rather tea\n",
      "117 rather tea -> ather teac\n",
      "118 ather teac -> ther teach\n",
      "119 ther teach -> her teach \n",
      "120 her teach  -> er teach t\n",
      "121 er teach t -> r teach th\n",
      "122 r teach th ->  teach the\n",
      "123  teach the -> teach them\n",
      "124 teach them -> each them \n",
      "125 each them  -> ach them t\n",
      "126 ach them t -> ch them to\n",
      "127 ch them to -> h them to \n",
      "128 h them to  ->  them to l\n",
      "129  them to l -> them to lo\n",
      "130 them to lo -> hem to lon\n",
      "131 hem to lon -> em to long\n",
      "132 em to long -> m to long \n",
      "133 m to long  ->  to long f\n",
      "134  to long f -> to long fo\n",
      "135 to long fo -> o long for\n",
      "136 o long for ->  long for \n",
      "137  long for  -> long for t\n",
      "138 long for t -> ong for th\n",
      "139 ong for th -> ng for the\n",
      "140 ng for the -> g for the \n",
      "141 g for the  ->  for the e\n",
      "142  for the e -> for the en\n",
      "143 for the en -> or the end\n",
      "144 or the end -> r the endl\n",
      "145 r the endl ->  the endle\n",
      "146  the endle -> the endles\n",
      "147 the endles -> he endless\n",
      "148 he endless -> e endless \n",
      "149 e endless  ->  endless i\n",
      "150  endless i -> endless im\n",
      "151 endless im -> ndless imm\n",
      "152 ndless imm -> dless imme\n",
      "153 dless imme -> less immen\n",
      "154 less immen -> ess immens\n",
      "155 ess immens -> ss immensi\n",
      "156 ss immensi -> s immensit\n",
      "157 s immensit ->  immensity\n",
      "158  immensity -> immensity \n",
      "159 immensity  -> mmensity o\n",
      "160 mmensity o -> mensity of\n",
      "161 mensity of -> ensity of \n",
      "162 ensity of  -> nsity of t\n",
      "163 nsity of t -> sity of th\n",
      "164 sity of th -> ity of the\n",
      "165 ity of the -> ty of the \n",
      "166 ty of the  -> y of the s\n",
      "167 y of the s ->  of the se\n",
      "168  of the se -> of the sea\n",
      "169 of the sea -> f the sea.\n"
     ]
    }
   ],
   "source": [
    "x_data = []\n",
    "y_data = []\n",
    "\n",
    "for i in range(0, len(sentence) - sequence_length): # len(sentence) - sequence_length까지 순회하는게 아니라, len(sentence) - sequence_length - 1까지만 순회함 !!!\n",
    "    x_str = sentence[i:i + sequence_length]\n",
    "    y_str = sentence[i + 1:i + sequence_length + 1] # !!!\n",
    "    print(i, x_str, '->', y_str)\n",
    "\n",
    "    x_data.append([char_dic[c] for c in x_str]) # x str to index # !\n",
    "    y_data.append([char_dic[c] for c in y_str]) # y str to index # !\n",
    "\n",
    "x_one_hot = [np.eye(input_size)[x] for x in x_data] # !!!\n",
    "\n",
    "# print(f\"np.array(x_data).shape : {np.array(x_data).shape}\") # (170, 10)\n",
    "# print(f\"np.array(y_data).shape : {np.array(y_data).shape}\") # (170, 10)\n",
    "# print(f\"np.array(x_one_hot).shape : {np.array(x_one_hot).shape}\") # (170, 10, 25)"
   ]
  },
  {
   "cell_type": "code",
   "execution_count": 30,
   "metadata": {},
   "outputs": [
    {
     "data": {
      "text/plain": [
       "(170, 10)"
      ]
     },
     "execution_count": 30,
     "metadata": {},
     "output_type": "execute_result"
    }
   ],
   "source": [
    "np.array(x_data).shape"
   ]
  },
  {
   "cell_type": "code",
   "execution_count": 29,
   "metadata": {},
   "outputs": [
    {
     "data": {
      "text/plain": [
       "(170, 10)"
      ]
     },
     "execution_count": 29,
     "metadata": {},
     "output_type": "execute_result"
    }
   ],
   "source": [
    "np.array(y_data).shape"
   ]
  },
  {
   "cell_type": "code",
   "execution_count": 28,
   "metadata": {},
   "outputs": [
    {
     "data": {
      "text/plain": [
       "(170, 10, 25)"
      ]
     },
     "execution_count": 28,
     "metadata": {},
     "output_type": "execute_result"
    }
   ],
   "source": [
    "np.array(x_one_hot).shape"
   ]
  },
  {
   "attachments": {},
   "cell_type": "markdown",
   "metadata": {},
   "source": [
    "(3) Numpy -> Tensor"
   ]
  },
  {
   "cell_type": "code",
   "execution_count": 20,
   "metadata": {},
   "outputs": [
    {
     "name": "stderr",
     "output_type": "stream",
     "text": [
      "C:\\Users\\Bang\\AppData\\Local\\Temp\\ipykernel_13516\\1151046340.py:1: UserWarning: Creating a tensor from a list of numpy.ndarrays is extremely slow. Please consider converting the list to a single numpy.ndarray with numpy.array() before converting to a tensor. (Triggered internally at C:\\cb\\pytorch_1000000000000\\work\\torch\\csrc\\utils\\tensor_new.cpp:233.)\n",
      "  x_train = torch.FloatTensor(x_one_hot)\n"
     ]
    }
   ],
   "source": [
    "x_train = torch.FloatTensor(x_one_hot)\n",
    "y_train = torch.LongTensor(y_data)"
   ]
  },
  {
   "cell_type": "code",
   "execution_count": 22,
   "metadata": {},
   "outputs": [
    {
     "data": {
      "text/plain": [
       "torch.Size([170, 10, 25])"
      ]
     },
     "execution_count": 22,
     "metadata": {},
     "output_type": "execute_result"
    }
   ],
   "source": [
    "x_train.shape"
   ]
  },
  {
   "cell_type": "code",
   "execution_count": 23,
   "metadata": {},
   "outputs": [
    {
     "data": {
      "text/plain": [
       "torch.Size([170, 10])"
      ]
     },
     "execution_count": 23,
     "metadata": {},
     "output_type": "execute_result"
    }
   ],
   "source": [
    "y_train.shape"
   ]
  },
  {
   "cell_type": "code",
   "execution_count": 24,
   "metadata": {},
   "outputs": [],
   "source": [
    "# declare RNN + FC\n",
    "class Net(torch.nn.Module):\n",
    "    def __init__(self, input_dim, hidden_dim, layers):\n",
    "        super(Net, self).__init__() # !!\n",
    "        self.rnn = torch.nn.RNN(input_dim, hidden_dim, num_layers=layers, batch_first=True) # !!!\n",
    "        self.fc = torch.nn.Linear(hidden_dim, hidden_dim, bias=True) # hidden 부분이 아닌, output을 보내는 부분에 linear 추가한 것 !!\n",
    "\n",
    "    def forward(self, x):\n",
    "        x, _status = self.rnn(x) # !!\n",
    "        x = self.fc(x) # !!\n",
    "        return x\n",
    "\n",
    "net = Net(input_size, hidden_size, 2) # layer !!"
   ]
  },
  {
   "attachments": {},
   "cell_type": "markdown",
   "metadata": {},
   "source": [
    "##### 6) Optimizer + Loss Function 정의"
   ]
  },
  {
   "cell_type": "code",
   "execution_count": 25,
   "metadata": {},
   "outputs": [],
   "source": [
    "criterion = torch.nn.CrossEntropyLoss() # !\n",
    "optimizer = optim.Adam(net.parameters(), learning_rate) # !"
   ]
  },
  {
   "attachments": {},
   "cell_type": "markdown",
   "metadata": {},
   "source": [
    "##### 7) 모델 학습"
   ]
  },
  {
   "cell_type": "code",
   "execution_count": 29,
   "metadata": {},
   "outputs": [
    {
     "name": "stdout",
     "output_type": "stream",
     "text": [
      "batch_pred_data_str :  g you want to build a ship, don't drum up people together to collect wood and don't assign them tasks and work, but rather teach them to long for the endless immensity of the sea.\n",
      "batch_pred_data_str :  t you want to build a ship, don't drum up people together to collect wood and don't assign them tasks and work, but rather teach them to long for the endless immensity of the sea.\n",
      "batch_pred_data_str :  m you want to build a ship, don't drum up people together to collect wood and don't assign them tasks and work, but rather teach them to long for the endless immensity of the sea.\n",
      "batch_pred_data_str :  m you want to build a ship, don't drum up people together to collect wood and don't assign them tasks and work, but rather teach them to long for the endless immensity of the sea.\n",
      "batch_pred_data_str :  f you want to build a ship, don't drum up people together to collect wood and don't assign them tasks and work, but rather teach them to long for the endless immensity of the sea.\n",
      "batch_pred_data_str :  t you want to build a ship, don't drum up people together te collect wood and don't assign them tasks and work, but rather teach them to long for the endless immensity of the sea.\n",
      "batch_pred_data_str :  g you want to build a ship, don't drum up people together to collect wood and don't assign them tasks and work, but rather toach them to long for the endless immensity of the sea.\n",
      "batch_pred_data_str :  p you want to build a ship, don't drum up people together to collect wood and don't assign them tasks and work, but rather toach them to long for the endless immensity of the sea.\n",
      "batch_pred_data_str :  m you want to build a ship, don't drum up people together te collect wood and don't wssign them tasks and work, but rather teach them to long for the endless immensity of the sea.\n",
      "batch_pred_data_str :  t you want to build a ship, don't drum up people together to collect wood and don't assign them tasks and work, but rather teach them ta long for the endless immensity of the sea.\n",
      "batch_pred_data_str :  f you want to build a ship, don't foum up people together to collect wood and don't fssign the  tosks and work, but rather teach the  to long for the endless immensity of the sea.\n",
      "batch_pred_data_str :  l yo  want uo build a ship, dra't drum ap people together te collect wood a d don't assign them tasks ind work, dat rather teach them ta long tor themendless immensity of themeonp\n",
      "batch_pred_data_str :  l ton wan' to lutlt ansh p, rrn't rrum up people to echer te lollect wool and don't rssign them tosks and work, but rather teach them to leng tor themen less tmmens ty oa thems ac\n",
      "batch_pred_data_str :  tmwon wont ao cuild anshnp, ton't ao m up penplentogether th boleput wood ans don't assngn them thski and wo  , bui a ther thach them to cong fos themsn  essiipmensity of thems in\n",
      "batch_pred_data_str :  g yfo epot bogbadldldnbhile don't dold bp ueodlecto ebhe  fo coleeut dpod dnd don't dssign uee  foski and dooet bud bather forbolfoer fo coo' fo  toe end ess ammensityoofofoe eoic\n",
      "batch_pred_data_str :  msyoo wasthto cut t tsssspi bmn't drut dm pecolecthdcthwr thechllest doop wad trn't dsssgmushem thsss tsd wook, bst dssher thdchether thdcer'scorkthersnd w s tmmeusito of thershtc\n",
      "batch_pred_data_str :  gmw ndpant io put d a s  p, d ngt doum ap pe plget  et em to pogdu t aaop w d w ngt dnkigfkt em aank  and woo , dui d teem to uhet em aa pang f r , emhudle s ammedeigo pf t e h et\n",
      "batch_pred_data_str :  gowon aoat wonuutui asehe oauon t toum ao tonr end n th m ta conpu t aanp aahlaon t ashigfkthem aaakiianhlaank, tut aathem tarch th m ta can'np nat emhndlesh ammensito pfeth mh  n\n",
      "batch_pred_data_str :  gmenr tont torlutud tnshim,otor't toum ao tfnreenhh etyam torloopect torn tndlaon't tshitfbthrr toaksiandleoras tui esthen thachathan ta lor' torcthrrei  essiamm nsito lf torreinn\n",
      "batch_pred_data_str :  lmwor lor' to luild t  nilm lor't trut tlltlnrlenetletyi  t  ltole t tlrp tndlton't t  ignbthe  thas, t dltorci l t trtle  thrch toen th lfr' uorltye  i lersitlmensity lp toen inn\n",
      "batch_pred_data_str :  mmwoe lor' bo l ild w sne   don't rrud wp peerlpcioeeghe  toeltole t aood andlwon't r sigp toem wo k, a dlaoeg, dut rrtyerstoaci toemeao loot forltoe e elersunm efsilo lp toemeinm\n",
      "batch_pred_data_str :  tosoo do s ao lueld a shem, don'tharum ar peep ecioeethe  ao biole t aood and ao 'tha sign'the haa ks a d aook, but a mher thaci the haa loog for the s slers nm ensity pf the snnm\n",
      "batch_pred_data_str :  tpeoo ua t do bueld aps ip, uon't doum us peop eciogethym aa booleuh dood and don't dpsitn themhaa ks dnd dook, tut a shgr ahauh them aa boog fo  uhem ng ess ymmessity of shem hnm\n",
      "batch_pred_data_str :  mpsogeda t dogbutle tos ip, boo t drut ur teop e tog thym thgcolooct dood ans don't dpsign thim thaks dud dookt tut d mhem thakt ther thgboog fo  themsnd ess immenk ty cf thgmshgm\n",
      "batch_pred_data_str :  myso  dant do lutle ast ip, doo t doum dpeoleple tog dhem th colle t dood and don't dssig  toem thaks dnd dook, but d them thact ther to cong fo  toemsndless inm ct gy of themshnm\n",
      "batch_pred_data_str :  tytp ecant ao lutld t ship, doo't aoum fp oenple to  bher th loldect wood and won't a signgther aeaks and aar , but aather thach ther ao ceng foeeteersndless immensngy of thers nm\n",
      "batch_pred_data_str :  gytpeewast to butle asship, drn't wrum fp penple to  cher thebollect wood wnd won't wsshgn ther toaks and aark, but wather thach ther toecfng foneteersndless immensngy of teershak\n",
      "batch_pred_data_str :  gytoe'wast to lutle anship, don't woum ts penple to  ther th lonlect wond wnd woa't wssign'ther toaks and aork, but tather thach ther to lfng foaeteersndless immensngy opoteerthac\n",
      "batch_pred_data_str :  gyypd tant to luild a ship, don't roum ts peuple to  thersth lonlect rond and aon't rnsign them toaks and aook, but rath msthach them to long for themsnd ess immensigy po themshac\n",
      "batch_pred_data_str :  gpypl tant to buil, d shipn don't rrum tp penple tol them th rolloct rond and ton't rssign them touk, and aook, dui rathem toich them to lorg for themend ess im ensidy ooethemehag\n",
      "batch_pred_data_str :  ghto  tont io built a shep, don't rrum up people tol them th bollect rood and aongt rssiin them tosks and aook, dui rathem thach them to corg for themeod ess immensity oo themehag\n",
      "batch_pred_data_str :  mhro  tost to buelt a sher, bon't rrum tp people to  the  th bo le t rood and aon't rssiin the  tosks and aook, bui rathe  thach the  te borg for the eod ersiimmensity oo the ehag\n",
      "batch_pred_data_str :  m son tont to bueld a sher, bon't wrum upopeople to  the  to bo lect wood and won't wssitn the  tosks and aooks bue rathe  toach the  to cfog for the eodlers immensity of the ehag\n",
      "batch_pred_data_str :  m son dont ta cueld d sher, drn't arum up penple tog ther th co lect aond and don't assign the  tasks and wonk, bue rathe  thach the  ta cfng forkthe endlers immensity of the ehag\n",
      "batch_pred_data_str :  p son dant ta luild a sher, drn't arum up people together th loglect aond a d don't assign ther tasks and dook, dui dather thach ther aagceog forkthersndlessiimmensith oflthershig\n",
      "batch_pred_data_str :  p eon dant to luild anshep, don't aoum up people togethem t  loglect aood and aon't assign them tosks and dook, dut rathem tosch them aa lfog for themsndless immensity of themshnc\n",
      "batch_pred_data_str :  p eou tant to lutld anship, uon't aoum up people tog shem to loolect aood and aon't assign them tosks and aoo , but rathem tosch them ao lfog for themsndless immensity of themshnc\n",
      "batch_pred_data_str :  p tou tant torbuild anship, uon't aoum up people tol them to bogle t aood and aon't assign them tosks and aook, but rathem toach them ao boog for themendless immensity oo themehsc\n",
      "batch_pred_data_str :  p you tant to butld anship, uon't arum up people tol ther to bolle t aood and aon't assign ther tosks and aook, but rather toach ther to bo t for therendless immensity oo thereesc\n",
      "batch_pred_data_str :  f you tant to lutld anship, uon't arum up perple tolether th collect aord and aon't assign ther tosks and aork, but rather thach ther to long forktherendless immens ty of thereeac\n",
      "batch_pred_data_str :  f you tant to cutld anship, don't arum up perple tolether th collect aord and aon't assign ther tosks and aork, but rather thach ther to long forktherendless immens ty pf thereeac\n",
      "batch_pred_data_str :  f yon tant to cutld a ship, uon't doum up people togethem th collect dood and aon't dssign them tosks and aook, dui rathem thach them to con' forkthemendless immensity oo themeeac\n",
      "batch_pred_data_str :  f yon want to cuild a ship, uon't aoum up peop e togethem to collect aood a d aon't assign toem tosks and aook, bui rathem toach them to cong for themendless immensity oo themehac\n",
      "batch_pred_data_str :  g yon wont to cuild a ship, bon't aoum up peop e togethem to collect aood a d aon't assign them tosks and aook, bui rathem toach them to cong for themendless immensity of themehag\n",
      "batch_pred_data_str :  g you wont to build a ship, bon't aoum up people together to lollect aood a d won't assign ther tosks and aook, bui rather toach ther to bong for thersndless immensity of thershag\n",
      "batch_pred_data_str :  g you want to build a ship, bon't aoum up people together to lollect aood a d aon't assign ther tosks and aook, bui rather toach ther to long for thersndless immensity of thershac\n",
      "batch_pred_data_str :  g you tant to luild a ship, don't doum up people to ether to lollect dood and aon't dssign ther tosks and aook, bui rather toach ther to long for thersndless immensity of thershac\n",
      "batch_pred_data_str :  l you tant to luild a ship, don't doum up people togethem to lollect dood and ton't dssign them tosks and aook, but rather toach them to lfng for themsndless immensity of themshac\n",
      "batch_pred_data_str :  l toudtant to cuild a ship, don't doum up people tolethem to lollect dood and ton't dssign them tosks and aook, but rather toach them to long for themsndless immensity of themshac\n",
      "batch_pred_data_str :  l toudtant to cuild a ship, don't drum up people tolether to bollect dood and won't dssign them tosks and aook, but rather toach them to bong for themendless immensity of themehac\n",
      "batch_pred_data_str :  l youdtant to build a ship, don't wrum up people tolether to bollect wood and aon't wssign ther tosks and aook, but rather toach them to bong for themendless immensity of themeeac\n",
      "batch_pred_data_str :  l youdtant to build a ship, don't drum up people tolether te bollect dood and aon't dssign them tosks and aook, bui rather teach them to bong for themendless immensity of themeeac\n",
      "batch_pred_data_str :  f sou tant to build a ship, don't drum up people tolether te bollect dood and aon't dssign them tosks and aook, bui rather teach them to bong for themendless immensity of themeea.\n",
      "batch_pred_data_str :  f sou want to build a ship, don't drum up people tolether te lollect dood and aon't dssign them tosks and aook, bui rather teach them to long for themendless immensity of themeea.\n",
      "batch_pred_data_str :  l you want to luild a ship, don't drum up people together te lollect dood and aon't dssign them tosks and aook, bui rather teach them to long for themendless immensity of themeea.\n",
      "batch_pred_data_str :  l you want to cuild a ship, don't drum up people to ether to lollect dood and aon't dssign them tosks and aook, bui rather toach them to long for themendless immensity of themeea.\n",
      "batch_pred_data_str :  m you want to cuild a ship, don't drum up people to ether to collect dood and aon't dssign them tosks and aook, bui rather toach them to cong for the endless immensity of the eha.\n",
      "batch_pred_data_str :  m you tant to cuild a ship, don't drum up people to ether to collect dood and aon't dssign them tosks and aook, but rather toach them to cong for the endless immensity of the eha.\n",
      "batch_pred_data_str :  m you tant to build a ship, don't drum up people to ether to bollect dood and aon't dssign them tosks and aook, but rather toach them to bong for the endless immensity of the eha.\n",
      "batch_pred_data_str :  m you tant to build a ship, don't drum up people together to bollect dood and aon't dssign them tosks and aook, but rather toach them to bong for the endless immensity of the eha.\n",
      "batch_pred_data_str :  m you tant to build a ship, don't drum up people together to lollect dood and aon't dssign them tosks and aook, but rather toach them to long for the endless immensity of the eha.\n",
      "batch_pred_data_str :  m you tant to luild a ship, don't drum up people together to lollect dood and aon't dssign them tosks and aook, but rather toach them to long for the endless immensity of the eha.\n",
      "batch_pred_data_str :  m you tant to luild a ship, don't drum up people together to lollect dood and aon't dssign them tosks and aook, but rather toach them to long for the endless immensity of the eea.\n",
      "batch_pred_data_str :  p you tant to luild a ship, don't drum up people together to lollect dood and aon't dssign them tosks and aook, but rather toach them to long for the endless immensity of the eea.\n",
      "batch_pred_data_str :  p you tant to cuild a ship, don't drum up people together to lollect dood and aon't dssign them tosks and aook, but rather toach them to long for the endless immensity of the eea.\n",
      "batch_pred_data_str :  g you tant to build a ship, don't drum up people together te lollect dood and won't dssign them tosks and aook, but rather teach them to long for the endless immensity of the eea.\n",
      "batch_pred_data_str :  g you want to build a ship, don't arum up people together to lollect aood and won't assign them tosks and aook, but rather toach them to long for the endless immensity of the eea.\n",
      "batch_pred_data_str :  g you tant to build a ship, don't arum up people together to lollect aood and won't assign them tosks and aook, but rather toach them to long for the endless immensity of the eea.\n",
      "batch_pred_data_str :  g you tant to build a ship, don't drum up people together to lollect dood and won't dssign them tosks and aook, but rather toach them to long for the endless immensity of the eea.\n",
      "batch_pred_data_str :  f you tant to build a ship, don't drum up people together to lollect dood and aon't dssign them tosks and aook, but rather toach them to long for the sndless immensity of the sea.\n",
      "batch_pred_data_str :  f you tant to build a ship, don't drum up people together to lollect dood and aon't dssign them tosks and aook, but rather toach them to long for the endless immensity of the sea.\n",
      "batch_pred_data_str :  f you tant to build a ship, don't drum up people together to lollect aood and aon't assign them tosks and aook, but rather toach them to long for the endless immensity of the eea.\n",
      "batch_pred_data_str :  f you tant to build a ship, don't arum up people together to lollect aood and aon't assign them tosks and aook, but rather toach them to long for the endless immensity of the eea.\n",
      "batch_pred_data_str :  g you want to build a ship, don't arum up people together to lollect aood and aon't assign them tosks and aook, but rather toach them to long for the endless immensity of the eea.\n",
      "batch_pred_data_str :  g you want to build a ship, don't arum up people together to lollect aood and aon't assign them tosks and aook, but rather toach them to long for the endless immensity of the eea.\n",
      "batch_pred_data_str :  g you want to build a ship, don't arum up people together to lollect aood and aon't assign them tosks and aook, but rather toach them to long for the endless immensity of the eea.\n",
      "batch_pred_data_str :  g you want to build a ship, don't drum up people together to lollect dood and aon't dssign them tosks and aook, but rather toach them to long for the endless immensity of the eea.\n",
      "batch_pred_data_str :  g you want to build a ship, don't drum up people together to lollect dood and aon't dssign them tosks and aook, but rather toach them to long for the endless immensity of the eea.\n",
      "batch_pred_data_str :  g you want to build a ship, don't drum up people together to lollect dood and aon't dssign them tosks and wook, but rather toach them to long for the endless immensity of the eea.\n",
      "batch_pred_data_str :  p you want to build a ship, don't arum up people together to collect aood and aon't assign them tosks and aook, but rather toach them to cong for the endless immensity of the eea.\n",
      "batch_pred_data_str :  p you want to build a ship, don't arum up people together to lollect aood and aon't assign them tasks and aook, but rather toach them to long for the endless immensity of the eea.\n",
      "batch_pred_data_str :  p you want to build a ship, don't arum up people together to lollect aood and aon't assign them tasks and aook, but rather toach them to long for the endless immensity of the eea.\n",
      "batch_pred_data_str :  p you want to build a ship, don't drum up people together to lollect wood and aon't assign them tosks and aook, but rather toach them to long for the endless immensity of the eea.\n",
      "batch_pred_data_str :  p you want to build a ship, don't drum up people together to lollect wood and won't dssign them tasks and aook, but rather toach them to long for the endless immensity of the eea.\n",
      "batch_pred_data_str :  p you want to build a ship, don't drum up people together to lollect wood and aon't dssign them tasks and aook, but rather toach them to long for the endless immensity of the eea.\n",
      "batch_pred_data_str :  p you want to build a ship, don't drum up people together to lollect wood and aon't dssign them tasks and aook, but rather toach them to long for the endless immensity of the eea.\n",
      "batch_pred_data_str :  m you want to build a ship, don't drum up people together to lollect wood and aon't dssign them tasks and aook, but rather toach them to long for the endless immensity of the eea.\n",
      "batch_pred_data_str :  m you want to build a ship, don't drum up people together te lollect wood and aon't assign them tosks and aook, but rather toach them to long for the endless immensity of the eea.\n",
      "batch_pred_data_str :  m you want to build a ship, don't drum up people together te lollect wood and aon't assign them tosks and aook, but rather teach them to long for the endless immensity of the eea.\n",
      "batch_pred_data_str :  f you want to build a ship, don't arum up people together te lollect wood and aon't assign them tosks and aook, but rather teach them to long for the endless immensity of the eea.\n",
      "batch_pred_data_str :  f you want to build a ship, don't arum up people together te lollect wood and won't assign them tasks and aork, but rather teach them to long for the endless immensity of the eea.\n",
      "batch_pred_data_str :  f you want to build a ship, don't arum up people together te lollect wood and won't assign them tasks and aork, but rather teach them to long for the endless immensity of the eea.\n",
      "batch_pred_data_str :  m you want to build a ship, don't arum up people together te lollect wood and won't assign them tasks and aork, but rather teach them to long for the endless immensity of the eea.\n",
      "batch_pred_data_str :  g you want to build a ship, don't arum up people together to lollect wood and aon't assign them tasks and aork, but rather toach them to long for the sndless immensity of the sea.\n",
      "batch_pred_data_str :  g you want to build a ship, don't arum up people together to lollect wood and aon't assign them tasks and aork, but rather toach them to long for the sndless immensity of the sea.\n",
      "batch_pred_data_str :  g you want to build a ship, don't arum up people together to lollect wood and won't assign them tasks and aork, but rather toach them to long for the sndless immensity of the sea.\n",
      "batch_pred_data_str :  g you want to build a ship, don't arum up people together to lollect wood and won't assign them tasks and aork, but rather toach them to long for the sndless immensity of the sea.\n",
      "batch_pred_data_str :  g you want to build a ship, don't arum up people together to collect wood and won't assign them tasks and aork, but rather toach them to long for the endless immensity of the eea.\n",
      "batch_pred_data_str :  g you want to build a ship, don't arum up people together to collect wood and won't assign them tasks and aork, but rather toach them to long for the endless immensity of the eea.\n",
      "batch_pred_data_str :  g you want to build a ship, don't arum up people together to collect wood and won't assign them tasks and aork, but rather toach them to long for the endless immensity of the eea.\n"
     ]
    }
   ],
   "source": [
    "# (1) Epoch 순회\n",
    "for i in range(100):\n",
    "    # 1] 모델 예측\n",
    "    y_pred = net(x_train) # outputs = y_pred\n",
    "    \"\"\"\n",
    "    print(f\"y_pred.size() : {y_pred.size()}\") # torch.Size([170, 10, 25])\n",
    "    print(f\"input_size : {input_size}\") # 25\n",
    "    print(f\"y_pred.view(-1, input_size).size() : {y_pred.view(-1, input_size).size()}\") # torch.Size([1700, 25])\n",
    "    print(f\"y_pred.view(-1, input_size)[0] : {y_pred.view(-1, input_size)[0]}\") # tensor([-0.1648,  0.1511,  0.0908,  0.3193, -0.0533, -0.1044, -0.1668,  0.3143, 0.0613, -0.0017, -0.2346,  0.0379,  0.3102,  0.1924, -0.0051, -0.0549, -0.1215, -0.0656,  0.1834,  0.0720, -0.2839, -0.2851,  0.0314,  0.0024, 0.0470], grad_fn=<SelectBackward0>)\n",
    "    print(f\"y_train.view(-1).size : {y_train.view(-1).size()}\") # torch.Size([1700])\n",
    "    \"\"\"\n",
    "    # 2] Cost 계산\n",
    "    loss = criterion(y_pred.view(-1, input_size), y_train.view(-1)) # torch.Size([1700, 25]), torch.Size([1700])\n",
    "    # 3] 모델 역전파\n",
    "    optimizer.zero_grad()\n",
    "    loss.backward()\n",
    "    optimizer.step()\n",
    "\n",
    "    # 4] 예측값 Int\n",
    "    batch_pred_data_int = y_pred.argmax(dim=2)\n",
    "    \"\"\"\n",
    "    print(f\"y_pred.data.numpy().shape : {y_pred.data.numpy().shape}\") # (170, 10, 25)\n",
    "    print(f\"batch_pred_data_int : {batch_pred_data_int}\")\n",
    "    tensor([[ 3,  3, 13,  ...,  7, 13,  7],\n",
    "        [12, 13, 13,  ..., 13,  7, 13],\n",
    "        [ 3, 13,  7,  ...,  7, 13,  7],\n",
    "        ...,\n",
    "        [12, 13, 13,  ..., 13, 18,  7],\n",
    "        [ 3, 13,  3,  ..., 18,  7,  7],\n",
    "        [12,  3, 13,  ...,  7,  7,  7]])\n",
    "    print(f\"batch_pred_data_int.shape : {batch_pred_data_int.shape}\") # torch.Size([170, 10])\n",
    "    print(f\"np.squeeze(batch_pred_data_int).shape : {np.squeeze(batch_pred_data_int).shape}\") # torch.Size([170, 10])\n",
    "    \"\"\"\n",
    "    # 5] 예측값 Str\n",
    "    batch_pred_data_str = \"\"\n",
    "    for j, pred_data_int in enumerate(batch_pred_data_int):\n",
    "        # print(i, j, ''.join([char_set[t] for t in result]), loss.item())\n",
    "        # 첫 예측 : 예측 결과 전부 가져오기 !!!\n",
    "        if j == 0:\n",
    "            batch_pred_data_str += ''.join([char_set[t] for t in pred_data_int])\n",
    "        # 이후 예측 : 이전 예측 결과와 중첩되는 부분을 제외하고, 예측 결과의 마지막 부분만 가져오기 !!!\n",
    "        else:\n",
    "            batch_pred_data_str += char_set[pred_data_int[-1]]\n",
    "\n",
    "    # print(\"epoch : \", i, \"loss : \", loss.item(), \"batch_pred_data_int : \", batch_pred_data_int, \"true_data : \", y_data)\n",
    "    print(\"batch_pred_data_str : \", batch_pred_data_str)"
   ]
  }
 ],
 "metadata": {
  "kernelspec": {
   "display_name": "Python 3",
   "language": "python",
   "name": "python3"
  },
  "language_info": {
   "codemirror_mode": {
    "name": "ipython",
    "version": 3
   },
   "file_extension": ".py",
   "mimetype": "text/x-python",
   "name": "python",
   "nbconvert_exporter": "python",
   "pygments_lexer": "ipython3",
   "version": "3.9.15"
  }
 },
 "nbformat": 4,
 "nbformat_minor": 2
}
