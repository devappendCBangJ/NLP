{
 "cells": [
  {
   "attachments": {},
   "cell_type": "markdown",
   "metadata": {},
   "source": [
    "##### 0) 라이브러리 불러오기"
   ]
  },
  {
   "cell_type": "code",
   "execution_count": 10,
   "metadata": {},
   "outputs": [],
   "source": [
    "# (1) 기본 라이브러리\n",
    "import numpy as np\n",
    "\n",
    "# (2) 머신러닝 라이브러리\n",
    "import torch\n",
    "import torch.optim as optim"
   ]
  },
  {
   "cell_type": "code",
   "execution_count": 11,
   "metadata": {},
   "outputs": [
    {
     "data": {
      "text/plain": [
       "<torch._C.Generator at 0x1eda8bd78d0>"
      ]
     },
     "execution_count": 11,
     "metadata": {},
     "output_type": "execute_result"
    }
   ],
   "source": [
    "torch.manual_seed(0)"
   ]
  },
  {
   "attachments": {},
   "cell_type": "markdown",
   "metadata": {},
   "source": [
    "##### 1) 데이터 불러오기"
   ]
  },
  {
   "cell_type": "code",
   "execution_count": 12,
   "metadata": {},
   "outputs": [],
   "source": [
    "char_set = ['h', 'i', 'e', 'l', 'o']"
   ]
  },
  {
   "attachments": {},
   "cell_type": "markdown",
   "metadata": {},
   "source": [
    "##### 2) 하이퍼파라미터 정의"
   ]
  },
  {
   "cell_type": "code",
   "execution_count": 13,
   "metadata": {},
   "outputs": [],
   "source": [
    "input_size = len(char_set)\n",
    "hidden_size = len(char_set)\n",
    "learning_rate = 0.1"
   ]
  },
  {
   "attachments": {},
   "cell_type": "markdown",
   "metadata": {},
   "source": [
    "##### 3) 데이터 전처리"
   ]
  },
  {
   "attachments": {},
   "cell_type": "markdown",
   "metadata": {},
   "source": [
    "(1) Data Split"
   ]
  },
  {
   "cell_type": "code",
   "execution_count": 14,
   "metadata": {},
   "outputs": [],
   "source": [
    "x_data = [[0, 1, 0, 2, 3, 3]] # h i h e l l\n",
    "x_one_hot = [[[1, 0, 0, 0, 0], # h i h e l l\n",
    "              [0, 1, 0, 0, 0],\n",
    "              [1, 0, 0, 0, 0],\n",
    "              [0, 0, 1, 0, 0],\n",
    "              [0, 0, 0, 1, 0],\n",
    "              [0, 0, 0, 1, 0]]]\n",
    "y_data = [[1, 0, 2, 3, 3, 4]] # i h e l l o"
   ]
  },
  {
   "attachments": {},
   "cell_type": "markdown",
   "metadata": {},
   "source": [
    "(2) List -> Tensor"
   ]
  },
  {
   "cell_type": "code",
   "execution_count": 15,
   "metadata": {},
   "outputs": [],
   "source": [
    "x_train = torch.FloatTensor(x_one_hot) # X = x_train # !!\n",
    "y_train = torch.LongTensor(y_data) # Y = y_train # !!"
   ]
  },
  {
   "attachments": {},
   "cell_type": "markdown",
   "metadata": {},
   "source": [
    "##### 4) 모델 선언 (RNN)"
   ]
  },
  {
   "cell_type": "code",
   "execution_count": 16,
   "metadata": {},
   "outputs": [],
   "source": [
    "rnn = torch.nn.RNN(input_size, hidden_size, batch_first=True) # (Batch, Sequence, Input_Size) # !!"
   ]
  },
  {
   "attachments": {},
   "cell_type": "markdown",
   "metadata": {},
   "source": [
    "##### 5) Optimizer + Loss Function 정의"
   ]
  },
  {
   "cell_type": "code",
   "execution_count": 17,
   "metadata": {},
   "outputs": [],
   "source": [
    "# loss & optimizer setting\n",
    "criterion = torch.nn.CrossEntropyLoss()\n",
    "optimizer = optim.Adam(rnn.parameters(), learning_rate)"
   ]
  },
  {
   "attachments": {},
   "cell_type": "markdown",
   "metadata": {},
   "source": [
    "##### 6) 모델 학습"
   ]
  },
  {
   "cell_type": "code",
   "execution_count": 18,
   "metadata": {},
   "outputs": [
    {
     "name": "stdout",
     "output_type": "stream",
     "text": [
      "epoch :  0 loss :  1.7802648544311523 prediction :  [[1 1 1 1 1 1]] true Y :  [[1, 0, 2, 3, 3, 4]] prediction str :  iiiiii\n",
      "epoch :  1 loss :  1.4931949377059937 prediction :  [[1 4 1 1 4 4]] true Y :  [[1, 0, 2, 3, 3, 4]] prediction str :  ioiioo\n",
      "epoch :  2 loss :  1.3337111473083496 prediction :  [[1 3 2 3 1 4]] true Y :  [[1, 0, 2, 3, 3, 4]] prediction str :  ilelio\n",
      "epoch :  3 loss :  1.2152944803237915 prediction :  [[2 3 2 3 3 3]] true Y :  [[1, 0, 2, 3, 3, 4]] prediction str :  elelll\n",
      "epoch :  4 loss :  1.1131387948989868 prediction :  [[2 3 2 3 3 3]] true Y :  [[1, 0, 2, 3, 3, 4]] prediction str :  elelll\n",
      "epoch :  5 loss :  1.024186372756958 prediction :  [[2 3 2 3 3 4]] true Y :  [[1, 0, 2, 3, 3, 4]] prediction str :  elello\n",
      "epoch :  6 loss :  0.9573140740394592 prediction :  [[2 3 2 3 3 4]] true Y :  [[1, 0, 2, 3, 3, 4]] prediction str :  elello\n",
      "epoch :  7 loss :  0.9102001190185547 prediction :  [[2 0 2 3 3 4]] true Y :  [[1, 0, 2, 3, 3, 4]] prediction str :  ehello\n",
      "epoch :  8 loss :  0.8731765747070312 prediction :  [[1 0 2 3 3 4]] true Y :  [[1, 0, 2, 3, 3, 4]] prediction str :  ihello\n",
      "epoch :  9 loss :  0.8399617671966553 prediction :  [[1 0 2 3 3 4]] true Y :  [[1, 0, 2, 3, 3, 4]] prediction str :  ihello\n",
      "epoch :  10 loss :  0.8088943362236023 prediction :  [[1 0 2 3 3 4]] true Y :  [[1, 0, 2, 3, 3, 4]] prediction str :  ihello\n",
      "epoch :  11 loss :  0.7812860012054443 prediction :  [[1 0 2 3 3 4]] true Y :  [[1, 0, 2, 3, 3, 4]] prediction str :  ihello\n",
      "epoch :  12 loss :  0.7585341930389404 prediction :  [[1 3 2 3 3 4]] true Y :  [[1, 0, 2, 3, 3, 4]] prediction str :  ilello\n",
      "epoch :  13 loss :  0.740128755569458 prediction :  [[1 3 2 3 3 4]] true Y :  [[1, 0, 2, 3, 3, 4]] prediction str :  ilello\n",
      "epoch :  14 loss :  0.7243585586547852 prediction :  [[1 3 2 3 3 4]] true Y :  [[1, 0, 2, 3, 3, 4]] prediction str :  ilello\n",
      "epoch :  15 loss :  0.709122359752655 prediction :  [[1 3 2 3 3 4]] true Y :  [[1, 0, 2, 3, 3, 4]] prediction str :  ilello\n",
      "epoch :  16 loss :  0.6929273009300232 prediction :  [[1 3 2 3 3 4]] true Y :  [[1, 0, 2, 3, 3, 4]] prediction str :  ilello\n",
      "epoch :  17 loss :  0.6821203231811523 prediction :  [[1 3 2 3 3 4]] true Y :  [[1, 0, 2, 3, 3, 4]] prediction str :  ilello\n",
      "epoch :  18 loss :  0.673527717590332 prediction :  [[1 3 2 3 3 4]] true Y :  [[1, 0, 2, 3, 3, 4]] prediction str :  ilello\n",
      "epoch :  19 loss :  0.6595445871353149 prediction :  [[1 3 2 3 3 4]] true Y :  [[1, 0, 2, 3, 3, 4]] prediction str :  ilello\n",
      "epoch :  20 loss :  0.6534827947616577 prediction :  [[1 3 2 3 3 4]] true Y :  [[1, 0, 2, 3, 3, 4]] prediction str :  ilello\n",
      "epoch :  21 loss :  0.6465460658073425 prediction :  [[1 3 2 3 3 4]] true Y :  [[1, 0, 2, 3, 3, 4]] prediction str :  ilello\n",
      "epoch :  22 loss :  0.639818549156189 prediction :  [[1 3 2 3 3 4]] true Y :  [[1, 0, 2, 3, 3, 4]] prediction str :  ilello\n",
      "epoch :  23 loss :  0.6381519436836243 prediction :  [[1 3 2 3 3 4]] true Y :  [[1, 0, 2, 3, 3, 4]] prediction str :  ilello\n",
      "epoch :  24 loss :  0.6326725482940674 prediction :  [[1 3 2 3 3 4]] true Y :  [[1, 0, 2, 3, 3, 4]] prediction str :  ilello\n",
      "epoch :  25 loss :  0.6256729960441589 prediction :  [[1 3 2 3 3 4]] true Y :  [[1, 0, 2, 3, 3, 4]] prediction str :  ilello\n",
      "epoch :  26 loss :  0.6215081214904785 prediction :  [[1 3 2 3 3 4]] true Y :  [[1, 0, 2, 3, 3, 4]] prediction str :  ilello\n",
      "epoch :  27 loss :  0.616705596446991 prediction :  [[1 3 2 3 3 4]] true Y :  [[1, 0, 2, 3, 3, 4]] prediction str :  ilello\n",
      "epoch :  28 loss :  0.609936535358429 prediction :  [[1 3 2 3 3 4]] true Y :  [[1, 0, 2, 3, 3, 4]] prediction str :  ilello\n",
      "epoch :  29 loss :  0.6030198931694031 prediction :  [[1 3 2 3 3 4]] true Y :  [[1, 0, 2, 3, 3, 4]] prediction str :  ilello\n",
      "epoch :  30 loss :  0.5992398858070374 prediction :  [[1 3 2 3 3 4]] true Y :  [[1, 0, 2, 3, 3, 4]] prediction str :  ilello\n",
      "epoch :  31 loss :  0.5964338779449463 prediction :  [[1 3 2 3 3 4]] true Y :  [[1, 0, 2, 3, 3, 4]] prediction str :  ilello\n",
      "epoch :  32 loss :  0.5916647911071777 prediction :  [[1 3 2 3 3 4]] true Y :  [[1, 0, 2, 3, 3, 4]] prediction str :  ilello\n",
      "epoch :  33 loss :  0.5881564021110535 prediction :  [[1 3 2 3 3 4]] true Y :  [[1, 0, 2, 3, 3, 4]] prediction str :  ilello\n",
      "epoch :  34 loss :  0.585434079170227 prediction :  [[1 3 2 3 3 4]] true Y :  [[1, 0, 2, 3, 3, 4]] prediction str :  ilello\n",
      "epoch :  35 loss :  0.5813191533088684 prediction :  [[1 3 2 3 3 4]] true Y :  [[1, 0, 2, 3, 3, 4]] prediction str :  ilello\n",
      "epoch :  36 loss :  0.5761869549751282 prediction :  [[1 3 2 3 3 4]] true Y :  [[1, 0, 2, 3, 3, 4]] prediction str :  ilello\n",
      "epoch :  37 loss :  0.5734921097755432 prediction :  [[1 3 2 3 3 4]] true Y :  [[1, 0, 2, 3, 3, 4]] prediction str :  ilello\n",
      "epoch :  38 loss :  0.5727558732032776 prediction :  [[1 3 2 3 3 4]] true Y :  [[1, 0, 2, 3, 3, 4]] prediction str :  ilello\n",
      "epoch :  39 loss :  0.5682086944580078 prediction :  [[1 3 2 3 3 4]] true Y :  [[1, 0, 2, 3, 3, 4]] prediction str :  ilello\n",
      "epoch :  40 loss :  0.5656264424324036 prediction :  [[1 3 2 3 3 4]] true Y :  [[1, 0, 2, 3, 3, 4]] prediction str :  ilello\n",
      "epoch :  41 loss :  0.5647333860397339 prediction :  [[1 3 2 3 3 4]] true Y :  [[1, 0, 2, 3, 3, 4]] prediction str :  ilello\n",
      "epoch :  42 loss :  0.5629468560218811 prediction :  [[1 3 2 3 3 4]] true Y :  [[1, 0, 2, 3, 3, 4]] prediction str :  ilello\n",
      "epoch :  43 loss :  0.560376763343811 prediction :  [[1 3 2 3 3 4]] true Y :  [[1, 0, 2, 3, 3, 4]] prediction str :  ilello\n",
      "epoch :  44 loss :  0.5588172078132629 prediction :  [[1 3 2 3 3 4]] true Y :  [[1, 0, 2, 3, 3, 4]] prediction str :  ilello\n",
      "epoch :  45 loss :  0.5584633946418762 prediction :  [[1 3 2 3 3 4]] true Y :  [[1, 0, 2, 3, 3, 4]] prediction str :  ilello\n",
      "epoch :  46 loss :  0.5565399527549744 prediction :  [[1 3 2 3 3 4]] true Y :  [[1, 0, 2, 3, 3, 4]] prediction str :  ilello\n",
      "epoch :  47 loss :  0.5548030734062195 prediction :  [[1 3 2 3 3 4]] true Y :  [[1, 0, 2, 3, 3, 4]] prediction str :  ilello\n",
      "epoch :  48 loss :  0.5542734861373901 prediction :  [[1 3 2 3 3 4]] true Y :  [[1, 0, 2, 3, 3, 4]] prediction str :  ilello\n",
      "epoch :  49 loss :  0.5534440875053406 prediction :  [[1 3 2 3 3 4]] true Y :  [[1, 0, 2, 3, 3, 4]] prediction str :  ilello\n",
      "epoch :  50 loss :  0.552009642124176 prediction :  [[1 3 2 3 3 4]] true Y :  [[1, 0, 2, 3, 3, 4]] prediction str :  ilello\n",
      "epoch :  51 loss :  0.5510937571525574 prediction :  [[1 3 2 3 3 4]] true Y :  [[1, 0, 2, 3, 3, 4]] prediction str :  ilello\n",
      "epoch :  52 loss :  0.5506716370582581 prediction :  [[1 3 2 3 3 4]] true Y :  [[1, 0, 2, 3, 3, 4]] prediction str :  ilello\n",
      "epoch :  53 loss :  0.5493642687797546 prediction :  [[1 3 2 3 3 4]] true Y :  [[1, 0, 2, 3, 3, 4]] prediction str :  ilello\n",
      "epoch :  54 loss :  0.5483369827270508 prediction :  [[1 3 2 3 3 4]] true Y :  [[1, 0, 2, 3, 3, 4]] prediction str :  ilello\n",
      "epoch :  55 loss :  0.5478050112724304 prediction :  [[1 3 2 3 3 4]] true Y :  [[1, 0, 2, 3, 3, 4]] prediction str :  ilello\n",
      "epoch :  56 loss :  0.5469383597373962 prediction :  [[1 3 2 3 3 4]] true Y :  [[1, 0, 2, 3, 3, 4]] prediction str :  ilello\n",
      "epoch :  57 loss :  0.5459226965904236 prediction :  [[1 3 2 3 3 4]] true Y :  [[1, 0, 2, 3, 3, 4]] prediction str :  ilello\n",
      "epoch :  58 loss :  0.5454026460647583 prediction :  [[1 3 2 3 3 4]] true Y :  [[1, 0, 2, 3, 3, 4]] prediction str :  ilello\n",
      "epoch :  59 loss :  0.5448521971702576 prediction :  [[1 3 2 3 3 4]] true Y :  [[1, 0, 2, 3, 3, 4]] prediction str :  ilello\n",
      "epoch :  60 loss :  0.543980598449707 prediction :  [[1 3 2 3 3 4]] true Y :  [[1, 0, 2, 3, 3, 4]] prediction str :  ilello\n",
      "epoch :  61 loss :  0.5434583425521851 prediction :  [[1 3 2 3 3 4]] true Y :  [[1, 0, 2, 3, 3, 4]] prediction str :  ilello\n",
      "epoch :  62 loss :  0.5429834723472595 prediction :  [[1 3 2 3 3 4]] true Y :  [[1, 0, 2, 3, 3, 4]] prediction str :  ilello\n",
      "epoch :  63 loss :  0.5422742962837219 prediction :  [[1 3 2 3 3 4]] true Y :  [[1, 0, 2, 3, 3, 4]] prediction str :  ilello\n",
      "epoch :  64 loss :  0.5417041778564453 prediction :  [[1 3 2 3 3 4]] true Y :  [[1, 0, 2, 3, 3, 4]] prediction str :  ilello\n",
      "epoch :  65 loss :  0.5413309931755066 prediction :  [[1 3 2 3 3 4]] true Y :  [[1, 0, 2, 3, 3, 4]] prediction str :  ilello\n",
      "epoch :  66 loss :  0.5407489538192749 prediction :  [[1 3 2 3 3 4]] true Y :  [[1, 0, 2, 3, 3, 4]] prediction str :  ilello\n",
      "epoch :  67 loss :  0.5402577519416809 prediction :  [[1 3 2 3 3 4]] true Y :  [[1, 0, 2, 3, 3, 4]] prediction str :  ilello\n",
      "epoch :  68 loss :  0.5399190783500671 prediction :  [[1 3 2 3 3 4]] true Y :  [[1, 0, 2, 3, 3, 4]] prediction str :  ilello\n",
      "epoch :  69 loss :  0.5394624471664429 prediction :  [[1 3 2 3 3 4]] true Y :  [[1, 0, 2, 3, 3, 4]] prediction str :  ilello\n",
      "epoch :  70 loss :  0.539009153842926 prediction :  [[1 3 2 3 3 4]] true Y :  [[1, 0, 2, 3, 3, 4]] prediction str :  ilello\n",
      "epoch :  71 loss :  0.5387027859687805 prediction :  [[1 3 2 3 3 4]] true Y :  [[1, 0, 2, 3, 3, 4]] prediction str :  ilello\n",
      "epoch :  72 loss :  0.5383160710334778 prediction :  [[1 3 2 3 3 4]] true Y :  [[1, 0, 2, 3, 3, 4]] prediction str :  ilello\n",
      "epoch :  73 loss :  0.5379177331924438 prediction :  [[1 3 2 3 3 4]] true Y :  [[1, 0, 2, 3, 3, 4]] prediction str :  ilello\n",
      "epoch :  74 loss :  0.5376289486885071 prediction :  [[1 3 2 3 3 4]] true Y :  [[1, 0, 2, 3, 3, 4]] prediction str :  ilello\n",
      "epoch :  75 loss :  0.5372946858406067 prediction :  [[1 3 2 3 3 4]] true Y :  [[1, 0, 2, 3, 3, 4]] prediction str :  ilello\n",
      "epoch :  76 loss :  0.536936342716217 prediction :  [[1 3 2 3 3 4]] true Y :  [[1, 0, 2, 3, 3, 4]] prediction str :  ilello\n",
      "epoch :  77 loss :  0.536663830280304 prediction :  [[1 3 2 3 3 4]] true Y :  [[1, 0, 2, 3, 3, 4]] prediction str :  ilello\n",
      "epoch :  78 loss :  0.5363661050796509 prediction :  [[1 3 2 3 3 4]] true Y :  [[1, 0, 2, 3, 3, 4]] prediction str :  ilello\n",
      "epoch :  79 loss :  0.5360466837882996 prediction :  [[1 3 2 3 3 4]] true Y :  [[1, 0, 2, 3, 3, 4]] prediction str :  ilello\n",
      "epoch :  80 loss :  0.535793125629425 prediction :  [[1 3 2 3 3 4]] true Y :  [[1, 0, 2, 3, 3, 4]] prediction str :  ilello\n",
      "epoch :  81 loss :  0.5355224013328552 prediction :  [[1 3 2 3 3 4]] true Y :  [[1, 0, 2, 3, 3, 4]] prediction str :  ilello\n",
      "epoch :  82 loss :  0.535235583782196 prediction :  [[1 3 2 3 3 4]] true Y :  [[1, 0, 2, 3, 3, 4]] prediction str :  ilello\n",
      "epoch :  83 loss :  0.5349992513656616 prediction :  [[1 3 2 3 3 4]] true Y :  [[1, 0, 2, 3, 3, 4]] prediction str :  ilello\n",
      "epoch :  84 loss :  0.5347511172294617 prediction :  [[1 3 2 3 3 4]] true Y :  [[1, 0, 2, 3, 3, 4]] prediction str :  ilello\n",
      "epoch :  85 loss :  0.5344938039779663 prediction :  [[1 3 2 3 3 4]] true Y :  [[1, 0, 2, 3, 3, 4]] prediction str :  ilello\n",
      "epoch :  86 loss :  0.534275472164154 prediction :  [[1 3 2 3 3 4]] true Y :  [[1, 0, 2, 3, 3, 4]] prediction str :  ilello\n",
      "epoch :  87 loss :  0.5340465307235718 prediction :  [[1 3 2 3 3 4]] true Y :  [[1, 0, 2, 3, 3, 4]] prediction str :  ilello\n",
      "epoch :  88 loss :  0.5338149666786194 prediction :  [[1 3 2 3 3 4]] true Y :  [[1, 0, 2, 3, 3, 4]] prediction str :  ilello\n",
      "epoch :  89 loss :  0.5336135625839233 prediction :  [[1 3 2 3 3 4]] true Y :  [[1, 0, 2, 3, 3, 4]] prediction str :  ilello\n",
      "epoch :  90 loss :  0.5334025025367737 prediction :  [[1 3 2 3 3 4]] true Y :  [[1, 0, 2, 3, 3, 4]] prediction str :  ilello\n",
      "epoch :  91 loss :  0.5331950783729553 prediction :  [[1 3 2 3 3 4]] true Y :  [[1, 0, 2, 3, 3, 4]] prediction str :  ilello\n",
      "epoch :  92 loss :  0.5330094695091248 prediction :  [[1 3 2 3 3 4]] true Y :  [[1, 0, 2, 3, 3, 4]] prediction str :  ilello\n",
      "epoch :  93 loss :  0.5328157544136047 prediction :  [[1 3 2 3 3 4]] true Y :  [[1, 0, 2, 3, 3, 4]] prediction str :  ilello\n",
      "epoch :  94 loss :  0.5326293110847473 prediction :  [[1 3 2 3 3 4]] true Y :  [[1, 0, 2, 3, 3, 4]] prediction str :  ilello\n",
      "epoch :  95 loss :  0.5324583053588867 prediction :  [[1 3 2 3 3 4]] true Y :  [[1, 0, 2, 3, 3, 4]] prediction str :  ilello\n",
      "epoch :  96 loss :  0.5322802662849426 prediction :  [[1 3 2 3 3 4]] true Y :  [[1, 0, 2, 3, 3, 4]] prediction str :  ilello\n",
      "epoch :  97 loss :  0.5321123600006104 prediction :  [[1 3 2 3 3 4]] true Y :  [[1, 0, 2, 3, 3, 4]] prediction str :  ilello\n",
      "epoch :  98 loss :  0.5319532752037048 prediction :  [[1 3 2 3 3 4]] true Y :  [[1, 0, 2, 3, 3, 4]] prediction str :  ilello\n",
      "epoch :  99 loss :  0.5317898392677307 prediction :  [[1 3 2 3 3 4]] true Y :  [[1, 0, 2, 3, 3, 4]] prediction str :  ilello\n"
     ]
    }
   ],
   "source": [
    "# (1) Epoch 순회\n",
    "for i in range(100):\n",
    "    # 1] 모델 예측\n",
    "    y_pred, _status = rnn(x_train) # outputs = y_pred # y_pred size : (Batch, Sequence, Input_Size) !!\n",
    "    \"\"\"\n",
    "    print(f\"y_pred.size() : {y_pred.size()}\") # torch.Size([1, 6, 5])\n",
    "    print(f\"input_size : {input_size}\") # 5\n",
    "    print(f\"y_pred.view(-1, input_size).size() : {y_pred.view(-1, input_size).size()}\") # torch.Size([6, 5])\n",
    "    print(f\"y_pred.view(-1, input_size)[0] : {y_pred.view(-1, input_size)[0]}\") # tensor([ 0.0193,  0.5702, -0.2953, -0.2289,  0.2272], grad_fn=<SelectBackward0>)\n",
    "    print(f\"y_train.view(-1).size : {y_train.view(-1).size()}\") # torch.Size([6])\n",
    "    \"\"\"\n",
    "    # 2] Cost 계산\n",
    "    loss = criterion(y_pred.view(-1, input_size), y_train.view(-1)) # torch.Size([6, 5]), torch.Size([6]) !!\n",
    "    # 3] 모델 역전파\n",
    "    optimizer.zero_grad()\n",
    "    loss.backward()\n",
    "    optimizer.step()\n",
    "\n",
    "    # 4] 예측값 Int\n",
    "    pred_data_int = y_pred.data.numpy().argmax(axis=2) # 2번째 차원의 원소들 중에서 가장 큰 값의 인덱스 !!\n",
    "    \"\"\"\n",
    "    print(f\"y_pred.data.numpy().shape : {y_pred.data.numpy().shape}\") # (1, 6, 5)\n",
    "    print(f\"pred_data_int : {pred_data_int}\") # [[1 1 1 1 1 1]]\n",
    "    print(f\"pred_data_int.shape : {pred_data_int.shape}\") # (1, 6)\n",
    "    print(f\"np.squeeze(pred_data_int).shape : {np.squeeze(pred_data_int).shape}\") # (6,)\n",
    "    \"\"\"\n",
    "    # 5] 예측값 Str\n",
    "    pred_data_str = ''.join([char_set[c] for c in np.squeeze(pred_data_int)])\n",
    "\n",
    "    # 6] 결과 출력\n",
    "    print(\"epoch : \", i, \"loss : \", loss.item(), \"pred_data_int : \", pred_data_int, \"true_data : \", y_data, \"pred_data_str : \", pred_data_str)"
   ]
  }
 ],
 "metadata": {
  "kernelspec": {
   "display_name": "Python 3",
   "language": "python",
   "name": "python3"
  },
  "language_info": {
   "codemirror_mode": {
    "name": "ipython",
    "version": 3
   },
   "file_extension": ".py",
   "mimetype": "text/x-python",
   "name": "python",
   "nbconvert_exporter": "python",
   "pygments_lexer": "ipython3",
   "version": "3.9.15"
  }
 },
 "nbformat": 4,
 "nbformat_minor": 2
}
