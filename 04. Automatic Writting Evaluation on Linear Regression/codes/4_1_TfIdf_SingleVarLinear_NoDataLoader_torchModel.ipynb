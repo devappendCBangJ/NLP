{
  "cells": [
    {
      "attachments": {},
      "cell_type": "markdown",
      "metadata": {},
      "source": [
        "##### 0) 라이브러리 불러오기"
      ]
    },
    {
      "cell_type": "code",
      "execution_count": 1,
      "metadata": {
        "id": "LXZtPonD_Nv0"
      },
      "outputs": [],
      "source": [
        "# (1) 기본 라이브러리\n",
        "import pandas as pd\n",
        "import numpy as np\n",
        "\n",
        "# (2) 머신러닝 라이브러리\n",
        "import sklearn\n",
        "from sklearn.feature_extraction.text import TfidfVectorizer\n",
        "import torch\n",
        "import torch.nn.functional as F"
      ]
    },
    {
      "cell_type": "markdown",
      "metadata": {},
      "source": [
        "##### 1) 데이터 불러오기"
      ]
    },
    {
      "cell_type": "code",
      "execution_count": 2,
      "metadata": {
        "id": "an-6VkBp_Xvb"
      },
      "outputs": [],
      "source": [
        "df = pd.read_csv(\"AWE_1000_score.csv\")"
      ]
    },
    {
      "cell_type": "code",
      "execution_count": 3,
      "metadata": {
        "colab": {
          "base_uri": "https://localhost:8080/",
          "height": 312
        },
        "id": "FpgJxnbz_f2W",
        "outputId": "d89d413c-03ef-4adb-ba57-ee8e2e414741"
      },
      "outputs": [
        {
          "data": {
            "text/html": [
              "<div>\n",
              "<style scoped>\n",
              "    .dataframe tbody tr th:only-of-type {\n",
              "        vertical-align: middle;\n",
              "    }\n",
              "\n",
              "    .dataframe tbody tr th {\n",
              "        vertical-align: top;\n",
              "    }\n",
              "\n",
              "    .dataframe thead th {\n",
              "        text-align: right;\n",
              "    }\n",
              "</style>\n",
              "<table border=\"1\" class=\"dataframe\">\n",
              "  <thead>\n",
              "    <tr style=\"text-align: right;\">\n",
              "      <th></th>\n",
              "      <th>Unnamed: 0</th>\n",
              "      <th>id</th>\n",
              "      <th>nationality</th>\n",
              "      <th>sex</th>\n",
              "      <th>title</th>\n",
              "      <th>content</th>\n",
              "      <th>score</th>\n",
              "    </tr>\n",
              "  </thead>\n",
              "  <tbody>\n",
              "    <tr>\n",
              "      <th>0</th>\n",
              "      <td>1</td>\n",
              "      <td>A100000_v01.txt_2.txt</td>\n",
              "      <td>중국</td>\n",
              "      <td>남자</td>\n",
              "      <td>우리 나라의 계절과 날씨</td>\n",
              "      <td>제 나라의 계절은 아주 좋아요. 네 계절이 있습니다. 봄에는 날씨가 좋아요. 꽃이 ...</td>\n",
              "      <td>80</td>\n",
              "    </tr>\n",
              "    <tr>\n",
              "      <th>1</th>\n",
              "      <td>2</td>\n",
              "      <td>A100000_v02.txt_1.txt</td>\n",
              "      <td>중국</td>\n",
              "      <td>여자</td>\n",
              "      <td>주말 이야기</td>\n",
              "      <td>어제 명동에 갔습니다. 친구하고 같이 갔습니다. 가게가 많습니다. 옷가게가 있었습니...</td>\n",
              "      <td>70</td>\n",
              "    </tr>\n",
              "  </tbody>\n",
              "</table>\n",
              "</div>"
            ],
            "text/plain": [
              "   Unnamed: 0                     id nationality sex          title  \\\n",
              "0           1  A100000_v01.txt_2.txt          중국  남자  우리 나라의 계절과 날씨   \n",
              "1           2  A100000_v02.txt_1.txt          중국  여자         주말 이야기   \n",
              "\n",
              "                                             content  score  \n",
              "0  제 나라의 계절은 아주 좋아요. 네 계절이 있습니다. 봄에는 날씨가 좋아요. 꽃이 ...     80  \n",
              "1  어제 명동에 갔습니다. 친구하고 같이 갔습니다. 가게가 많습니다. 옷가게가 있었습니...     70  "
            ]
          },
          "execution_count": 3,
          "metadata": {},
          "output_type": "execute_result"
        }
      ],
      "source": [
        "df.head(2)"
      ]
    },
    {
      "attachments": {},
      "cell_type": "markdown",
      "metadata": {},
      "source": [
        "##### 2) 문장 개수 추출"
      ]
    },
    {
      "cell_type": "code",
      "execution_count": 4,
      "metadata": {
        "id": "N23xVJCG_kYZ"
      },
      "outputs": [],
      "source": [
        "df[\"sentence\"] = df[\"content\"].apply(lambda x: len(x.split(\".\"))) # !!!\n",
        "#df[\"content\"].apply(lambda x: len(x.split(\".\"))).value_counts()"
      ]
    },
    {
      "attachments": {},
      "cell_type": "markdown",
      "metadata": {},
      "source": [
        "##### 3) Corpus 추출"
      ]
    },
    {
      "cell_type": "code",
      "execution_count": 5,
      "metadata": {},
      "outputs": [],
      "source": [
        "corpus = df[\"content\"]"
      ]
    },
    {
      "attachments": {},
      "cell_type": "markdown",
      "metadata": {},
      "source": [
        "##### 4) TF-IDF 추출"
      ]
    },
    {
      "cell_type": "code",
      "execution_count": 6,
      "metadata": {
        "id": "_E_Y_rbX_nRl"
      },
      "outputs": [],
      "source": [
        "vectorizer = TfidfVectorizer()\n",
        "X = vectorizer.fit_transform(corpus)"
      ]
    },
    {
      "cell_type": "code",
      "execution_count": 7,
      "metadata": {
        "colab": {
          "base_uri": "https://localhost:8080/"
        },
        "id": "LibF_Nge8re_",
        "outputId": "ccb14f4a-5195-41e3-ed8a-95d10db3763c"
      },
      "outputs": [
        {
          "data": {
            "text/plain": [
              "8093"
            ]
          },
          "execution_count": 7,
          "metadata": {},
          "output_type": "execute_result"
        }
      ],
      "source": [
        "len(vectorizer.get_feature_names_out())"
      ]
    },
    {
      "cell_type": "code",
      "execution_count": 8,
      "metadata": {
        "colab": {
          "base_uri": "https://localhost:8080/"
        },
        "id": "0ISlYBR_8yyf",
        "outputId": "5262348f-8333-476d-81a8-45c83d600b45"
      },
      "outputs": [
        {
          "data": {
            "text/plain": [
              "<1000x8093 sparse matrix of type '<class 'numpy.float64'>'\n",
              "\twith 34048 stored elements in Compressed Sparse Row format>"
            ]
          },
          "execution_count": 8,
          "metadata": {},
          "output_type": "execute_result"
        }
      ],
      "source": [
        "X"
      ]
    },
    {
      "attachments": {},
      "cell_type": "markdown",
      "metadata": {},
      "source": [
        "##### 5) Content Vector 추출"
      ]
    },
    {
      "cell_type": "code",
      "execution_count": 9,
      "metadata": {
        "id": "UPkm0YW__YG5"
      },
      "outputs": [],
      "source": [
        "df[\"content_vector\"] = X.todense().tolist() # !!!"
      ]
    },
    {
      "cell_type": "code",
      "execution_count": 10,
      "metadata": {},
      "outputs": [
        {
          "data": {
            "text/plain": [
              "0      [0.0, 0.0, 0.0, 0.0, 0.0, 0.0, 0.0, 0.0, 0.0, ...\n",
              "1      [0.0, 0.0, 0.0, 0.0, 0.0, 0.0, 0.0, 0.0, 0.0, ...\n",
              "2      [0.0, 0.0, 0.0, 0.0, 0.0, 0.0, 0.0, 0.0, 0.0, ...\n",
              "3      [0.0, 0.0, 0.0, 0.0, 0.0, 0.0, 0.0, 0.0, 0.0, ...\n",
              "4      [0.0, 0.0, 0.0, 0.0, 0.0, 0.0, 0.0, 0.0, 0.0, ...\n",
              "                             ...                        \n",
              "995    [0.0, 0.0, 0.0, 0.0, 0.0, 0.0, 0.0, 0.0, 0.0, ...\n",
              "996    [0.0, 0.0, 0.0, 0.0, 0.0, 0.0, 0.0, 0.0, 0.0, ...\n",
              "997    [0.0, 0.0, 0.0, 0.0, 0.0, 0.0, 0.0, 0.0, 0.0, ...\n",
              "998    [0.0, 0.0, 0.0, 0.0, 0.0, 0.0, 0.1549718154414...\n",
              "999    [0.0, 0.0, 0.0, 0.0, 0.0, 0.0, 0.0, 0.0, 0.0, ...\n",
              "Name: content_vector, Length: 1000, dtype: object"
            ]
          },
          "execution_count": 10,
          "metadata": {},
          "output_type": "execute_result"
        }
      ],
      "source": [
        "df[\"content_vector\"]"
      ]
    },
    {
      "cell_type": "code",
      "execution_count": 11,
      "metadata": {
        "colab": {
          "base_uri": "https://localhost:8080/",
          "height": 454
        },
        "id": "muhhj-Oy8ape",
        "outputId": "47f65cd7-fac0-40c5-f9a1-dc9aed1ae0c3"
      },
      "outputs": [
        {
          "data": {
            "text/html": [
              "<div>\n",
              "<style scoped>\n",
              "    .dataframe tbody tr th:only-of-type {\n",
              "        vertical-align: middle;\n",
              "    }\n",
              "\n",
              "    .dataframe tbody tr th {\n",
              "        vertical-align: top;\n",
              "    }\n",
              "\n",
              "    .dataframe thead th {\n",
              "        text-align: right;\n",
              "    }\n",
              "</style>\n",
              "<table border=\"1\" class=\"dataframe\">\n",
              "  <thead>\n",
              "    <tr style=\"text-align: right;\">\n",
              "      <th></th>\n",
              "      <th>Unnamed: 0</th>\n",
              "      <th>id</th>\n",
              "      <th>nationality</th>\n",
              "      <th>sex</th>\n",
              "      <th>title</th>\n",
              "      <th>content</th>\n",
              "      <th>score</th>\n",
              "      <th>sentence</th>\n",
              "      <th>content_vector</th>\n",
              "    </tr>\n",
              "  </thead>\n",
              "  <tbody>\n",
              "    <tr>\n",
              "      <th>0</th>\n",
              "      <td>1</td>\n",
              "      <td>A100000_v01.txt_2.txt</td>\n",
              "      <td>중국</td>\n",
              "      <td>남자</td>\n",
              "      <td>우리 나라의 계절과 날씨</td>\n",
              "      <td>제 나라의 계절은 아주 좋아요. 네 계절이 있습니다. 봄에는 날씨가 좋아요. 꽃이 ...</td>\n",
              "      <td>80</td>\n",
              "      <td>18</td>\n",
              "      <td>[0.0, 0.0, 0.0, 0.0, 0.0, 0.0, 0.0, 0.0, 0.0, ...</td>\n",
              "    </tr>\n",
              "    <tr>\n",
              "      <th>1</th>\n",
              "      <td>2</td>\n",
              "      <td>A100000_v02.txt_1.txt</td>\n",
              "      <td>중국</td>\n",
              "      <td>여자</td>\n",
              "      <td>주말 이야기</td>\n",
              "      <td>어제 명동에 갔습니다. 친구하고 같이 갔습니다. 가게가 많습니다. 옷가게가 있었습니...</td>\n",
              "      <td>70</td>\n",
              "      <td>10</td>\n",
              "      <td>[0.0, 0.0, 0.0, 0.0, 0.0, 0.0, 0.0, 0.0, 0.0, ...</td>\n",
              "    </tr>\n",
              "  </tbody>\n",
              "</table>\n",
              "</div>"
            ],
            "text/plain": [
              "   Unnamed: 0                     id nationality sex          title  \\\n",
              "0           1  A100000_v01.txt_2.txt          중국  남자  우리 나라의 계절과 날씨   \n",
              "1           2  A100000_v02.txt_1.txt          중국  여자         주말 이야기   \n",
              "\n",
              "                                             content  score  sentence  \\\n",
              "0  제 나라의 계절은 아주 좋아요. 네 계절이 있습니다. 봄에는 날씨가 좋아요. 꽃이 ...     80        18   \n",
              "1  어제 명동에 갔습니다. 친구하고 같이 갔습니다. 가게가 많습니다. 옷가게가 있었습니...     70        10   \n",
              "\n",
              "                                      content_vector  \n",
              "0  [0.0, 0.0, 0.0, 0.0, 0.0, 0.0, 0.0, 0.0, 0.0, ...  \n",
              "1  [0.0, 0.0, 0.0, 0.0, 0.0, 0.0, 0.0, 0.0, 0.0, ...  "
            ]
          },
          "execution_count": 11,
          "metadata": {},
          "output_type": "execute_result"
        }
      ],
      "source": [
        "df.head(2)"
      ]
    },
    {
      "attachments": {},
      "cell_type": "markdown",
      "metadata": {},
      "source": [
        "##### 6) 모델 정의"
      ]
    },
    {
      "cell_type": "code",
      "execution_count": 89,
      "metadata": {
        "id": "rKRfBzs-B4zA"
      },
      "outputs": [],
      "source": [
        "class MultivariableLinearModel(torch.nn.Module):\n",
        "  def __init__(self):\n",
        "    super().__init__()\n",
        "    self.linear = torch.nn.Linear(in_features=8093, out_features= 1)\n",
        "\n",
        "  def forward(self, x):\n",
        "    return self.linear(x)\n",
        "\n",
        "myLin = MultivariableLinearModel()"
      ]
    },
    {
      "attachments": {},
      "cell_type": "markdown",
      "metadata": {},
      "source": [
        "##### 7) Optimizer 정의"
      ]
    },
    {
      "cell_type": "code",
      "execution_count": 91,
      "metadata": {
        "id": "TtffS_VPSefo"
      },
      "outputs": [],
      "source": [
        "optimizer = torch.optim.SGD(myLin.parameters(), lr=0.01)"
      ]
    },
    {
      "attachments": {},
      "cell_type": "markdown",
      "metadata": {},
      "source": [
        "##### 8) 모델 학습"
      ]
    },
    {
      "cell_type": "code",
      "execution_count": 100,
      "metadata": {
        "colab": {
          "base_uri": "https://localhost:8080/"
        },
        "id": "MKeTl5EDTqTl",
        "outputId": "b359d1b4-2e2a-4756-d599-2e3f83567ff4"
      },
      "outputs": [
        {
          "name": "stderr",
          "output_type": "stream",
          "text": [
            "<ipython-input-100-0cdedf403e2c>:11: UserWarning: Using a target size (torch.Size([1])) that is different to the input size (torch.Size([1, 1])). This will likely lead to incorrect results due to broadcasting. Please ensure they have the same size.\n",
            "  cost = F.mse_loss(hypothesis.to(torch.float32), y_train.to(torch.float32))\n"
          ]
        },
        {
          "name": "stdout",
          "output_type": "stream",
          "text": [
            "0 175.76021923838323\n",
            "1 167.82148048308608\n",
            "2 160.50617327039515\n",
            "3 153.741971000402\n",
            "4 147.4671060589794\n",
            "5 141.6285951287909\n",
            "6 136.18078219308686\n",
            "7 131.08420806209884\n",
            "8 126.3045435849356\n",
            "9 121.81189155275398\n",
            "10 117.58005926325976\n"
          ]
        }
      ],
      "source": [
        "# (1) Epoch 순회\n",
        "nb_epochs = 10\n",
        "for epoch in range(nb_epochs + 1):\n",
        "  total_loss = 0\n",
        "  for idx in range(len(df)):\n",
        "    # 1] 학습 데이터 불러오기\n",
        "    x_train = np.array([df[\"content_vector\"][idx]])\n",
        "    y_train = np.array([df[\"score\"][idx]])\n",
        "    x_train = torch.from_numpy(x_train).float()\n",
        "    y_train = torch.from_numpy(y_train).int()\n",
        "    # 2] 모델 예측\n",
        "    hypothesis = myLin(x_train)\n",
        "    # 3] Cost 계산\n",
        "    cost = F.mse_loss(hypothesis.to(torch.float32), y_train.to(torch.float32))\n",
        "    # 4] Loss 계산\n",
        "    total_loss = total_loss + cost.item()\n",
        "    # 5] 모델 역전파\n",
        "    optimizer.zero_grad() \n",
        "    cost.backward() \n",
        "    optimizer.step()\n",
        "  \n",
        "  # 6] 결과 출력\n",
        "  print(epoch, total_loss / len(df))"
      ]
    }
  ],
  "metadata": {
    "colab": {
      "provenance": []
    },
    "kernelspec": {
      "display_name": "Python 3",
      "name": "python3"
    },
    "language_info": {
      "codemirror_mode": {
        "name": "ipython",
        "version": 3
      },
      "file_extension": ".py",
      "mimetype": "text/x-python",
      "name": "python",
      "nbconvert_exporter": "python",
      "pygments_lexer": "ipython3",
      "version": "3.9.15"
    }
  },
  "nbformat": 4,
  "nbformat_minor": 0
}
