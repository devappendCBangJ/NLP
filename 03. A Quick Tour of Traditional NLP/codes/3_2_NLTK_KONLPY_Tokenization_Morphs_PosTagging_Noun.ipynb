{
  "cells": [
    {
      "cell_type": "markdown",
      "metadata": {
        "id": "p6Qj3ZjBA5j7"
      },
      "source": [
        "위키독스 딥 러닝을 이용한 자연어 처리 입문의 토큰화 튜토리얼입니다.  \n",
        "\n",
        "링크 : https://wikidocs.net/21698"
      ]
    },
    {
      "attachments": {},
      "cell_type": "markdown",
      "metadata": {},
      "source": [
        "# 0. Setting"
      ]
    },
    {
      "cell_type": "markdown",
      "metadata": {},
      "source": [
        "##### 0) 패키지 설치"
      ]
    },
    {
      "cell_type": "code",
      "execution_count": 1,
      "metadata": {
        "colab": {
          "base_uri": "https://localhost:8080/"
        },
        "id": "-oYHpplvTERE",
        "outputId": "93568fc1-11cb-4510-fc4b-9c222905d77e"
      },
      "outputs": [
        {
          "name": "stdout",
          "output_type": "stream",
          "text": [
            "Requirement already satisfied: konlpy in c:\\users\\bang\\anaconda\\envs\\bangenv\\lib\\site-packages (0.6.0)\n",
            "Requirement already satisfied: JPype1>=0.7.0 in c:\\users\\bang\\anaconda\\envs\\bangenv\\lib\\site-packages (from konlpy) (1.4.1)\n",
            "Requirement already satisfied: lxml>=4.1.0 in c:\\users\\bang\\anaconda\\envs\\bangenv\\lib\\site-packages (from konlpy) (4.9.1)\n",
            "Requirement already satisfied: numpy>=1.6 in c:\\users\\bang\\anaconda\\envs\\bangenv\\lib\\site-packages (from konlpy) (1.21.5)\n",
            "Requirement already satisfied: packaging in c:\\users\\bang\\anaconda\\envs\\bangenv\\lib\\site-packages (from JPype1>=0.7.0->konlpy) (22.0)\n",
            "Note: you may need to restart the kernel to use updated packages.\n"
          ]
        }
      ],
      "source": [
        "pip install konlpy"
      ]
    },
    {
      "cell_type": "code",
      "execution_count": 2,
      "metadata": {
        "colab": {
          "base_uri": "https://localhost:8080/"
        },
        "id": "o-warvrhTFzI",
        "outputId": "617bef3b-9c45-4401-8e67-876eac69d3b5"
      },
      "outputs": [
        {
          "name": "stdout",
          "output_type": "stream",
          "text": [
            "Collecting kss\n",
            "  Downloading kss-4.5.1.tar.gz (77 kB)\n",
            "     ---------------------------------------- 77.7/77.7 kB 4.2 MB/s eta 0:00:00\n",
            "  Preparing metadata (setup.py): started\n",
            "  Preparing metadata (setup.py): finished with status 'done'\n",
            "Collecting emoji==1.2.0\n",
            "  Downloading emoji-1.2.0-py3-none-any.whl (131 kB)\n",
            "     -------------------------------------- 131.3/131.3 kB 3.9 MB/s eta 0:00:00\n",
            "Requirement already satisfied: regex in c:\\users\\bang\\anaconda\\envs\\bangenv\\lib\\site-packages (from kss) (2022.7.9)\n",
            "Collecting pecab\n",
            "  Downloading pecab-1.0.8.tar.gz (26.4 MB)\n",
            "     --------------------------------------- 26.4/26.4 MB 10.9 MB/s eta 0:00:00\n",
            "  Preparing metadata (setup.py): started\n",
            "  Preparing metadata (setup.py): finished with status 'done'\n",
            "Requirement already satisfied: networkx in c:\\users\\bang\\anaconda\\envs\\bangenv\\lib\\site-packages (from kss) (2.8.4)\n",
            "Requirement already satisfied: numpy in c:\\users\\bang\\anaconda\\envs\\bangenv\\lib\\site-packages (from pecab->kss) (1.21.5)\n",
            "Collecting pyarrow\n",
            "  Downloading pyarrow-12.0.0-cp39-cp39-win_amd64.whl (21.5 MB)\n",
            "     --------------------------------------- 21.5/21.5 MB 10.9 MB/s eta 0:00:00\n",
            "Requirement already satisfied: pytest in c:\\users\\bang\\anaconda\\envs\\bangenv\\lib\\site-packages (from pecab->kss) (7.1.2)\n",
            "Requirement already satisfied: attrs>=19.2.0 in c:\\users\\bang\\anaconda\\envs\\bangenv\\lib\\site-packages (from pytest->pecab->kss) (22.1.0)\n",
            "Requirement already satisfied: iniconfig in c:\\users\\bang\\anaconda\\envs\\bangenv\\lib\\site-packages (from pytest->pecab->kss) (1.1.1)\n",
            "Requirement already satisfied: packaging in c:\\users\\bang\\anaconda\\envs\\bangenv\\lib\\site-packages (from pytest->pecab->kss) (22.0)\n",
            "Requirement already satisfied: pluggy<2.0,>=0.12 in c:\\users\\bang\\anaconda\\envs\\bangenv\\lib\\site-packages (from pytest->pecab->kss) (1.0.0)\n",
            "Requirement already satisfied: py>=1.8.2 in c:\\users\\bang\\anaconda\\envs\\bangenv\\lib\\site-packages (from pytest->pecab->kss) (1.11.0)\n",
            "Requirement already satisfied: tomli>=1.0.0 in c:\\users\\bang\\anaconda\\envs\\bangenv\\lib\\site-packages (from pytest->pecab->kss) (2.0.1)\n",
            "Requirement already satisfied: atomicwrites>=1.0 in c:\\users\\bang\\anaconda\\envs\\bangenv\\lib\\site-packages (from pytest->pecab->kss) (1.4.0)\n",
            "Requirement already satisfied: colorama in c:\\users\\bang\\anaconda\\envs\\bangenv\\lib\\site-packages (from pytest->pecab->kss) (0.4.6)\n",
            "Building wheels for collected packages: kss, pecab\n",
            "  Building wheel for kss (setup.py): started\n",
            "  Building wheel for kss (setup.py): finished with status 'done'\n",
            "  Created wheel for kss: filename=kss-4.5.1-py3-none-any.whl size=53220 sha256=4f9f78fd8ddc389d86b778725668d2895e3b9e594eeca66775cf46db73aee297\n",
            "  Stored in directory: c:\\users\\bang\\appdata\\local\\pip\\cache\\wheels\\f7\\c6\\74\\6948d5dab55a12f92e1ec6384f8d30af2e2c29a497b61747de\n",
            "  Building wheel for pecab (setup.py): started\n",
            "  Building wheel for pecab (setup.py): finished with status 'done'\n",
            "  Created wheel for pecab: filename=pecab-1.0.8-py3-none-any.whl size=26646664 sha256=37c73e0c9eb3e09a278f98ecd4a969b7d7a402f827f42695927dfa373544cb5a\n",
            "  Stored in directory: c:\\users\\bang\\appdata\\local\\pip\\cache\\wheels\\dc\\65\\15\\13a802d1744ff07ccd1b8b80c5c72b4ef9481171a8230dcd93\n",
            "Successfully built kss pecab\n",
            "Installing collected packages: emoji, pyarrow, pecab, kss\n",
            "Successfully installed emoji-1.2.0 kss-4.5.1 pecab-1.0.8 pyarrow-12.0.0\n",
            "Note: you may need to restart the kernel to use updated packages.\n"
          ]
        }
      ],
      "source": [
        "pip install kss"
      ]
    },
    {
      "attachments": {},
      "cell_type": "markdown",
      "metadata": {},
      "source": [
        "##### 0) 라이브러리 불러오기"
      ]
    },
    {
      "cell_type": "code",
      "execution_count": 3,
      "metadata": {},
      "outputs": [
        {
          "name": "stderr",
          "output_type": "stream",
          "text": [
            "[nltk_data] Downloading package punkt to\n",
            "[nltk_data]     C:\\Users\\Bang\\AppData\\Roaming\\nltk_data...\n",
            "[nltk_data]   Package punkt is already up-to-date!\n",
            "[nltk_data] Downloading package averaged_perceptron_tagger to\n",
            "[nltk_data]     C:\\Users\\Bang\\AppData\\Roaming\\nltk_data...\n",
            "[nltk_data]   Unzipping taggers\\averaged_perceptron_tagger.zip.\n"
          ]
        },
        {
          "data": {
            "text/plain": [
              "True"
            ]
          },
          "execution_count": 3,
          "metadata": {},
          "output_type": "execute_result"
        }
      ],
      "source": [
        "# (1) 기본 라이브러리\n",
        "import nltk # !!!\n",
        "\n",
        "nltk.download('punkt') # !!!\n",
        "nltk.download('averaged_perceptron_tagger') # !!!"
      ]
    },
    {
      "attachments": {},
      "cell_type": "markdown",
      "metadata": {
        "id": "-sxtCj_x9Dtm"
      },
      "source": [
        "# 1. Tokenizer 모델 선정"
      ]
    },
    {
      "attachments": {},
      "cell_type": "markdown",
      "metadata": {},
      "source": [
        "##### 1) 라이브러리 불러오기"
      ]
    },
    {
      "cell_type": "code",
      "execution_count": null,
      "metadata": {
        "id": "nzfDhsYm852i"
      },
      "outputs": [],
      "source": [
        "# (0) 기본 라이브러리\n",
        "from nltk.tokenize import word_tokenize # !!!\n",
        "from nltk.tokenize import WordPunctTokenizer # !!!\n",
        "\n",
        "# (1) 딥러닝 라이브러리\n",
        "from tensorflow.keras.preprocessing.text import text_to_word_sequence"
      ]
    },
    {
      "attachments": {},
      "cell_type": "markdown",
      "metadata": {},
      "source": [
        "##### 2) Tokenizer 모델 비교"
      ]
    },
    {
      "cell_type": "code",
      "execution_count": null,
      "metadata": {
        "colab": {
          "base_uri": "https://localhost:8080/"
        },
        "id": "lTs0hQ8HRDYl",
        "outputId": "75e4ad63-1081-4446-b38f-29ffd0b457bf"
      },
      "outputs": [
        {
          "name": "stdout",
          "output_type": "stream",
          "text": [
            "단어 토큰화1 : ['Do', \"n't\", 'be', 'fooled', 'by', 'the', 'dark', 'sounding', 'name', ',', 'Mr.', 'Jone', \"'s\", 'Orphanage', 'is', 'as', 'cheery', 'as', 'cheery', 'goes', 'for', 'a', 'pastry', 'shop', '.']\n"
          ]
        }
      ],
      "source": [
        "print('단어 토큰화1 :', word_tokenize(\"Don't be fooled by the dark sounding name, Mr. Jone's Orphanage is as cheery as cheery goes for a pastry shop.\"))  "
      ]
    },
    {
      "cell_type": "code",
      "execution_count": null,
      "metadata": {
        "colab": {
          "base_uri": "https://localhost:8080/"
        },
        "id": "WFDQA6JLR5HT",
        "outputId": "9b3a1f99-708e-4dd0-cf44-3d85b2a07c08"
      },
      "outputs": [
        {
          "name": "stdout",
          "output_type": "stream",
          "text": [
            "단어 토큰화2 : ['Don', \"'\", 't', 'be', 'fooled', 'by', 'the', 'dark', 'sounding', 'name', ',', 'Mr', '.', 'Jone', \"'\", 's', 'Orphanage', 'is', 'as', 'cheery', 'as', 'cheery', 'goes', 'for', 'a', 'pastry', 'shop', '.']\n"
          ]
        }
      ],
      "source": [
        "print('단어 토큰화2 :', WordPunctTokenizer().tokenize(\"Don't be fooled by the dark sounding name, Mr. Jone's Orphanage is as cheery as cheery goes for a pastry shop.\"))"
      ]
    },
    {
      "cell_type": "code",
      "execution_count": null,
      "metadata": {
        "colab": {
          "base_uri": "https://localhost:8080/"
        },
        "id": "EhsH1n5uR6g7",
        "outputId": "26db1c27-6e07-4418-ea94-6e88cecf4443"
      },
      "outputs": [
        {
          "name": "stdout",
          "output_type": "stream",
          "text": [
            "단어 토큰화3 : [\"don't\", 'be', 'fooled', 'by', 'the', 'dark', 'sounding', 'name', 'mr', \"jone's\", 'orphanage', 'is', 'as', 'cheery', 'as', 'cheery', 'goes', 'for', 'a', 'pastry', 'shop']\n"
          ]
        }
      ],
      "source": [
        "print('단어 토큰화3 :', text_to_word_sequence(\"Don't be fooled by the dark sounding name, Mr. Jone's Orphanage is as cheery as cheery goes for a pastry shop.\"))"
      ]
    },
    {
      "attachments": {},
      "cell_type": "markdown",
      "metadata": {
        "id": "f9NR6H8K9LGd"
      },
      "source": [
        "# 2. 단어 토큰화(Word Tokenization)"
      ]
    },
    {
      "attachments": {},
      "cell_type": "markdown",
      "metadata": {},
      "source": [
        "토큰의 기준을 단어(word)로 하는 경우, 단어 토큰화(word tokenization)라고 합니다. 다만, 여기서 단어(word)는 단어 단위 외에도 단어구, 의미를 갖는 문자열로도 간주되기도 합니다."
      ]
    },
    {
      "cell_type": "code",
      "execution_count": null,
      "metadata": {
        "colab": {
          "base_uri": "https://localhost:8080/"
        },
        "id": "z_NaLsx2R7Rr",
        "outputId": "0d25d9c2-7a51-4d70-ee5a-1dd9e71a2d1a"
      },
      "outputs": [
        {
          "name": "stdout",
          "output_type": "stream",
          "text": [
            "트리뱅크 워드토크나이저 : ['Starting', 'a', 'home-based', 'restaurant', 'may', 'be', 'an', 'ideal.', 'it', 'does', \"n't\", 'have', 'a', 'food', 'chain', 'or', 'restaurant', 'of', 'their', 'own', '.']\n"
          ]
        }
      ],
      "source": [
        "# 0) 라이브러리 불러오기\n",
        "from nltk.tokenize import TreebankWordTokenizer # !!!\n",
        "\n",
        "# 1) 데이터 불러오기\n",
        "text = \"Starting a home-based restaurant may be an ideal. it doesn't have a food chain or restaurant of their own.\"\n",
        "\n",
        "# 2) Tokenizer 모델 선정\n",
        "tokenizer = TreebankWordTokenizer()\n",
        "\n",
        "# 3) 결과 출력\n",
        "print('트리뱅크 워드토크나이저 :',tokenizer.tokenize(text)) # !!!"
      ]
    },
    {
      "attachments": {},
      "cell_type": "markdown",
      "metadata": {
        "id": "X6lWTou49PLA"
      },
      "source": [
        "# 3. 문장 토큰화(Sentence Tokenization)"
      ]
    },
    {
      "attachments": {},
      "cell_type": "markdown",
      "metadata": {},
      "source": [
        "##### 1) 영어 문장 토큰화"
      ]
    },
    {
      "cell_type": "code",
      "execution_count": null,
      "metadata": {
        "colab": {
          "base_uri": "https://localhost:8080/"
        },
        "id": "C2WixyvHR9US",
        "outputId": "a5cb0c43-f899-4f99-812c-cde44051c209"
      },
      "outputs": [
        {
          "name": "stdout",
          "output_type": "stream",
          "text": [
            "문장 토큰화1 : ['His barber kept his word.', 'But keeping such a huge secret to himself was driving him crazy.', 'Finally, the barber went up a mountain and almost to the edge of a cliff.', 'He dug a hole in the midst of some reeds.', 'He looked about, to make sure no one was near.']\n"
          ]
        }
      ],
      "source": [
        "# (0) 라이브러리 불러오기\n",
        "from nltk.tokenize import sent_tokenize # !!!\n",
        "\n",
        "# (1) 데이터 불러오기\n",
        "text = \"His barber kept his word. But keeping such a huge secret to himself was driving him crazy. Finally, the barber went up a mountain and almost to the edge of a cliff. He dug a hole in the midst of some reeds. He looked about, to make sure no one was near.\"\n",
        "\n",
        "# (2) 결과 출력\n",
        "print('문장 토큰화1 :', sent_tokenize(text)) # !!!"
      ]
    },
    {
      "cell_type": "code",
      "execution_count": null,
      "metadata": {
        "colab": {
          "base_uri": "https://localhost:8080/"
        },
        "id": "_QDLen2CSDk6",
        "outputId": "db9fe18e-e60f-4743-cb5b-5cf8b3856af3"
      },
      "outputs": [
        {
          "name": "stdout",
          "output_type": "stream",
          "text": [
            "문장 토큰화2 : ['I am actively looking for Ph.D. students.', 'and you are a Ph.D student.']\n"
          ]
        }
      ],
      "source": [
        "# (1) 데이터 불러오기\n",
        "text = \"I am actively looking for Ph.D. students. and you are a Ph.D student.\"\n",
        "\n",
        "# (2) 결과 출력\n",
        "print('문장 토큰화2 :', sent_tokenize(text))"
      ]
    },
    {
      "attachments": {},
      "cell_type": "markdown",
      "metadata": {},
      "source": [
        "##### 2) 한국어 문장 토큰화"
      ]
    },
    {
      "cell_type": "code",
      "execution_count": null,
      "metadata": {
        "colab": {
          "base_uri": "https://localhost:8080/"
        },
        "id": "KIDooFnDSM-7",
        "outputId": "d1ff8037-d3b5-4dda-d71a-5703a0c4386b"
      },
      "outputs": [
        {
          "name": "stdout",
          "output_type": "stream",
          "text": [
            "한국어 문장 토큰화 : ['딥 러닝 자연어 처리가 재미있기는 합니다.', '그런데 문제는 영어보다 한국어로 할 때 너무 어렵습니다.', '이제 해보면 알걸요?']\n"
          ]
        }
      ],
      "source": [
        "# (0) 라이브러리 불러오기\n",
        "import kss # !!!\n",
        "\n",
        "# (1) 데이터 불러오기\n",
        "text = '딥 러닝 자연어 처리가 재미있기는 합니다. 그런데 문제는 영어보다 한국어로 할 때 너무 어렵습니다. 이제 해보면 알걸요?'\n",
        "\n",
        "# (2) 결과 출력\n",
        "print('한국어 문장 토큰화 :', kss.split_sentences(text)) # !!!"
      ]
    },
    {
      "attachments": {},
      "cell_type": "markdown",
      "metadata": {
        "id": "J8znWPo59hX9"
      },
      "source": [
        "# 4. 영어, 한국어 Tokenization by nltk & konlpy"
      ]
    },
    {
      "attachments": {},
      "cell_type": "markdown",
      "metadata": {},
      "source": [
        "##### 1) NTLK"
      ]
    },
    {
      "attachments": {},
      "cell_type": "markdown",
      "metadata": {},
      "source": [
        "(0) 라이브러리 불러오기"
      ]
    },
    {
      "cell_type": "code",
      "execution_count": null,
      "metadata": {
        "id": "MrD41LYKSQGb"
      },
      "outputs": [],
      "source": [
        "from nltk.tokenize import word_tokenize # !!!\n",
        "from nltk.tag import pos_tag # !!!"
      ]
    },
    {
      "attachments": {},
      "cell_type": "markdown",
      "metadata": {},
      "source": [
        "(1) 데이터 불러오기"
      ]
    },
    {
      "cell_type": "code",
      "execution_count": null,
      "metadata": {},
      "outputs": [],
      "source": [
        "text = \"I am actively looking for Ph.D. students. and you are a Ph.D. student.\""
      ]
    },
    {
      "attachments": {},
      "cell_type": "markdown",
      "metadata": {},
      "source": [
        "(2) 단어 토큰화"
      ]
    },
    {
      "cell_type": "code",
      "execution_count": null,
      "metadata": {},
      "outputs": [],
      "source": [
        "tokenized_sentence = word_tokenize(text)"
      ]
    },
    {
      "attachments": {},
      "cell_type": "markdown",
      "metadata": {},
      "source": [
        "(3) 결과 출력 (Tokenization / 품사 태깅)"
      ]
    },
    {
      "cell_type": "code",
      "execution_count": null,
      "metadata": {
        "colab": {
          "base_uri": "https://localhost:8080/"
        },
        "id": "f-pa-nMwSibh",
        "outputId": "bf22c9b2-98de-4f81-af2d-812fb169a3fe"
      },
      "outputs": [
        {
          "name": "stdout",
          "output_type": "stream",
          "text": [
            "단어 토큰화 : ['I', 'am', 'actively', 'looking', 'for', 'Ph.D.', 'students', '.', 'and', 'you', 'are', 'a', 'Ph.D.', 'student', '.']\n",
            "품사 태깅 : [('I', 'PRP'), ('am', 'VBP'), ('actively', 'RB'), ('looking', 'VBG'), ('for', 'IN'), ('Ph.D.', 'NNP'), ('students', 'NNS'), ('.', '.'), ('and', 'CC'), ('you', 'PRP'), ('are', 'VBP'), ('a', 'DT'), ('Ph.D.', 'NNP'), ('student', 'NN'), ('.', '.')]\n"
          ]
        }
      ],
      "source": [
        "print('단어 토큰화 :', tokenized_sentence)\n",
        "print('품사 태깅 :', pos_tag(tokenized_sentence))"
      ]
    },
    {
      "attachments": {},
      "cell_type": "markdown",
      "metadata": {},
      "source": [
        "##### 2) KONLPY"
      ]
    },
    {
      "attachments": {},
      "cell_type": "markdown",
      "metadata": {},
      "source": [
        "(0) 라이브러리 불러오기"
      ]
    },
    {
      "cell_type": "code",
      "execution_count": 4,
      "metadata": {
        "id": "c9BJZNPZSnd7"
      },
      "outputs": [],
      "source": [
        "from konlpy.tag import Okt # !!!\n",
        "from konlpy.tag import Kkma # !!!"
      ]
    },
    {
      "attachments": {},
      "cell_type": "markdown",
      "metadata": {},
      "source": [
        "(1) Tokenizer 모델 선정"
      ]
    },
    {
      "cell_type": "code",
      "execution_count": 5,
      "metadata": {
        "id": "GAYMyRBg9noI"
      },
      "outputs": [
        {
          "ename": "TypeError",
          "evalue": "startJVM() got an unexpected keyword argument 'classpath'",
          "output_type": "error",
          "traceback": [
            "\u001b[1;31m---------------------------------------------------------------------------\u001b[0m",
            "\u001b[1;31mTypeError\u001b[0m                                 Traceback (most recent call last)",
            "Cell \u001b[1;32mIn[5], line 1\u001b[0m\n\u001b[1;32m----> 1\u001b[0m okt \u001b[39m=\u001b[39m Okt()\n\u001b[0;32m      2\u001b[0m kkma \u001b[39m=\u001b[39m Kkma()\n",
            "File \u001b[1;32mc:\\Users\\Bang\\Anaconda\\envs\\BangEnv\\lib\\site-packages\\konlpy\\tag\\_okt.py:51\u001b[0m, in \u001b[0;36mOkt.__init__\u001b[1;34m(self, jvmpath, max_heap_size)\u001b[0m\n\u001b[0;32m     49\u001b[0m \u001b[39mdef\u001b[39;00m \u001b[39m__init__\u001b[39m(\u001b[39mself\u001b[39m, jvmpath\u001b[39m=\u001b[39m\u001b[39mNone\u001b[39;00m, max_heap_size\u001b[39m=\u001b[39m\u001b[39m1024\u001b[39m):\n\u001b[0;32m     50\u001b[0m     \u001b[39mif\u001b[39;00m \u001b[39mnot\u001b[39;00m jpype\u001b[39m.\u001b[39misJVMStarted():\n\u001b[1;32m---> 51\u001b[0m         jvm\u001b[39m.\u001b[39;49minit_jvm(jvmpath, max_heap_size)\n\u001b[0;32m     53\u001b[0m     oktJavaPackage \u001b[39m=\u001b[39m jpype\u001b[39m.\u001b[39mJPackage(\u001b[39m'\u001b[39m\u001b[39mkr.lucypark.okt\u001b[39m\u001b[39m'\u001b[39m)\n\u001b[0;32m     54\u001b[0m     OktInterfaceJavaClass \u001b[39m=\u001b[39m oktJavaPackage\u001b[39m.\u001b[39mOktInterface\n",
            "File \u001b[1;32mc:\\Users\\Bang\\Anaconda\\envs\\BangEnv\\lib\\site-packages\\konlpy\\jvm.py:64\u001b[0m, in \u001b[0;36minit_jvm\u001b[1;34m(jvmpath, max_heap_size)\u001b[0m\n\u001b[0;32m     61\u001b[0m     jvmpath \u001b[39m=\u001b[39m \u001b[39m'\u001b[39m\u001b[39m%s\u001b[39;00m\u001b[39m/lib/jli/libjli.dylib\u001b[39m\u001b[39m'\u001b[39m \u001b[39m%\u001b[39m jvmpath\u001b[39m.\u001b[39msplit(\u001b[39m'\u001b[39m\u001b[39m/lib/\u001b[39m\u001b[39m'\u001b[39m)[\u001b[39m0\u001b[39m]\n\u001b[0;32m     63\u001b[0m \u001b[39mif\u001b[39;00m jvmpath:\n\u001b[1;32m---> 64\u001b[0m     jpype\u001b[39m.\u001b[39;49mstartJVM(jvmpath, \u001b[39m'\u001b[39;49m\u001b[39m-Dfile.encoding=UTF8\u001b[39;49m\u001b[39m'\u001b[39;49m,\n\u001b[0;32m     65\u001b[0m                             \u001b[39m'\u001b[39;49m\u001b[39m-ea\u001b[39;49m\u001b[39m'\u001b[39;49m, \u001b[39m'\u001b[39;49m\u001b[39m-Xmx\u001b[39;49m\u001b[39m{}\u001b[39;49;00m\u001b[39mm\u001b[39;49m\u001b[39m'\u001b[39;49m\u001b[39m.\u001b[39;49mformat(max_heap_size),\n\u001b[0;32m     66\u001b[0m                             classpath\u001b[39m=\u001b[39;49mclasspath)\n\u001b[0;32m     67\u001b[0m                             \u001b[39m# ,convertStrings=True)\u001b[39;00m\n\u001b[0;32m     68\u001b[0m \u001b[39melse\u001b[39;00m:\n\u001b[0;32m     69\u001b[0m     \u001b[39mraise\u001b[39;00m \u001b[39mValueError\u001b[39;00m(\u001b[39m\"\u001b[39m\u001b[39mPlease specify the JVM path.\u001b[39m\u001b[39m\"\u001b[39m)\n",
            "\u001b[1;31mTypeError\u001b[0m: startJVM() got an unexpected keyword argument 'classpath'"
          ]
        }
      ],
      "source": [
        "okt = Okt()\n",
        "kkma = Kkma()"
      ]
    },
    {
      "attachments": {},
      "cell_type": "markdown",
      "metadata": {},
      "source": [
        "(2) 결과 출력 (형태소 추출 / 품사 태깅 / 명사 추출)"
      ]
    },
    {
      "cell_type": "code",
      "execution_count": null,
      "metadata": {
        "colab": {
          "base_uri": "https://localhost:8080/"
        },
        "id": "oH4Ye8cg9q1H",
        "outputId": "672a8e4e-0452-454c-c881-80e184cd3c19"
      },
      "outputs": [
        {
          "name": "stdout",
          "output_type": "stream",
          "text": [
            "OKT 형태소 분석 : ['열심히', '코딩', '한', '당신', ',', '연휴', '에는', '여행', '을', '가봐요']\n",
            "OKT 품사 태깅 : [('열심히', 'Adverb'), ('코딩', 'Noun'), ('한', 'Josa'), ('당신', 'Noun'), (',', 'Punctuation'), ('연휴', 'Noun'), ('에는', 'Josa'), ('여행', 'Noun'), ('을', 'Josa'), ('가봐요', 'Verb')]\n",
            "OKT 명사 추출 : ['코딩', '당신', '연휴', '여행']\n"
          ]
        }
      ],
      "source": [
        "print('OKT 형태소 분석 :',okt.morphs(\"열심히 코딩한 당신, 연휴에는 여행을 가봐요\")) # !!!\n",
        "print('OKT 품사 태깅 :',okt.pos(\"열심히 코딩한 당신, 연휴에는 여행을 가봐요\")) # !!!\n",
        "print('OKT 명사 추출 :',okt.nouns(\"열심히 코딩한 당신, 연휴에는 여행을 가봐요\"))  # !!!"
      ]
    },
    {
      "cell_type": "code",
      "execution_count": null,
      "metadata": {
        "colab": {
          "base_uri": "https://localhost:8080/"
        },
        "id": "cbuqewYRTXYT",
        "outputId": "48607d49-8368-4316-d752-e23fa2a2501d"
      },
      "outputs": [
        {
          "name": "stdout",
          "output_type": "stream",
          "text": [
            "꼬꼬마 형태소 분석 : ['열심히', '코딩', '하', 'ㄴ', '당신', ',', '연휴', '에', '는', '여행', '을', '가보', '아요']\n",
            "꼬꼬마 품사 태깅 : [('열심히', 'MAG'), ('코딩', 'NNG'), ('하', 'XSV'), ('ㄴ', 'ETD'), ('당신', 'NP'), (',', 'SP'), ('연휴', 'NNG'), ('에', 'JKM'), ('는', 'JX'), ('여행', 'NNG'), ('을', 'JKO'), ('가보', 'VV'), ('아요', 'EFN')]\n",
            "꼬꼬마 명사 추출 : ['코딩', '당신', '연휴', '여행']\n"
          ]
        }
      ],
      "source": [
        "print('꼬꼬마 형태소 분석 :',kkma.morphs(\"열심히 코딩한 당신, 연휴에는 여행을 가봐요\"))\n",
        "print('꼬꼬마 품사 태깅 :',kkma.pos(\"열심히 코딩한 당신, 연휴에는 여행을 가봐요\"))\n",
        "print('꼬꼬마 명사 추출 :',kkma.nouns(\"열심히 코딩한 당신, 연휴에는 여행을 가봐요\"))  "
      ]
    }
  ],
  "metadata": {
    "colab": {
      "collapsed_sections": [],
      "name": "Tokenization.ipynb",
      "provenance": []
    },
    "kernelspec": {
      "display_name": "Python 3",
      "name": "python3"
    },
    "language_info": {
      "codemirror_mode": {
        "name": "ipython",
        "version": 3
      },
      "file_extension": ".py",
      "mimetype": "text/x-python",
      "name": "python",
      "nbconvert_exporter": "python",
      "pygments_lexer": "ipython3",
      "version": "3.9.15"
    }
  },
  "nbformat": 4,
  "nbformat_minor": 0
}
