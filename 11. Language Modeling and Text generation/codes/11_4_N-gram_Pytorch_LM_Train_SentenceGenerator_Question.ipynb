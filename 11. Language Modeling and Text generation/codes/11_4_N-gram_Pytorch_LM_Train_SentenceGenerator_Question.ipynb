{
  "cells": [
    {
      "attachments": {},
      "cell_type": "markdown",
      "metadata": {},
      "source": [
        "# Neural Language Model\n",
        "- 목적 : \n",
        "- Output : 뒤의 단어 예측\n",
        "- Model : FCN\n",
        "- Loss : Cross Entropy"
      ]
    },
    {
      "attachments": {},
      "cell_type": "markdown",
      "metadata": {},
      "source": [
        "##### 0) 라이브러리 불러오기"
      ]
    },
    {
      "cell_type": "code",
      "execution_count": 1,
      "metadata": {
        "id": "AGx5rVgKHTfm"
      },
      "outputs": [],
      "source": [
        "# (1) 딥러닝 라이브러리\n",
        "import torch\n",
        "import torch.nn as nn\n",
        "import torch.nn.functional as F\n",
        "import torch.optim as optim"
      ]
    },
    {
      "attachments": {},
      "cell_type": "markdown",
      "metadata": {},
      "source": [
        "##### 1) 데이터 불러오기"
      ]
    },
    {
      "attachments": {},
      "cell_type": "markdown",
      "metadata": {},
      "source": [
        "(1) 변수 초기화"
      ]
    },
    {
      "cell_type": "code",
      "execution_count": 2,
      "metadata": {},
      "outputs": [],
      "source": [
        "NGRAM_SIZE = 2\n",
        "EMBEDDING_DIM = 10"
      ]
    },
    {
      "attachments": {},
      "cell_type": "markdown",
      "metadata": {},
      "source": [
        "(2) 데이터 불러오기 (인터넷 데이터)\n",
        "- https://www.unesco.org/en/weeks/world-novel"
      ]
    },
    {
      "cell_type": "code",
      "execution_count": 3,
      "metadata": {
        "id": "9XZ27TDVGYCM"
      },
      "outputs": [],
      "source": [
        "sentence_train = \"\"\"\n",
        "Suspense novels follow a plot that induces a unsettling sense of worry or anticipation in readers.\n",
        "This is done so by letting them in on details that the story's protagonist is often not weary of.\n",
        "Often, mystery or thriller novels fall under the suspense category and these three genre titles are also used interchangeably because of the blur lines.\n",
        "But the distinguishing factor between these three lies in the type of suspense that the story follows.\n",
        "In mystery novels, we follow the journey of the protagonist who is would be trying to solve a crime.\n",
        "In thriller novels, we see the central characters or main protagonist being suspended in ever-present danger and risk.\n",
        "And in suspense novels, the plot takes its readers through an unsettling sense of worry and anticipation in readers by revealing potentially dangerous details that the very protagonist in the story could not be aware of.\"\"\".split()\n",
        "# we should tokenize the input, but we will ignore that for now\n",
        "# build a list of tuples.\n",
        "# Each tuple is ([ word_i-NGRAM_SIZE, ..., word_i-1 ], target word)"
      ]
    },
    {
      "cell_type": "code",
      "execution_count": 4,
      "metadata": {},
      "outputs": [
        {
          "data": {
            "text/plain": [
              "['Suspense',\n",
              " 'novels',\n",
              " 'follow',\n",
              " 'a',\n",
              " 'plot',\n",
              " 'that',\n",
              " 'induces',\n",
              " 'a',\n",
              " 'unsettling',\n",
              " 'sense',\n",
              " 'of',\n",
              " 'worry',\n",
              " 'or',\n",
              " 'anticipation',\n",
              " 'in',\n",
              " 'readers.',\n",
              " 'This',\n",
              " 'is',\n",
              " 'done',\n",
              " 'so',\n",
              " 'by',\n",
              " 'letting',\n",
              " 'them',\n",
              " 'in',\n",
              " 'on',\n",
              " 'details',\n",
              " 'that',\n",
              " 'the',\n",
              " \"story's\",\n",
              " 'protagonist',\n",
              " 'is',\n",
              " 'often',\n",
              " 'not',\n",
              " 'weary',\n",
              " 'of.',\n",
              " 'Often,',\n",
              " 'mystery',\n",
              " 'or',\n",
              " 'thriller',\n",
              " 'novels',\n",
              " 'fall',\n",
              " 'under',\n",
              " 'the',\n",
              " 'suspense',\n",
              " 'category',\n",
              " 'and',\n",
              " 'these',\n",
              " 'three',\n",
              " 'genre',\n",
              " 'titles',\n",
              " 'are',\n",
              " 'also',\n",
              " 'used',\n",
              " 'interchangeably',\n",
              " 'because',\n",
              " 'of',\n",
              " 'the',\n",
              " 'blur',\n",
              " 'lines.',\n",
              " 'But',\n",
              " 'the',\n",
              " 'distinguishing',\n",
              " 'factor',\n",
              " 'between',\n",
              " 'these',\n",
              " 'three',\n",
              " 'lies',\n",
              " 'in',\n",
              " 'the',\n",
              " 'type',\n",
              " 'of',\n",
              " 'suspense',\n",
              " 'that',\n",
              " 'the',\n",
              " 'story',\n",
              " 'follows.',\n",
              " 'In',\n",
              " 'mystery',\n",
              " 'novels,',\n",
              " 'we',\n",
              " 'follow',\n",
              " 'the',\n",
              " 'journey',\n",
              " 'of',\n",
              " 'the',\n",
              " 'protagonist',\n",
              " 'who',\n",
              " 'is',\n",
              " 'would',\n",
              " 'be',\n",
              " 'trying',\n",
              " 'to',\n",
              " 'solve',\n",
              " 'a',\n",
              " 'crime.',\n",
              " 'In',\n",
              " 'thriller',\n",
              " 'novels,',\n",
              " 'we',\n",
              " 'see',\n",
              " 'the',\n",
              " 'central',\n",
              " 'characters',\n",
              " 'or',\n",
              " 'main',\n",
              " 'protagonist',\n",
              " 'being',\n",
              " 'suspended',\n",
              " 'in',\n",
              " 'ever-present',\n",
              " 'danger',\n",
              " 'and',\n",
              " 'risk.',\n",
              " 'And',\n",
              " 'in',\n",
              " 'suspense',\n",
              " 'novels,',\n",
              " 'the',\n",
              " 'plot',\n",
              " 'takes',\n",
              " 'its',\n",
              " 'readers',\n",
              " 'through',\n",
              " 'an',\n",
              " 'unsettling',\n",
              " 'sense',\n",
              " 'of',\n",
              " 'worry',\n",
              " 'and',\n",
              " 'anticipation',\n",
              " 'in',\n",
              " 'readers',\n",
              " 'by',\n",
              " 'revealing',\n",
              " 'potentially',\n",
              " 'dangerous',\n",
              " 'details',\n",
              " 'that',\n",
              " 'the',\n",
              " 'very',\n",
              " 'protagonist',\n",
              " 'in',\n",
              " 'the',\n",
              " 'story',\n",
              " 'could',\n",
              " 'not',\n",
              " 'be',\n",
              " 'aware',\n",
              " 'of.']"
            ]
          },
          "execution_count": 4,
          "metadata": {},
          "output_type": "execute_result"
        }
      ],
      "source": [
        "sentence_train"
      ]
    },
    {
      "attachments": {},
      "cell_type": "markdown",
      "metadata": {},
      "source": [
        "##### (3) s, /s 추가"
      ]
    },
    {
      "cell_type": "code",
      "execution_count": 5,
      "metadata": {},
      "outputs": [
        {
          "data": {
            "text/plain": [
              "['<s>',\n",
              " 'Suspense',\n",
              " 'novels',\n",
              " 'follow',\n",
              " 'a',\n",
              " 'plot',\n",
              " 'that',\n",
              " 'induces',\n",
              " 'a',\n",
              " 'unsettling',\n",
              " 'sense',\n",
              " 'of',\n",
              " 'worry',\n",
              " 'or',\n",
              " 'anticipation',\n",
              " 'in',\n",
              " 'readers.',\n",
              " 'This',\n",
              " 'is',\n",
              " 'done',\n",
              " 'so',\n",
              " 'by',\n",
              " 'letting',\n",
              " 'them',\n",
              " 'in',\n",
              " 'on',\n",
              " 'details',\n",
              " 'that',\n",
              " 'the',\n",
              " \"story's\",\n",
              " 'protagonist',\n",
              " 'is',\n",
              " 'often',\n",
              " 'not',\n",
              " 'weary',\n",
              " 'of.',\n",
              " 'Often,',\n",
              " 'mystery',\n",
              " 'or',\n",
              " 'thriller',\n",
              " 'novels',\n",
              " 'fall',\n",
              " 'under',\n",
              " 'the',\n",
              " 'suspense',\n",
              " 'category',\n",
              " 'and',\n",
              " 'these',\n",
              " 'three',\n",
              " 'genre',\n",
              " 'titles',\n",
              " 'are',\n",
              " 'also',\n",
              " 'used',\n",
              " 'interchangeably',\n",
              " 'because',\n",
              " 'of',\n",
              " 'the',\n",
              " 'blur',\n",
              " 'lines.',\n",
              " 'But',\n",
              " 'the',\n",
              " 'distinguishing',\n",
              " 'factor',\n",
              " 'between',\n",
              " 'these',\n",
              " 'three',\n",
              " 'lies',\n",
              " 'in',\n",
              " 'the',\n",
              " 'type',\n",
              " 'of',\n",
              " 'suspense',\n",
              " 'that',\n",
              " 'the',\n",
              " 'story',\n",
              " 'follows.',\n",
              " 'In',\n",
              " 'mystery',\n",
              " 'novels,',\n",
              " 'we',\n",
              " 'follow',\n",
              " 'the',\n",
              " 'journey',\n",
              " 'of',\n",
              " 'the',\n",
              " 'protagonist',\n",
              " 'who',\n",
              " 'is',\n",
              " 'would',\n",
              " 'be',\n",
              " 'trying',\n",
              " 'to',\n",
              " 'solve',\n",
              " 'a',\n",
              " 'crime.',\n",
              " 'In',\n",
              " 'thriller',\n",
              " 'novels,',\n",
              " 'we',\n",
              " 'see',\n",
              " 'the',\n",
              " 'central',\n",
              " 'characters',\n",
              " 'or',\n",
              " 'main',\n",
              " 'protagonist',\n",
              " 'being',\n",
              " 'suspended',\n",
              " 'in',\n",
              " 'ever-present',\n",
              " 'danger',\n",
              " 'and',\n",
              " 'risk.',\n",
              " 'And',\n",
              " 'in',\n",
              " 'suspense',\n",
              " 'novels,',\n",
              " 'the',\n",
              " 'plot',\n",
              " 'takes',\n",
              " 'its',\n",
              " 'readers',\n",
              " 'through',\n",
              " 'an',\n",
              " 'unsettling',\n",
              " 'sense',\n",
              " 'of',\n",
              " 'worry',\n",
              " 'and',\n",
              " 'anticipation',\n",
              " 'in',\n",
              " 'readers',\n",
              " 'by',\n",
              " 'revealing',\n",
              " 'potentially',\n",
              " 'dangerous',\n",
              " 'details',\n",
              " 'that',\n",
              " 'the',\n",
              " 'very',\n",
              " 'protagonist',\n",
              " 'in',\n",
              " 'the',\n",
              " 'story',\n",
              " 'could',\n",
              " 'not',\n",
              " 'be',\n",
              " 'aware',\n",
              " 'of.',\n",
              " '</s>']"
            ]
          },
          "execution_count": 5,
          "metadata": {},
          "output_type": "execute_result"
        }
      ],
      "source": [
        "sentence_train.insert(0, '<s>') # !!!\n",
        "sentence_train.append('</s>') # !\n",
        "\n",
        "sentence_train"
      ]
    },
    {
      "attachments": {},
      "cell_type": "markdown",
      "metadata": {},
      "source": [
        "##### 2) N-gram\n",
        "- 순서에 맞게 수정"
      ]
    },
    {
      "cell_type": "code",
      "execution_count": 6,
      "metadata": {
        "colab": {
          "base_uri": "https://localhost:8080/"
        },
        "id": "s1ipge_JGan3",
        "outputId": "889c74ba-1e51-4308-caba-8c40534f61a0"
      },
      "outputs": [
        {
          "name": "stdout",
          "output_type": "stream",
          "text": [
            "[(['Suspense', 'novels'], 'follow'), (['novels', 'follow'], 'a'), (['follow', 'a'], 'plot'), (['a', 'plot'], 'that'), (['plot', 'that'], 'induces'), (['that', 'induces'], 'a'), (['induces', 'a'], 'unsettling'), (['a', 'unsettling'], 'sense'), (['unsettling', 'sense'], 'of'), (['sense', 'of'], 'worry'), (['of', 'worry'], 'or'), (['worry', 'or'], 'anticipation'), (['or', 'anticipation'], 'in'), (['anticipation', 'in'], 'readers.'), (['in', 'readers.'], 'This'), (['readers.', 'This'], 'is'), (['This', 'is'], 'done'), (['is', 'done'], 'so'), (['done', 'so'], 'by'), (['so', 'by'], 'letting'), (['by', 'letting'], 'them'), (['letting', 'them'], 'in'), (['them', 'in'], 'on'), (['in', 'on'], 'details'), (['on', 'details'], 'that'), (['details', 'that'], 'the'), (['that', 'the'], \"story's\"), (['the', \"story's\"], 'protagonist'), ([\"story's\", 'protagonist'], 'is'), (['protagonist', 'is'], 'often'), (['is', 'often'], 'not'), (['often', 'not'], 'weary'), (['not', 'weary'], 'of.'), (['weary', 'of.'], 'Often,'), (['of.', 'Often,'], 'mystery'), (['Often,', 'mystery'], 'or'), (['mystery', 'or'], 'thriller'), (['or', 'thriller'], 'novels'), (['thriller', 'novels'], 'fall'), (['novels', 'fall'], 'under'), (['fall', 'under'], 'the'), (['under', 'the'], 'suspense'), (['the', 'suspense'], 'category'), (['suspense', 'category'], 'and'), (['category', 'and'], 'these'), (['and', 'these'], 'three'), (['these', 'three'], 'genre'), (['three', 'genre'], 'titles'), (['genre', 'titles'], 'are'), (['titles', 'are'], 'also'), (['are', 'also'], 'used'), (['also', 'used'], 'interchangeably'), (['used', 'interchangeably'], 'because'), (['interchangeably', 'because'], 'of'), (['because', 'of'], 'the'), (['of', 'the'], 'blur'), (['the', 'blur'], 'lines.'), (['blur', 'lines.'], 'But'), (['lines.', 'But'], 'the'), (['But', 'the'], 'distinguishing'), (['the', 'distinguishing'], 'factor'), (['distinguishing', 'factor'], 'between'), (['factor', 'between'], 'these'), (['between', 'these'], 'three'), (['these', 'three'], 'lies'), (['three', 'lies'], 'in'), (['lies', 'in'], 'the'), (['in', 'the'], 'type'), (['the', 'type'], 'of'), (['type', 'of'], 'suspense'), (['of', 'suspense'], 'that'), (['suspense', 'that'], 'the'), (['that', 'the'], 'story'), (['the', 'story'], 'follows.'), (['story', 'follows.'], 'In'), (['follows.', 'In'], 'mystery'), (['In', 'mystery'], 'novels,'), (['mystery', 'novels,'], 'we'), (['novels,', 'we'], 'follow'), (['we', 'follow'], 'the'), (['follow', 'the'], 'journey'), (['the', 'journey'], 'of'), (['journey', 'of'], 'the'), (['of', 'the'], 'protagonist'), (['the', 'protagonist'], 'who'), (['protagonist', 'who'], 'is'), (['who', 'is'], 'would'), (['is', 'would'], 'be'), (['would', 'be'], 'trying'), (['be', 'trying'], 'to'), (['trying', 'to'], 'solve'), (['to', 'solve'], 'a'), (['solve', 'a'], 'crime.'), (['a', 'crime.'], 'In'), (['crime.', 'In'], 'thriller'), (['In', 'thriller'], 'novels,'), (['thriller', 'novels,'], 'we'), (['novels,', 'we'], 'see'), (['we', 'see'], 'the'), (['see', 'the'], 'central'), (['the', 'central'], 'characters'), (['central', 'characters'], 'or'), (['characters', 'or'], 'main'), (['or', 'main'], 'protagonist'), (['main', 'protagonist'], 'being'), (['protagonist', 'being'], 'suspended'), (['being', 'suspended'], 'in'), (['suspended', 'in'], 'ever-present'), (['in', 'ever-present'], 'danger'), (['ever-present', 'danger'], 'and'), (['danger', 'and'], 'risk.'), (['and', 'risk.'], 'And'), (['risk.', 'And'], 'in'), (['And', 'in'], 'suspense'), (['in', 'suspense'], 'novels,'), (['suspense', 'novels,'], 'the'), (['novels,', 'the'], 'plot'), (['the', 'plot'], 'takes'), (['plot', 'takes'], 'its'), (['takes', 'its'], 'readers'), (['its', 'readers'], 'through'), (['readers', 'through'], 'an'), (['through', 'an'], 'unsettling'), (['an', 'unsettling'], 'sense'), (['unsettling', 'sense'], 'of'), (['sense', 'of'], 'worry'), (['of', 'worry'], 'and'), (['worry', 'and'], 'anticipation'), (['and', 'anticipation'], 'in'), (['anticipation', 'in'], 'readers'), (['in', 'readers'], 'by'), (['readers', 'by'], 'revealing'), (['by', 'revealing'], 'potentially'), (['revealing', 'potentially'], 'dangerous'), (['potentially', 'dangerous'], 'details'), (['dangerous', 'details'], 'that'), (['details', 'that'], 'the'), (['that', 'the'], 'very'), (['the', 'very'], 'protagonist'), (['very', 'protagonist'], 'in'), (['protagonist', 'in'], 'the'), (['in', 'the'], 'story'), (['the', 'story'], 'could'), (['story', 'could'], 'not'), (['could', 'not'], 'be'), (['not', 'be'], 'aware'), (['be', 'aware'], 'of.'), (['aware', 'of.'], '</s>')]\n"
          ]
        }
      ],
      "source": [
        "ngrams_train = [([sentence_train[i+j-NGRAM_SIZE] for j in range(NGRAM_SIZE)], sentence_train[i]) for i in range(NGRAM_SIZE, len(sentence_train))] # !!\n",
        "ngrams_train = ngrams_train[1:] # !!!\n",
        "print(ngrams_train)"
      ]
    },
    {
      "attachments": {},
      "cell_type": "markdown",
      "metadata": {},
      "source": [
        "##### 3) 단어 사전 만들기"
      ]
    },
    {
      "cell_type": "code",
      "execution_count": 7,
      "metadata": {
        "id": "bJ78LYAhHX98"
      },
      "outputs": [],
      "source": [
        "vocab = set(sentence_train)\n",
        "word_to_idx = {word:i for i, word in enumerate(vocab)}\n",
        "idx_to_word = {v:k for k, v in word_to_idx.items()}"
      ]
    },
    {
      "cell_type": "code",
      "execution_count": 8,
      "metadata": {},
      "outputs": [
        {
          "data": {
            "text/plain": [
              "{'type': 0,\n",
              " 'But': 1,\n",
              " 'weary': 2,\n",
              " 'revealing': 3,\n",
              " 'novels,': 4,\n",
              " 'In': 5,\n",
              " 'because': 6,\n",
              " 'by': 7,\n",
              " 'on': 8,\n",
              " 'worry': 9,\n",
              " '</s>': 10,\n",
              " 'thriller': 11,\n",
              " 'solve': 12,\n",
              " 'This': 13,\n",
              " 'its': 14,\n",
              " 'central': 15,\n",
              " 'story': 16,\n",
              " 'often': 17,\n",
              " 'fall': 18,\n",
              " 'journey': 19,\n",
              " 'of.': 20,\n",
              " 'used': 21,\n",
              " 'these': 22,\n",
              " 'ever-present': 23,\n",
              " 'induces': 24,\n",
              " 'not': 25,\n",
              " 'mystery': 26,\n",
              " 'we': 27,\n",
              " 'through': 28,\n",
              " 'potentially': 29,\n",
              " 'three': 30,\n",
              " 'suspended': 31,\n",
              " 'so': 32,\n",
              " 'suspense': 33,\n",
              " 'lines.': 34,\n",
              " 'under': 35,\n",
              " 'aware': 36,\n",
              " 'an': 37,\n",
              " 'trying': 38,\n",
              " 'protagonist': 39,\n",
              " 'readers': 40,\n",
              " \"story's\": 41,\n",
              " 'and': 42,\n",
              " 'lies': 43,\n",
              " 'of': 44,\n",
              " 'characters': 45,\n",
              " 'the': 46,\n",
              " 'Often,': 47,\n",
              " 'category': 48,\n",
              " 'them': 49,\n",
              " 'very': 50,\n",
              " 'is': 51,\n",
              " 'to': 52,\n",
              " 'letting': 53,\n",
              " 'that': 54,\n",
              " 'genre': 55,\n",
              " 'who': 56,\n",
              " 'are': 57,\n",
              " 'blur': 58,\n",
              " 'could': 59,\n",
              " '<s>': 60,\n",
              " 'novels': 61,\n",
              " 'be': 62,\n",
              " 'main': 63,\n",
              " 'Suspense': 64,\n",
              " 'unsettling': 65,\n",
              " 'interchangeably': 66,\n",
              " 'danger': 67,\n",
              " 'factor': 68,\n",
              " 'a': 69,\n",
              " 'titles': 70,\n",
              " 'dangerous': 71,\n",
              " 'sense': 72,\n",
              " 'done': 73,\n",
              " 'risk.': 74,\n",
              " 'anticipation': 75,\n",
              " 'And': 76,\n",
              " 'being': 77,\n",
              " 'distinguishing': 78,\n",
              " 'readers.': 79,\n",
              " 'details': 80,\n",
              " 'also': 81,\n",
              " 'see': 82,\n",
              " 'would': 83,\n",
              " 'follows.': 84,\n",
              " 'in': 85,\n",
              " 'or': 86,\n",
              " 'between': 87,\n",
              " 'crime.': 88,\n",
              " 'takes': 89,\n",
              " 'plot': 90,\n",
              " 'follow': 91}"
            ]
          },
          "execution_count": 8,
          "metadata": {},
          "output_type": "execute_result"
        }
      ],
      "source": [
        "word_to_idx"
      ]
    },
    {
      "attachments": {},
      "cell_type": "markdown",
      "metadata": {
        "id": "YdGKR1BDH908"
      },
      "source": [
        "## Ngram pytorch module class 설정"
      ]
    },
    {
      "attachments": {},
      "cell_type": "markdown",
      "metadata": {},
      "source": [
        "##### 4) 모델 정의"
      ]
    },
    {
      "cell_type": "code",
      "execution_count": 18,
      "metadata": {
        "id": "mpLCyA0hHgML"
      },
      "outputs": [],
      "source": [
        "class NGramLanguageModeler(nn.Module):\n",
        "    def __init__(self, vocab_size, EMBEDDING_DIM, NGRAM_SIZE):\n",
        "        super(NGramLanguageModeler, self).__init__()\n",
        "        self.embeddings = nn.Embedding(vocab_size, embedding_dim=EMBEDDING_DIM)\n",
        "        self.linear1 = nn.Linear(NGRAM_SIZE * EMBEDDING_DIM, 128)\n",
        "        self.linear2 = nn.Linear(128, vocab_size)\n",
        "    def forward(self, inputs):\n",
        "        # print(f'inputs : {inputs}') # tensor([51, 64])\n",
        "        embeds = self.embeddings(inputs).view((1, -1)) # 행방향 크기를 1로 하고, 열방향에 나머지 원소들 다 때려넣어 # !!\n",
        "        # print(f'embeds.size() : {embeds.size()}') # torch.Size([1, 20])\n",
        "        # print(f'embeds : {embeds}')\n",
        "        \"\"\"\n",
        "        tensor([[-0.7379, -0.2725, -1.2734, -0.5576,  0.0750,  0.4588, -0.9168, -0.1681,\n",
        "         -1.8120, -0.1912, -0.4644,  0.0171, -0.0437,  1.1693,  1.1770, -0.2649,\n",
        "          1.0498,  0.4795, -0.7503,  1.0908]], grad_fn=<ViewBackward0>)\n",
        "        \"\"\"\n",
        "        output = F.relu(self.linear1(embeds))\n",
        "        # print(f'self.linear1(embeds).size() : {self.linear1(embeds).size()}') # torch.Size([1, 128])\n",
        "        # print(f'self.linear1(embeds) : {self.linear1(embeds)}')\n",
        "        \"\"\"\n",
        "        self.linear1(embeds) : tensor([[ 0.6441, -0.6134, -0.5502, -1.0712, -1.6856, -1.2454, -0.0170,  1.4104,\n",
        "            0.5504, -1.6509,  0.7596, -0.3269, -0.8055,  1.2564, -0.1435,  1.0280,\n",
        "            0.2275,  1.1847,  0.1800, -0.0064,  0.1575,  0.3832, -0.0973,  0.1681,\n",
        "            1.8276, -0.6435,  0.9201, -0.0519,  1.0385,  0.2011,  0.3882, -0.4531,\n",
        "            -1.0654, -0.0232, -0.2183, -0.5198,  0.2731, -1.3171, -0.1079,  1.1964,\n",
        "            0.6087, -0.1636,  0.3802,  0.9145, -1.8311, -0.1652,  0.4209,  0.3817,\n",
        "            -0.0905,  0.8613,  1.0039, -2.5016,  1.4129,  1.2301,  2.7590,  0.5687,\n",
        "            -1.1880, -0.8462,  0.4107,  0.4965,  1.2890,  1.9599, -0.0876, -0.6995,\n",
        "            -0.0413,  1.0799,  0.3173,  1.2304, -0.0233, -0.1797,  0.8794, -0.1586,\n",
        "            -2.1131,  0.7990, -1.3600, -0.3486, -0.0537, -0.0333,  0.3976,  0.5906,\n",
        "            -0.9306, -0.3923,  0.0201,  1.3921,  0.0309,  0.2756,  0.6293,  1.1108,\n",
        "            1.5514, -0.7965, -0.5040,  0.8207,  0.0439, -0.7431, -0.7832,  1.5476,\n",
        "            0.0213,  0.2499, -0.6473, -0.1953,  0.3382,  0.4917,  0.8534,  1.0657,\n",
        "            -0.0043,  0.4127,  0.4737,  0.7518, -0.6645,  0.7234,  1.0924, -0.8385,\n",
        "            0.3456, -0.0431,  1.2784, -0.4222,  1.7795,  1.4238,  0.0479,  0.2517,\n",
        "            -0.7715, -0.8274, -0.0353,  1.1049, -0.2803,  1.1811, -0.0133,  0.5862]],\n",
        "        grad_fn=<AddmmBackward0>)\n",
        "        \"\"\"\n",
        "        # print(f'F.relu(self.linear1(embeds)).size() : {F.relu(self.linear1(embeds)).size()}') # torch.Size([1, 128])\n",
        "        # print(f'F.relu(self.linear1(embeds)) : {F.relu(self.linear1(embeds))}')\n",
        "        \"\"\"\n",
        "        F.relu(self.linear1(embeds)) : tensor([[0.6441, 0.0000, 0.0000, 0.0000, 0.0000, 0.0000, 0.0000, 1.4104, 0.5504,\n",
        "            0.0000, 0.7596, 0.0000, 0.0000, 1.2564, 0.0000, 1.0280, 0.2275, 1.1847,\n",
        "            0.1800, 0.0000, 0.1575, 0.3832, 0.0000, 0.1681, 1.8276, 0.0000, 0.9201,\n",
        "            0.0000, 1.0385, 0.2011, 0.3882, 0.0000, 0.0000, 0.0000, 0.0000, 0.0000,\n",
        "            0.2731, 0.0000, 0.0000, 1.1964, 0.6087, 0.0000, 0.3802, 0.9145, 0.0000,\n",
        "            0.0000, 0.4209, 0.3817, 0.0000, 0.8613, 1.0039, 0.0000, 1.4129, 1.2301,\n",
        "            2.7590, 0.5687, 0.0000, 0.0000, 0.4107, 0.4965, 1.2890, 1.9599, 0.0000,\n",
        "            0.0000, 0.0000, 1.0799, 0.3173, 1.2304, 0.0000, 0.0000, 0.8794, 0.0000,\n",
        "            ...\n",
        "            -1.4119,  0.5253,  0.4995,  3.7098]], grad_fn=<AddmmBackward0>)\n",
        "        \"\"\"\n",
        "        output = self.linear2(output)\n",
        "        # print(f'output.size() : {output.size()}') # torch.Size([1, 92])\n",
        "        # print(f'output : {output}')\n",
        "        \"\"\"\n",
        "        tensor([[ 0.0124,  0.5504,  0.3012,  0.1282, -0.0821,  0.2280,  0.1959, -0.3719,\n",
        "          0.3626, -0.1269,  0.1415, -0.1317,  0.5611, -0.1198,  0.1622,  0.1204,\n",
        "         -0.3718, -0.0145, -0.0923, -0.1777, -0.3262, -0.4484, -0.2038,  0.4157,\n",
        "          0.0743,  0.4675, -0.1728,  0.3382, -0.0050, -0.3981,  0.0927, -0.0755,\n",
        "          0.1324,  0.5839, -0.6075,  0.1364, -0.1113,  0.0798, -0.1830,  0.5242,\n",
        "         -0.0227,  0.1604,  0.0388, -0.3918,  0.6151,  0.0009,  0.1199,  0.0709,\n",
        "          0.2251, -0.0277,  0.0399, -0.0923, -0.2257,  0.0083,  0.1515, -0.1728,\n",
        "         -0.2140,  0.1108,  0.2004, -0.2333, -0.3508, -0.0253, -0.2328, -0.6217,\n",
        "         -0.0782,  0.1229, -0.0412, -0.1062, -0.7300, -0.4323, -0.3140,  0.4140,\n",
        "          0.1561, -0.1526, -0.3643, -0.1981,  0.2606,  0.2855, -0.1179,  0.2463,\n",
        "         -0.1343,  0.3879, -0.1122, -0.1333, -0.3923,  0.1568, -0.1837,  0.2101,\n",
        "          0.2501,  0.1067,  0.0240, -0.0023]], grad_fn=<AddmmBackward0>)\n",
        "        \"\"\"\n",
        "        log_probs = F.log_softmax(output, dim=1) # 열방향으로 Log Softmax\n",
        "        # print(f'log_probs.size() : {log_probs.size()}') # torch.Size([1, 92])\n",
        "        # print(f'log_probs : {log_probs}')\n",
        "        \"\"\"\n",
        "        tensor([[-4.7832, -4.7157, -4.7879, -4.5430, -4.4339, -4.5025, -4.2623, -4.0010,\n",
        "         -4.7352, -4.6143, -4.3309, -4.6151, -4.3560, -4.4804, -4.7485, -4.5814,\n",
        "         -4.6898, -4.2726, -4.9978, -4.6067, -4.1026, -4.1331, -4.5865, -4.7218,\n",
        "         -4.7840, -4.6431, -4.7147, -4.6294, -4.7187, -4.2708, -4.6978, -4.4084,\n",
        "         -4.7089, -4.2476, -4.4089, -4.6950, -4.6561, -4.9805, -4.7100, -4.6702,\n",
        "         -4.6025, -4.3475, -4.6389, -4.8811, -4.6336, -4.9418, -4.8256, -5.0364,\n",
        "         -4.3126, -4.4835, -4.3877, -4.8331, -4.5688, -4.8238, -4.7488, -4.7655,\n",
        "         -4.7157, -4.4630, -4.4461, -4.5065, -4.6963, -5.0180, -4.6433, -4.2379,\n",
        "         -4.5765, -4.7061, -4.6288, -4.7156, -4.8744, -4.7938, -4.5158, -4.5270,\n",
        "         -4.6661, -4.4159, -4.7725, -4.5816, -4.4162, -4.6457, -4.4713, -4.6018,\n",
        "         -4.6241, -4.4262, -4.5049, -4.2798, -4.6101, -4.8002, -4.4954, -4.9527,\n",
        "         -4.6375, -4.5028, -4.7188, -4.0668, -4.7514, -4.6962, -4.8468, -4.4820,\n",
        "         -4.5518]], grad_fn=<LogSoftmaxBackward0>)\n",
        "        \"\"\"\n",
        "        return log_probs\n",
        "    \n",
        "model = NGramLanguageModeler(len(vocab), EMBEDDING_DIM, NGRAM_SIZE)"
      ]
    },
    {
      "cell_type": "code",
      "execution_count": 19,
      "metadata": {},
      "outputs": [
        {
          "name": "stdout",
          "output_type": "stream",
          "text": [
            "NGramLanguageModeler(\n",
            "  (embeddings): Embedding(92, 10)\n",
            "  (linear1): Linear(in_features=20, out_features=128, bias=True)\n",
            "  (linear2): Linear(in_features=128, out_features=92, bias=True)\n",
            ")\n"
          ]
        }
      ],
      "source": [
        "print(model)"
      ]
    },
    {
      "attachments": {},
      "cell_type": "markdown",
      "metadata": {},
      "source": [
        "##### 5) Optimzier 정의"
      ]
    },
    {
      "cell_type": "code",
      "execution_count": 20,
      "metadata": {
        "id": "HxXzIJk9Hy-e"
      },
      "outputs": [],
      "source": [
        "optimizer = optim.SGD(model.parameters(), lr=0.01)"
      ]
    },
    {
      "attachments": {},
      "cell_type": "markdown",
      "metadata": {},
      "source": [
        "##### 6) 모델 학습"
      ]
    },
    {
      "cell_type": "code",
      "execution_count": 21,
      "metadata": {
        "id": "zaSqCPjWILBt"
      },
      "outputs": [
        {
          "name": "stdout",
          "output_type": "stream",
          "text": [
            "losses : [4.44106388092041]\n",
            "tensor([-0.8151, -1.3130, -0.4991, -0.5637, -1.7712, -0.4850, -0.8959,  0.2439,\n",
            "        -0.0744,  0.6431], grad_fn=<SelectBackward0>)\n"
          ]
        }
      ],
      "source": [
        "losses = []\n",
        "loss_function = nn.NLLLoss() # !!\n",
        "\n",
        "# (1) Epoch 순회\n",
        "num_epochs = 100\n",
        "for epoch in range(num_epochs + 1):\n",
        "    # 1] 변수 초기화\n",
        "    total_loss = 0\n",
        "    for context, next_word in ngrams_train:\n",
        "        # 2] train 데이터 전처리\n",
        "        # Step 1. Prepare the inputs to be passed to the model (i.e, turn the words into integer indices and wrap them in tensors)\n",
        "        context_idxes = torch.tensor([word_to_idx[c] for c in context], dtype=torch.long) # !!\n",
        "\n",
        "        # Step 2. Recall that torch *accumulates* gradients. Before passing in a new instance, you need to zero out the gradients from the old instance\n",
        "        model.zero_grad()\n",
        "\n",
        "        # 3] 모델 예측\n",
        "        # Step 3. Run the forward pass, getting log probabilities over next words\n",
        "        log_probs = model(context_idxes)\n",
        "\n",
        "        # 4] Cost 계산\n",
        "        # Step 4. Compute your loss function. (Again, Torch wants the target word wrapped in a tensor)\n",
        "        loss = loss_function(log_probs, torch.tensor([word_to_idx[next_word]], dtype=torch.long)) # !!\n",
        "        # print(torch.tensor([word_to_idx[next_word]], dtype=torch.long)) # tensor([61])\n",
        "\n",
        "        # 5] 모델 역전파\n",
        "        # Step 5. Do the backward pass and update the gradient\n",
        "        loss.backward()\n",
        "        optimizer.step()\n",
        "\n",
        "        # Get the Python number from a 1-element Tensor by calling tensor.item()\n",
        "        total_loss += loss.item()\n",
        "    losses.append(total_loss)\n",
        "\n",
        "# 6] 결과 출력\n",
        "print(f'losses : {losses}')\n",
        "\n",
        "print(model.embeddings.weight[word_to_idx[\"Suspense\"]]) # !!!"
      ]
    },
    {
      "attachments": {},
      "cell_type": "markdown",
      "metadata": {},
      "source": [
        "- 테스트"
      ]
    },
    {
      "cell_type": "code",
      "execution_count": 234,
      "metadata": {},
      "outputs": [
        {
          "data": {
            "text/plain": [
              "['Suspense', 'novels']"
            ]
          },
          "execution_count": 234,
          "metadata": {},
          "output_type": "execute_result"
        }
      ],
      "source": [
        "context = ['Suspense', 'novels']\n",
        "\n",
        "context"
      ]
    },
    {
      "cell_type": "code",
      "execution_count": 235,
      "metadata": {},
      "outputs": [
        {
          "data": {
            "text/plain": [
              "tensor([91, 17])"
            ]
          },
          "execution_count": 235,
          "metadata": {},
          "output_type": "execute_result"
        }
      ],
      "source": [
        "context_idxes = torch.tensor([word_to_idx[c] for c in context], dtype = torch.long)\n",
        "\n",
        "context_idxes"
      ]
    },
    {
      "cell_type": "code",
      "execution_count": 236,
      "metadata": {},
      "outputs": [
        {
          "data": {
            "text/plain": [
              "tensor([[-9.9061e+00, -1.0498e+01, -1.0758e+01, -9.2008e+00, -1.0155e+01,\n",
              "         -1.3518e+01, -1.2190e+01, -9.6378e+00, -9.7001e+00, -1.2342e+01,\n",
              "         -1.0333e+01, -9.7490e+00, -1.6533e+01, -1.4480e+01, -1.6123e+01,\n",
              "         -1.0230e+01, -1.1962e+01, -6.5768e+00, -7.7794e+00, -1.2537e+01,\n",
              "         -1.1348e+01, -1.1538e+01, -1.4145e+01, -1.0613e+01, -1.3330e+01,\n",
              "         -1.7647e+01, -6.5814e-03, -8.7284e+00, -1.2222e+01, -1.6708e+01,\n",
              "         -1.6745e+01, -1.5558e+01, -9.4164e+00, -1.2281e+01, -1.2313e+01,\n",
              "         -1.7048e+01, -1.6297e+01, -1.2313e+01, -1.8562e+01, -1.2466e+01,\n",
              "         -1.3149e+01, -1.6485e+01, -1.3789e+01, -1.1736e+01, -1.2244e+01,\n",
              "         -1.5884e+01, -1.3463e+01, -1.2594e+01, -1.3223e+01, -5.9292e+00,\n",
              "         -1.2614e+01, -1.1923e+01, -1.7659e+01, -1.4877e+01, -1.3528e+01,\n",
              "         -1.4358e+01, -9.3623e+00, -1.3104e+01, -1.1925e+01, -1.3437e+01,\n",
              "         -1.1851e+01, -8.4969e+00, -1.3920e+01, -1.2400e+01, -1.0834e+01,\n",
              "         -9.9754e+00, -1.3599e+01, -1.0015e+01, -1.4755e+01, -9.0371e+00,\n",
              "         -1.9037e+01, -1.2986e+01, -1.1399e+01, -1.1400e+01, -1.5589e+01,\n",
              "         -1.2068e+01, -1.5792e+01, -1.1171e+01, -1.8021e+01, -1.0053e+01,\n",
              "         -1.5299e+01, -1.1554e+01, -8.1785e+00, -1.2991e+01, -1.4548e+01,\n",
              "         -1.1379e+01, -1.2914e+01, -8.2101e+00, -1.3689e+01, -1.3286e+01,\n",
              "         -1.1308e+01, -1.6235e+01]], grad_fn=<LogSoftmaxBackward0>)"
            ]
          },
          "execution_count": 236,
          "metadata": {},
          "output_type": "execute_result"
        }
      ],
      "source": [
        "log_probs = model(context_idxes)\n",
        "\n",
        "log_probs"
      ]
    },
    {
      "cell_type": "code",
      "execution_count": 237,
      "metadata": {},
      "outputs": [
        {
          "data": {
            "text/plain": [
              "tensor(-1146.7679, grad_fn=<SumBackward0>)"
            ]
          },
          "execution_count": 237,
          "metadata": {},
          "output_type": "execute_result"
        }
      ],
      "source": [
        "log_probs.sum()"
      ]
    },
    {
      "cell_type": "code",
      "execution_count": 238,
      "metadata": {},
      "outputs": [
        {
          "data": {
            "text/plain": [
              "tensor([26])"
            ]
          },
          "execution_count": 238,
          "metadata": {},
          "output_type": "execute_result"
        }
      ],
      "source": [
        "next_word_idx = log_probs.argmax(dim = 1)\n",
        "\n",
        "next_word_idx"
      ]
    },
    {
      "cell_type": "code",
      "execution_count": 240,
      "metadata": {},
      "outputs": [
        {
          "data": {
            "text/plain": [
              "[26]"
            ]
          },
          "execution_count": 240,
          "metadata": {},
          "output_type": "execute_result"
        }
      ],
      "source": [
        "next_word_idx.tolist()"
      ]
    },
    {
      "cell_type": "code",
      "execution_count": 241,
      "metadata": {},
      "outputs": [
        {
          "data": {
            "text/plain": [
              "26"
            ]
          },
          "execution_count": 241,
          "metadata": {},
          "output_type": "execute_result"
        }
      ],
      "source": [
        "next_word_idx.tolist()[0]"
      ]
    },
    {
      "cell_type": "code",
      "execution_count": 242,
      "metadata": {},
      "outputs": [
        {
          "data": {
            "text/plain": [
              "'follow'"
            ]
          },
          "execution_count": 242,
          "metadata": {},
          "output_type": "execute_result"
        }
      ],
      "source": [
        "next_word = idx_to_word[next_word_idx.tolist()[0]]\n",
        "\n",
        "next_word"
      ]
    },
    {
      "cell_type": "code",
      "execution_count": 243,
      "metadata": {},
      "outputs": [],
      "source": [
        "sentence_generate = [\"<s>\"]"
      ]
    },
    {
      "cell_type": "code",
      "execution_count": 244,
      "metadata": {},
      "outputs": [
        {
          "data": {
            "text/plain": [
              "['<s>', 'follow']"
            ]
          },
          "execution_count": 244,
          "metadata": {},
          "output_type": "execute_result"
        }
      ],
      "source": [
        "sentence_generate.append(next_word) # !\n",
        "\n",
        "sentence_generate"
      ]
    },
    {
      "cell_type": "code",
      "execution_count": 245,
      "metadata": {},
      "outputs": [
        {
          "data": {
            "text/plain": [
              "['<s>', 'follow']"
            ]
          },
          "execution_count": 245,
          "metadata": {},
          "output_type": "execute_result"
        }
      ],
      "source": [
        "ngrams_generate = sentence_generate[-NGRAM_SIZE:] # !\n",
        "\n",
        "ngrams_generate"
      ]
    },
    {
      "cell_type": "code",
      "execution_count": 246,
      "metadata": {},
      "outputs": [
        {
          "data": {
            "text/plain": [
              "80"
            ]
          },
          "execution_count": 246,
          "metadata": {},
          "output_type": "execute_result"
        }
      ],
      "source": [
        "word_to_idx[\"<s>\"]"
      ]
    },
    {
      "cell_type": "code",
      "execution_count": 247,
      "metadata": {},
      "outputs": [
        {
          "data": {
            "text/plain": [
              "91"
            ]
          },
          "execution_count": 247,
          "metadata": {},
          "output_type": "execute_result"
        }
      ],
      "source": [
        "word_to_idx[\"Suspense\"]"
      ]
    },
    {
      "cell_type": "code",
      "execution_count": 248,
      "metadata": {},
      "outputs": [
        {
          "data": {
            "text/plain": [
              "[80, 91]"
            ]
          },
          "execution_count": 248,
          "metadata": {},
          "output_type": "execute_result"
        }
      ],
      "source": [
        "[word_to_idx[\"<s>\"], word_to_idx[\"Suspense\"]]"
      ]
    },
    {
      "cell_type": "code",
      "execution_count": 249,
      "metadata": {},
      "outputs": [
        {
          "data": {
            "text/plain": [
              "tensor([80, 91])"
            ]
          },
          "execution_count": 249,
          "metadata": {},
          "output_type": "execute_result"
        }
      ],
      "source": [
        "temp_sentence = torch.tensor([word_to_idx[\"<s>\"], word_to_idx[\"Suspense\"]], dtype = torch.long)\n",
        "\n",
        "temp_sentence"
      ]
    },
    {
      "cell_type": "code",
      "execution_count": 250,
      "metadata": {},
      "outputs": [
        {
          "data": {
            "text/plain": [
              "tensor([80, 91,  0])"
            ]
          },
          "execution_count": 250,
          "metadata": {},
          "output_type": "execute_result"
        }
      ],
      "source": [
        "temp_sentence = torch.cat((temp_sentence, torch.tensor([0]))) # !!\n",
        "\n",
        "temp_sentence"
      ]
    },
    {
      "cell_type": "code",
      "execution_count": 251,
      "metadata": {},
      "outputs": [
        {
          "data": {
            "text/plain": [
              "tensor([80, 91,  0, 10])"
            ]
          },
          "execution_count": 251,
          "metadata": {},
          "output_type": "execute_result"
        }
      ],
      "source": [
        "temp_sentence = torch.cat((temp_sentence, torch.tensor([10], dtype = torch.long)))\n",
        "\n",
        "temp_sentence"
      ]
    },
    {
      "cell_type": "code",
      "execution_count": 256,
      "metadata": {},
      "outputs": [
        {
          "data": {
            "text/plain": [
              "['<s>', 0]"
            ]
          },
          "execution_count": 256,
          "metadata": {},
          "output_type": "execute_result"
        }
      ],
      "source": [
        "[\"<s>\", 0]"
      ]
    },
    {
      "attachments": {},
      "cell_type": "markdown",
      "metadata": {},
      "source": [
        "## 과제1: Generator 함수를 구현하세요.\n",
        " - 단어 하나를 입력으로 받아 문장을 자동으로 생성하는 def generator() 함수를 구현하면 됩니다."
      ]
    },
    {
      "cell_type": "code",
      "execution_count": 252,
      "metadata": {},
      "outputs": [],
      "source": [
        "def generate_sentence(start_word, seed=None, debug=False):\n",
        "    # (1) 시드 초기화\n",
        "    if seed is not None:\n",
        "        import random\n",
        "        random.seed(seed)\n",
        "    # (2) 변수 초기화\n",
        "    sentence_generate = [\"<s>\", start_word] # !!\n",
        "    context_generate = [\"<s>\", start_word] # !!\n",
        "    context_word = start_word # !!\n",
        "\n",
        "    i = 0\n",
        "    # (3) 문장 생성\n",
        "    while True:\n",
        "        # 1] 현재 단어가 사전에 없는 경우 : 문장 생성 중단\n",
        "        if context_word not in word_to_idx:\n",
        "            break\n",
        "        # 2] 다음 단어 생성\n",
        "        context_ngram = torch.tensor([word_to_idx[s] for s in context_generate[-NGRAM_SIZE:]], dtype = torch.long) # !!\n",
        "        # print(context_ngram)\n",
        "        next_log_probs = model(context_ngram)\n",
        "        next_word_idx = next_log_probs.argmax(dim = 1) # !!\n",
        "        next_word = idx_to_word[next_word_idx.tolist()[0]] # !!\n",
        "        # 3] 다음 단어가 문장의 마지막인 경우 : 문장 생성 중단 # !!\n",
        "        if next_word == \"</s>\":\n",
        "            break\n",
        "        # 4] 단어 전처리 (보편적으로 띄어쓰기를 하지 않는 경우를 제외하고는, 각 토큰은 띄어쓰기로 구분해서 생성) # !!\n",
        "        if context_word == \"<s>\":\n",
        "            sentence_generate.append(next_word.title())\n",
        "        elif context_word in [\"`\", \"\\\"\",\"'\",\"(\"]:\n",
        "            sentence_generate.append(next_word)\n",
        "        elif next_word in [\"'\", \".\", \",\", \")\", \":\", \";\", \"?\"]:\n",
        "            sentence_generate.append(next_word)\n",
        "        else:\n",
        "            sentence_generate.append(\" \" + next_word)\n",
        "        context_generate.append(next_word) # !\n",
        "        context_word = next_word # !\n",
        "        # 5] 결과 출력\n",
        "        if debug:\n",
        "            print(sentence_generate)\n",
        "        i += 1\n",
        "        if i == 100:\n",
        "            break\n",
        "\n",
        "    return \"\".join(sentence_generate)"
      ]
    },
    {
      "cell_type": "code",
      "execution_count": 253,
      "metadata": {},
      "outputs": [
        {
          "name": "stdout",
          "output_type": "stream",
          "text": [
            "['<s>', 'Suspense', ' who']\n",
            "['<s>', 'Suspense', ' who', ' is']\n",
            "['<s>', 'Suspense', ' who', ' is', ' would']\n",
            "['<s>', 'Suspense', ' who', ' is', ' would', ' be']\n",
            "['<s>', 'Suspense', ' who', ' is', ' would', ' be', ' trying']\n",
            "['<s>', 'Suspense', ' who', ' is', ' would', ' be', ' trying', ' to']\n",
            "['<s>', 'Suspense', ' who', ' is', ' would', ' be', ' trying', ' to', ' solve']\n",
            "['<s>', 'Suspense', ' who', ' is', ' would', ' be', ' trying', ' to', ' solve', ' a']\n",
            "['<s>', 'Suspense', ' who', ' is', ' would', ' be', ' trying', ' to', ' solve', ' a', ' crime.']\n",
            "['<s>', 'Suspense', ' who', ' is', ' would', ' be', ' trying', ' to', ' solve', ' a', ' crime.', ' In']\n",
            "['<s>', 'Suspense', ' who', ' is', ' would', ' be', ' trying', ' to', ' solve', ' a', ' crime.', ' In', ' thriller']\n",
            "['<s>', 'Suspense', ' who', ' is', ' would', ' be', ' trying', ' to', ' solve', ' a', ' crime.', ' In', ' thriller', ' novels,']\n",
            "['<s>', 'Suspense', ' who', ' is', ' would', ' be', ' trying', ' to', ' solve', ' a', ' crime.', ' In', ' thriller', ' novels,', ' we']\n",
            "['<s>', 'Suspense', ' who', ' is', ' would', ' be', ' trying', ' to', ' solve', ' a', ' crime.', ' In', ' thriller', ' novels,', ' we', ' see']\n",
            "['<s>', 'Suspense', ' who', ' is', ' would', ' be', ' trying', ' to', ' solve', ' a', ' crime.', ' In', ' thriller', ' novels,', ' we', ' see', ' the']\n",
            "['<s>', 'Suspense', ' who', ' is', ' would', ' be', ' trying', ' to', ' solve', ' a', ' crime.', ' In', ' thriller', ' novels,', ' we', ' see', ' the', ' central']\n",
            "['<s>', 'Suspense', ' who', ' is', ' would', ' be', ' trying', ' to', ' solve', ' a', ' crime.', ' In', ' thriller', ' novels,', ' we', ' see', ' the', ' central', ' characters']\n",
            "['<s>', 'Suspense', ' who', ' is', ' would', ' be', ' trying', ' to', ' solve', ' a', ' crime.', ' In', ' thriller', ' novels,', ' we', ' see', ' the', ' central', ' characters', ' or']\n",
            "['<s>', 'Suspense', ' who', ' is', ' would', ' be', ' trying', ' to', ' solve', ' a', ' crime.', ' In', ' thriller', ' novels,', ' we', ' see', ' the', ' central', ' characters', ' or', ' main']\n",
            "['<s>', 'Suspense', ' who', ' is', ' would', ' be', ' trying', ' to', ' solve', ' a', ' crime.', ' In', ' thriller', ' novels,', ' we', ' see', ' the', ' central', ' characters', ' or', ' main', ' protagonist']\n",
            "['<s>', 'Suspense', ' who', ' is', ' would', ' be', ' trying', ' to', ' solve', ' a', ' crime.', ' In', ' thriller', ' novels,', ' we', ' see', ' the', ' central', ' characters', ' or', ' main', ' protagonist', ' being']\n",
            "['<s>', 'Suspense', ' who', ' is', ' would', ' be', ' trying', ' to', ' solve', ' a', ' crime.', ' In', ' thriller', ' novels,', ' we', ' see', ' the', ' central', ' characters', ' or', ' main', ' protagonist', ' being', ' suspended']\n",
            "['<s>', 'Suspense', ' who', ' is', ' would', ' be', ' trying', ' to', ' solve', ' a', ' crime.', ' In', ' thriller', ' novels,', ' we', ' see', ' the', ' central', ' characters', ' or', ' main', ' protagonist', ' being', ' suspended', ' in']\n",
            "['<s>', 'Suspense', ' who', ' is', ' would', ' be', ' trying', ' to', ' solve', ' a', ' crime.', ' In', ' thriller', ' novels,', ' we', ' see', ' the', ' central', ' characters', ' or', ' main', ' protagonist', ' being', ' suspended', ' in', ' ever-present']\n",
            "['<s>', 'Suspense', ' who', ' is', ' would', ' be', ' trying', ' to', ' solve', ' a', ' crime.', ' In', ' thriller', ' novels,', ' we', ' see', ' the', ' central', ' characters', ' or', ' main', ' protagonist', ' being', ' suspended', ' in', ' ever-present', ' danger']\n",
            "['<s>', 'Suspense', ' who', ' is', ' would', ' be', ' trying', ' to', ' solve', ' a', ' crime.', ' In', ' thriller', ' novels,', ' we', ' see', ' the', ' central', ' characters', ' or', ' main', ' protagonist', ' being', ' suspended', ' in', ' ever-present', ' danger', ' and']\n",
            "['<s>', 'Suspense', ' who', ' is', ' would', ' be', ' trying', ' to', ' solve', ' a', ' crime.', ' In', ' thriller', ' novels,', ' we', ' see', ' the', ' central', ' characters', ' or', ' main', ' protagonist', ' being', ' suspended', ' in', ' ever-present', ' danger', ' and', ' risk.']\n",
            "['<s>', 'Suspense', ' who', ' is', ' would', ' be', ' trying', ' to', ' solve', ' a', ' crime.', ' In', ' thriller', ' novels,', ' we', ' see', ' the', ' central', ' characters', ' or', ' main', ' protagonist', ' being', ' suspended', ' in', ' ever-present', ' danger', ' and', ' risk.', ' And']\n",
            "['<s>', 'Suspense', ' who', ' is', ' would', ' be', ' trying', ' to', ' solve', ' a', ' crime.', ' In', ' thriller', ' novels,', ' we', ' see', ' the', ' central', ' characters', ' or', ' main', ' protagonist', ' being', ' suspended', ' in', ' ever-present', ' danger', ' and', ' risk.', ' And', ' in']\n",
            "['<s>', 'Suspense', ' who', ' is', ' would', ' be', ' trying', ' to', ' solve', ' a', ' crime.', ' In', ' thriller', ' novels,', ' we', ' see', ' the', ' central', ' characters', ' or', ' main', ' protagonist', ' being', ' suspended', ' in', ' ever-present', ' danger', ' and', ' risk.', ' And', ' in', ' suspense']\n",
            "['<s>', 'Suspense', ' who', ' is', ' would', ' be', ' trying', ' to', ' solve', ' a', ' crime.', ' In', ' thriller', ' novels,', ' we', ' see', ' the', ' central', ' characters', ' or', ' main', ' protagonist', ' being', ' suspended', ' in', ' ever-present', ' danger', ' and', ' risk.', ' And', ' in', ' suspense', ' novels,']\n",
            "['<s>', 'Suspense', ' who', ' is', ' would', ' be', ' trying', ' to', ' solve', ' a', ' crime.', ' In', ' thriller', ' novels,', ' we', ' see', ' the', ' central', ' characters', ' or', ' main', ' protagonist', ' being', ' suspended', ' in', ' ever-present', ' danger', ' and', ' risk.', ' And', ' in', ' suspense', ' novels,', ' the']\n",
            "['<s>', 'Suspense', ' who', ' is', ' would', ' be', ' trying', ' to', ' solve', ' a', ' crime.', ' In', ' thriller', ' novels,', ' we', ' see', ' the', ' central', ' characters', ' or', ' main', ' protagonist', ' being', ' suspended', ' in', ' ever-present', ' danger', ' and', ' risk.', ' And', ' in', ' suspense', ' novels,', ' the', ' plot']\n",
            "['<s>', 'Suspense', ' who', ' is', ' would', ' be', ' trying', ' to', ' solve', ' a', ' crime.', ' In', ' thriller', ' novels,', ' we', ' see', ' the', ' central', ' characters', ' or', ' main', ' protagonist', ' being', ' suspended', ' in', ' ever-present', ' danger', ' and', ' risk.', ' And', ' in', ' suspense', ' novels,', ' the', ' plot', ' takes']\n",
            "['<s>', 'Suspense', ' who', ' is', ' would', ' be', ' trying', ' to', ' solve', ' a', ' crime.', ' In', ' thriller', ' novels,', ' we', ' see', ' the', ' central', ' characters', ' or', ' main', ' protagonist', ' being', ' suspended', ' in', ' ever-present', ' danger', ' and', ' risk.', ' And', ' in', ' suspense', ' novels,', ' the', ' plot', ' takes', ' its']\n",
            "['<s>', 'Suspense', ' who', ' is', ' would', ' be', ' trying', ' to', ' solve', ' a', ' crime.', ' In', ' thriller', ' novels,', ' we', ' see', ' the', ' central', ' characters', ' or', ' main', ' protagonist', ' being', ' suspended', ' in', ' ever-present', ' danger', ' and', ' risk.', ' And', ' in', ' suspense', ' novels,', ' the', ' plot', ' takes', ' its', ' readers']\n",
            "['<s>', 'Suspense', ' who', ' is', ' would', ' be', ' trying', ' to', ' solve', ' a', ' crime.', ' In', ' thriller', ' novels,', ' we', ' see', ' the', ' central', ' characters', ' or', ' main', ' protagonist', ' being', ' suspended', ' in', ' ever-present', ' danger', ' and', ' risk.', ' And', ' in', ' suspense', ' novels,', ' the', ' plot', ' takes', ' its', ' readers', ' through']\n",
            "['<s>', 'Suspense', ' who', ' is', ' would', ' be', ' trying', ' to', ' solve', ' a', ' crime.', ' In', ' thriller', ' novels,', ' we', ' see', ' the', ' central', ' characters', ' or', ' main', ' protagonist', ' being', ' suspended', ' in', ' ever-present', ' danger', ' and', ' risk.', ' And', ' in', ' suspense', ' novels,', ' the', ' plot', ' takes', ' its', ' readers', ' through', ' an']\n",
            "['<s>', 'Suspense', ' who', ' is', ' would', ' be', ' trying', ' to', ' solve', ' a', ' crime.', ' In', ' thriller', ' novels,', ' we', ' see', ' the', ' central', ' characters', ' or', ' main', ' protagonist', ' being', ' suspended', ' in', ' ever-present', ' danger', ' and', ' risk.', ' And', ' in', ' suspense', ' novels,', ' the', ' plot', ' takes', ' its', ' readers', ' through', ' an', ' unsettling']\n",
            "['<s>', 'Suspense', ' who', ' is', ' would', ' be', ' trying', ' to', ' solve', ' a', ' crime.', ' In', ' thriller', ' novels,', ' we', ' see', ' the', ' central', ' characters', ' or', ' main', ' protagonist', ' being', ' suspended', ' in', ' ever-present', ' danger', ' and', ' risk.', ' And', ' in', ' suspense', ' novels,', ' the', ' plot', ' takes', ' its', ' readers', ' through', ' an', ' unsettling', ' sense']\n",
            "['<s>', 'Suspense', ' who', ' is', ' would', ' be', ' trying', ' to', ' solve', ' a', ' crime.', ' In', ' thriller', ' novels,', ' we', ' see', ' the', ' central', ' characters', ' or', ' main', ' protagonist', ' being', ' suspended', ' in', ' ever-present', ' danger', ' and', ' risk.', ' And', ' in', ' suspense', ' novels,', ' the', ' plot', ' takes', ' its', ' readers', ' through', ' an', ' unsettling', ' sense', ' of']\n",
            "['<s>', 'Suspense', ' who', ' is', ' would', ' be', ' trying', ' to', ' solve', ' a', ' crime.', ' In', ' thriller', ' novels,', ' we', ' see', ' the', ' central', ' characters', ' or', ' main', ' protagonist', ' being', ' suspended', ' in', ' ever-present', ' danger', ' and', ' risk.', ' And', ' in', ' suspense', ' novels,', ' the', ' plot', ' takes', ' its', ' readers', ' through', ' an', ' unsettling', ' sense', ' of', ' worry']\n",
            "['<s>', 'Suspense', ' who', ' is', ' would', ' be', ' trying', ' to', ' solve', ' a', ' crime.', ' In', ' thriller', ' novels,', ' we', ' see', ' the', ' central', ' characters', ' or', ' main', ' protagonist', ' being', ' suspended', ' in', ' ever-present', ' danger', ' and', ' risk.', ' And', ' in', ' suspense', ' novels,', ' the', ' plot', ' takes', ' its', ' readers', ' through', ' an', ' unsettling', ' sense', ' of', ' worry', ' and']\n",
            "['<s>', 'Suspense', ' who', ' is', ' would', ' be', ' trying', ' to', ' solve', ' a', ' crime.', ' In', ' thriller', ' novels,', ' we', ' see', ' the', ' central', ' characters', ' or', ' main', ' protagonist', ' being', ' suspended', ' in', ' ever-present', ' danger', ' and', ' risk.', ' And', ' in', ' suspense', ' novels,', ' the', ' plot', ' takes', ' its', ' readers', ' through', ' an', ' unsettling', ' sense', ' of', ' worry', ' and', ' anticipation']\n",
            "['<s>', 'Suspense', ' who', ' is', ' would', ' be', ' trying', ' to', ' solve', ' a', ' crime.', ' In', ' thriller', ' novels,', ' we', ' see', ' the', ' central', ' characters', ' or', ' main', ' protagonist', ' being', ' suspended', ' in', ' ever-present', ' danger', ' and', ' risk.', ' And', ' in', ' suspense', ' novels,', ' the', ' plot', ' takes', ' its', ' readers', ' through', ' an', ' unsettling', ' sense', ' of', ' worry', ' and', ' anticipation', ' in']\n",
            "['<s>', 'Suspense', ' who', ' is', ' would', ' be', ' trying', ' to', ' solve', ' a', ' crime.', ' In', ' thriller', ' novels,', ' we', ' see', ' the', ' central', ' characters', ' or', ' main', ' protagonist', ' being', ' suspended', ' in', ' ever-present', ' danger', ' and', ' risk.', ' And', ' in', ' suspense', ' novels,', ' the', ' plot', ' takes', ' its', ' readers', ' through', ' an', ' unsettling', ' sense', ' of', ' worry', ' and', ' anticipation', ' in', ' readers']\n",
            "['<s>', 'Suspense', ' who', ' is', ' would', ' be', ' trying', ' to', ' solve', ' a', ' crime.', ' In', ' thriller', ' novels,', ' we', ' see', ' the', ' central', ' characters', ' or', ' main', ' protagonist', ' being', ' suspended', ' in', ' ever-present', ' danger', ' and', ' risk.', ' And', ' in', ' suspense', ' novels,', ' the', ' plot', ' takes', ' its', ' readers', ' through', ' an', ' unsettling', ' sense', ' of', ' worry', ' and', ' anticipation', ' in', ' readers', ' by']\n",
            "['<s>', 'Suspense', ' who', ' is', ' would', ' be', ' trying', ' to', ' solve', ' a', ' crime.', ' In', ' thriller', ' novels,', ' we', ' see', ' the', ' central', ' characters', ' or', ' main', ' protagonist', ' being', ' suspended', ' in', ' ever-present', ' danger', ' and', ' risk.', ' And', ' in', ' suspense', ' novels,', ' the', ' plot', ' takes', ' its', ' readers', ' through', ' an', ' unsettling', ' sense', ' of', ' worry', ' and', ' anticipation', ' in', ' readers', ' by', ' revealing']\n",
            "['<s>', 'Suspense', ' who', ' is', ' would', ' be', ' trying', ' to', ' solve', ' a', ' crime.', ' In', ' thriller', ' novels,', ' we', ' see', ' the', ' central', ' characters', ' or', ' main', ' protagonist', ' being', ' suspended', ' in', ' ever-present', ' danger', ' and', ' risk.', ' And', ' in', ' suspense', ' novels,', ' the', ' plot', ' takes', ' its', ' readers', ' through', ' an', ' unsettling', ' sense', ' of', ' worry', ' and', ' anticipation', ' in', ' readers', ' by', ' revealing', ' potentially']\n",
            "['<s>', 'Suspense', ' who', ' is', ' would', ' be', ' trying', ' to', ' solve', ' a', ' crime.', ' In', ' thriller', ' novels,', ' we', ' see', ' the', ' central', ' characters', ' or', ' main', ' protagonist', ' being', ' suspended', ' in', ' ever-present', ' danger', ' and', ' risk.', ' And', ' in', ' suspense', ' novels,', ' the', ' plot', ' takes', ' its', ' readers', ' through', ' an', ' unsettling', ' sense', ' of', ' worry', ' and', ' anticipation', ' in', ' readers', ' by', ' revealing', ' potentially', ' dangerous']\n",
            "['<s>', 'Suspense', ' who', ' is', ' would', ' be', ' trying', ' to', ' solve', ' a', ' crime.', ' In', ' thriller', ' novels,', ' we', ' see', ' the', ' central', ' characters', ' or', ' main', ' protagonist', ' being', ' suspended', ' in', ' ever-present', ' danger', ' and', ' risk.', ' And', ' in', ' suspense', ' novels,', ' the', ' plot', ' takes', ' its', ' readers', ' through', ' an', ' unsettling', ' sense', ' of', ' worry', ' and', ' anticipation', ' in', ' readers', ' by', ' revealing', ' potentially', ' dangerous', ' details']\n",
            "['<s>', 'Suspense', ' who', ' is', ' would', ' be', ' trying', ' to', ' solve', ' a', ' crime.', ' In', ' thriller', ' novels,', ' we', ' see', ' the', ' central', ' characters', ' or', ' main', ' protagonist', ' being', ' suspended', ' in', ' ever-present', ' danger', ' and', ' risk.', ' And', ' in', ' suspense', ' novels,', ' the', ' plot', ' takes', ' its', ' readers', ' through', ' an', ' unsettling', ' sense', ' of', ' worry', ' and', ' anticipation', ' in', ' readers', ' by', ' revealing', ' potentially', ' dangerous', ' details', ' that']\n",
            "['<s>', 'Suspense', ' who', ' is', ' would', ' be', ' trying', ' to', ' solve', ' a', ' crime.', ' In', ' thriller', ' novels,', ' we', ' see', ' the', ' central', ' characters', ' or', ' main', ' protagonist', ' being', ' suspended', ' in', ' ever-present', ' danger', ' and', ' risk.', ' And', ' in', ' suspense', ' novels,', ' the', ' plot', ' takes', ' its', ' readers', ' through', ' an', ' unsettling', ' sense', ' of', ' worry', ' and', ' anticipation', ' in', ' readers', ' by', ' revealing', ' potentially', ' dangerous', ' details', ' that', ' the']\n",
            "['<s>', 'Suspense', ' who', ' is', ' would', ' be', ' trying', ' to', ' solve', ' a', ' crime.', ' In', ' thriller', ' novels,', ' we', ' see', ' the', ' central', ' characters', ' or', ' main', ' protagonist', ' being', ' suspended', ' in', ' ever-present', ' danger', ' and', ' risk.', ' And', ' in', ' suspense', ' novels,', ' the', ' plot', ' takes', ' its', ' readers', ' through', ' an', ' unsettling', ' sense', ' of', ' worry', ' and', ' anticipation', ' in', ' readers', ' by', ' revealing', ' potentially', ' dangerous', ' details', ' that', ' the', ' very']\n",
            "['<s>', 'Suspense', ' who', ' is', ' would', ' be', ' trying', ' to', ' solve', ' a', ' crime.', ' In', ' thriller', ' novels,', ' we', ' see', ' the', ' central', ' characters', ' or', ' main', ' protagonist', ' being', ' suspended', ' in', ' ever-present', ' danger', ' and', ' risk.', ' And', ' in', ' suspense', ' novels,', ' the', ' plot', ' takes', ' its', ' readers', ' through', ' an', ' unsettling', ' sense', ' of', ' worry', ' and', ' anticipation', ' in', ' readers', ' by', ' revealing', ' potentially', ' dangerous', ' details', ' that', ' the', ' very', ' protagonist']\n",
            "['<s>', 'Suspense', ' who', ' is', ' would', ' be', ' trying', ' to', ' solve', ' a', ' crime.', ' In', ' thriller', ' novels,', ' we', ' see', ' the', ' central', ' characters', ' or', ' main', ' protagonist', ' being', ' suspended', ' in', ' ever-present', ' danger', ' and', ' risk.', ' And', ' in', ' suspense', ' novels,', ' the', ' plot', ' takes', ' its', ' readers', ' through', ' an', ' unsettling', ' sense', ' of', ' worry', ' and', ' anticipation', ' in', ' readers', ' by', ' revealing', ' potentially', ' dangerous', ' details', ' that', ' the', ' very', ' protagonist', ' in']\n",
            "['<s>', 'Suspense', ' who', ' is', ' would', ' be', ' trying', ' to', ' solve', ' a', ' crime.', ' In', ' thriller', ' novels,', ' we', ' see', ' the', ' central', ' characters', ' or', ' main', ' protagonist', ' being', ' suspended', ' in', ' ever-present', ' danger', ' and', ' risk.', ' And', ' in', ' suspense', ' novels,', ' the', ' plot', ' takes', ' its', ' readers', ' through', ' an', ' unsettling', ' sense', ' of', ' worry', ' and', ' anticipation', ' in', ' readers', ' by', ' revealing', ' potentially', ' dangerous', ' details', ' that', ' the', ' very', ' protagonist', ' in', ' the']\n",
            "['<s>', 'Suspense', ' who', ' is', ' would', ' be', ' trying', ' to', ' solve', ' a', ' crime.', ' In', ' thriller', ' novels,', ' we', ' see', ' the', ' central', ' characters', ' or', ' main', ' protagonist', ' being', ' suspended', ' in', ' ever-present', ' danger', ' and', ' risk.', ' And', ' in', ' suspense', ' novels,', ' the', ' plot', ' takes', ' its', ' readers', ' through', ' an', ' unsettling', ' sense', ' of', ' worry', ' and', ' anticipation', ' in', ' readers', ' by', ' revealing', ' potentially', ' dangerous', ' details', ' that', ' the', ' very', ' protagonist', ' in', ' the', ' story']\n",
            "['<s>', 'Suspense', ' who', ' is', ' would', ' be', ' trying', ' to', ' solve', ' a', ' crime.', ' In', ' thriller', ' novels,', ' we', ' see', ' the', ' central', ' characters', ' or', ' main', ' protagonist', ' being', ' suspended', ' in', ' ever-present', ' danger', ' and', ' risk.', ' And', ' in', ' suspense', ' novels,', ' the', ' plot', ' takes', ' its', ' readers', ' through', ' an', ' unsettling', ' sense', ' of', ' worry', ' and', ' anticipation', ' in', ' readers', ' by', ' revealing', ' potentially', ' dangerous', ' details', ' that', ' the', ' very', ' protagonist', ' in', ' the', ' story', ' could']\n",
            "['<s>', 'Suspense', ' who', ' is', ' would', ' be', ' trying', ' to', ' solve', ' a', ' crime.', ' In', ' thriller', ' novels,', ' we', ' see', ' the', ' central', ' characters', ' or', ' main', ' protagonist', ' being', ' suspended', ' in', ' ever-present', ' danger', ' and', ' risk.', ' And', ' in', ' suspense', ' novels,', ' the', ' plot', ' takes', ' its', ' readers', ' through', ' an', ' unsettling', ' sense', ' of', ' worry', ' and', ' anticipation', ' in', ' readers', ' by', ' revealing', ' potentially', ' dangerous', ' details', ' that', ' the', ' very', ' protagonist', ' in', ' the', ' story', ' could', ' not']\n",
            "['<s>', 'Suspense', ' who', ' is', ' would', ' be', ' trying', ' to', ' solve', ' a', ' crime.', ' In', ' thriller', ' novels,', ' we', ' see', ' the', ' central', ' characters', ' or', ' main', ' protagonist', ' being', ' suspended', ' in', ' ever-present', ' danger', ' and', ' risk.', ' And', ' in', ' suspense', ' novels,', ' the', ' plot', ' takes', ' its', ' readers', ' through', ' an', ' unsettling', ' sense', ' of', ' worry', ' and', ' anticipation', ' in', ' readers', ' by', ' revealing', ' potentially', ' dangerous', ' details', ' that', ' the', ' very', ' protagonist', ' in', ' the', ' story', ' could', ' not', ' be']\n",
            "['<s>', 'Suspense', ' who', ' is', ' would', ' be', ' trying', ' to', ' solve', ' a', ' crime.', ' In', ' thriller', ' novels,', ' we', ' see', ' the', ' central', ' characters', ' or', ' main', ' protagonist', ' being', ' suspended', ' in', ' ever-present', ' danger', ' and', ' risk.', ' And', ' in', ' suspense', ' novels,', ' the', ' plot', ' takes', ' its', ' readers', ' through', ' an', ' unsettling', ' sense', ' of', ' worry', ' and', ' anticipation', ' in', ' readers', ' by', ' revealing', ' potentially', ' dangerous', ' details', ' that', ' the', ' very', ' protagonist', ' in', ' the', ' story', ' could', ' not', ' be', ' aware']\n",
            "['<s>', 'Suspense', ' who', ' is', ' would', ' be', ' trying', ' to', ' solve', ' a', ' crime.', ' In', ' thriller', ' novels,', ' we', ' see', ' the', ' central', ' characters', ' or', ' main', ' protagonist', ' being', ' suspended', ' in', ' ever-present', ' danger', ' and', ' risk.', ' And', ' in', ' suspense', ' novels,', ' the', ' plot', ' takes', ' its', ' readers', ' through', ' an', ' unsettling', ' sense', ' of', ' worry', ' and', ' anticipation', ' in', ' readers', ' by', ' revealing', ' potentially', ' dangerous', ' details', ' that', ' the', ' very', ' protagonist', ' in', ' the', ' story', ' could', ' not', ' be', ' aware', ' of.']\n"
          ]
        },
        {
          "data": {
            "text/plain": [
              "'<s>Suspense who is would be trying to solve a crime. In thriller novels, we see the central characters or main protagonist being suspended in ever-present danger and risk. And in suspense novels, the plot takes its readers through an unsettling sense of worry and anticipation in readers by revealing potentially dangerous details that the very protagonist in the story could not be aware of.'"
            ]
          },
          "execution_count": 253,
          "metadata": {},
          "output_type": "execute_result"
        }
      ],
      "source": [
        "generate_sentence(\"Suspense\", debug = True)"
      ]
    },
    {
      "attachments": {},
      "cell_type": "markdown",
      "metadata": {},
      "source": [
        "## 과제2: RNN을 이용해 생성모델을 강화해 보세요"
      ]
    },
    {
      "cell_type": "code",
      "execution_count": null,
      "metadata": {},
      "outputs": [],
      "source": []
    },
    {
      "attachments": {},
      "cell_type": "markdown",
      "metadata": {},
      "source": [
        "## 과제3: Perplexity를 이용해 FCN모델과 RNN모델의 성능을 평가해보세요."
      ]
    },
    {
      "cell_type": "code",
      "execution_count": null,
      "metadata": {},
      "outputs": [],
      "source": []
    }
  ],
  "metadata": {
    "colab": {
      "provenance": []
    },
    "kernelspec": {
      "display_name": "Python 3",
      "name": "python3"
    },
    "language_info": {
      "codemirror_mode": {
        "name": "ipython",
        "version": 3
      },
      "file_extension": ".py",
      "mimetype": "text/x-python",
      "name": "python",
      "nbconvert_exporter": "python",
      "pygments_lexer": "ipython3",
      "version": "3.9.15"
    }
  },
  "nbformat": 4,
  "nbformat_minor": 0
}
