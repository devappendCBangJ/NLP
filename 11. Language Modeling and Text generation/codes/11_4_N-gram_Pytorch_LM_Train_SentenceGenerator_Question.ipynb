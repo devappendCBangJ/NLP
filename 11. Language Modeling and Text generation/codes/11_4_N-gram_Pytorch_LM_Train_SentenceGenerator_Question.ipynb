{
  "cells": [
    {
      "attachments": {},
      "cell_type": "markdown",
      "metadata": {},
      "source": [
        "# Neural Language Model\n",
        "- 목적 : \n",
        "- Output : 뒤의 단어 예측\n",
        "- Model : FCN\n",
        "- Loss : Cross Entropy"
      ]
    },
    {
      "attachments": {},
      "cell_type": "markdown",
      "metadata": {},
      "source": [
        "##### 0) 라이브러리 불러오기"
      ]
    },
    {
      "cell_type": "code",
      "execution_count": 222,
      "metadata": {
        "id": "AGx5rVgKHTfm"
      },
      "outputs": [],
      "source": [
        "# (1) 딥러닝 라이브러리\n",
        "import torch\n",
        "import torch.nn as nn\n",
        "import torch.nn.functional as F\n",
        "import torch.optim as optim"
      ]
    },
    {
      "attachments": {},
      "cell_type": "markdown",
      "metadata": {},
      "source": [
        "##### 1) 데이터 불러오기"
      ]
    },
    {
      "attachments": {},
      "cell_type": "markdown",
      "metadata": {},
      "source": [
        "(1) 변수 초기화"
      ]
    },
    {
      "cell_type": "code",
      "execution_count": 223,
      "metadata": {},
      "outputs": [],
      "source": [
        "NGRAM_SIZE = 2\n",
        "EMBEDDING_DIM = 10"
      ]
    },
    {
      "attachments": {},
      "cell_type": "markdown",
      "metadata": {},
      "source": [
        "(2) 데이터 불러오기 (인터넷 데이터)\n",
        "- https://www.unesco.org/en/weeks/world-novel"
      ]
    },
    {
      "cell_type": "code",
      "execution_count": 224,
      "metadata": {
        "id": "9XZ27TDVGYCM"
      },
      "outputs": [],
      "source": [
        "sentence_train = \"\"\"\n",
        "Suspense novels follow a plot that induces a unsettling sense of worry or anticipation in readers.\n",
        "This is done so by letting them in on details that the story's protagonist is often not weary of.\n",
        "Often, mystery or thriller novels fall under the suspense category and these three genre titles are also used interchangeably because of the blur lines.\n",
        "But the distinguishing factor between these three lies in the type of suspense that the story follows.\n",
        "In mystery novels, we follow the journey of the protagonist who is would be trying to solve a crime.\n",
        "In thriller novels, we see the central characters or main protagonist being suspended in ever-present danger and risk.\n",
        "And in suspense novels, the plot takes its readers through an unsettling sense of worry and anticipation in readers by revealing potentially dangerous details that the very protagonist in the story could not be aware of.\"\"\".split()\n",
        "# we should tokenize the input, but we will ignore that for now\n",
        "# build a list of tuples.\n",
        "# Each tuple is ([ word_i-NGRAM_SIZE, ..., word_i-1 ], target word)"
      ]
    },
    {
      "cell_type": "code",
      "execution_count": 225,
      "metadata": {},
      "outputs": [
        {
          "data": {
            "text/plain": [
              "['Suspense',\n",
              " 'novels',\n",
              " 'follow',\n",
              " 'a',\n",
              " 'plot',\n",
              " 'that',\n",
              " 'induces',\n",
              " 'a',\n",
              " 'unsettling',\n",
              " 'sense',\n",
              " 'of',\n",
              " 'worry',\n",
              " 'or',\n",
              " 'anticipation',\n",
              " 'in',\n",
              " 'readers.',\n",
              " 'This',\n",
              " 'is',\n",
              " 'done',\n",
              " 'so',\n",
              " 'by',\n",
              " 'letting',\n",
              " 'them',\n",
              " 'in',\n",
              " 'on',\n",
              " 'details',\n",
              " 'that',\n",
              " 'the',\n",
              " \"story's\",\n",
              " 'protagonist',\n",
              " 'is',\n",
              " 'often',\n",
              " 'not',\n",
              " 'weary',\n",
              " 'of.',\n",
              " 'Often,',\n",
              " 'mystery',\n",
              " 'or',\n",
              " 'thriller',\n",
              " 'novels',\n",
              " 'fall',\n",
              " 'under',\n",
              " 'the',\n",
              " 'suspense',\n",
              " 'category',\n",
              " 'and',\n",
              " 'these',\n",
              " 'three',\n",
              " 'genre',\n",
              " 'titles',\n",
              " 'are',\n",
              " 'also',\n",
              " 'used',\n",
              " 'interchangeably',\n",
              " 'because',\n",
              " 'of',\n",
              " 'the',\n",
              " 'blur',\n",
              " 'lines.',\n",
              " 'But',\n",
              " 'the',\n",
              " 'distinguishing',\n",
              " 'factor',\n",
              " 'between',\n",
              " 'these',\n",
              " 'three',\n",
              " 'lies',\n",
              " 'in',\n",
              " 'the',\n",
              " 'type',\n",
              " 'of',\n",
              " 'suspense',\n",
              " 'that',\n",
              " 'the',\n",
              " 'story',\n",
              " 'follows.',\n",
              " 'In',\n",
              " 'mystery',\n",
              " 'novels,',\n",
              " 'we',\n",
              " 'follow',\n",
              " 'the',\n",
              " 'journey',\n",
              " 'of',\n",
              " 'the',\n",
              " 'protagonist',\n",
              " 'who',\n",
              " 'is',\n",
              " 'would',\n",
              " 'be',\n",
              " 'trying',\n",
              " 'to',\n",
              " 'solve',\n",
              " 'a',\n",
              " 'crime.',\n",
              " 'In',\n",
              " 'thriller',\n",
              " 'novels,',\n",
              " 'we',\n",
              " 'see',\n",
              " 'the',\n",
              " 'central',\n",
              " 'characters',\n",
              " 'or',\n",
              " 'main',\n",
              " 'protagonist',\n",
              " 'being',\n",
              " 'suspended',\n",
              " 'in',\n",
              " 'ever-present',\n",
              " 'danger',\n",
              " 'and',\n",
              " 'risk.',\n",
              " 'And',\n",
              " 'in',\n",
              " 'suspense',\n",
              " 'novels,',\n",
              " 'the',\n",
              " 'plot',\n",
              " 'takes',\n",
              " 'its',\n",
              " 'readers',\n",
              " 'through',\n",
              " 'an',\n",
              " 'unsettling',\n",
              " 'sense',\n",
              " 'of',\n",
              " 'worry',\n",
              " 'and',\n",
              " 'anticipation',\n",
              " 'in',\n",
              " 'readers',\n",
              " 'by',\n",
              " 'revealing',\n",
              " 'potentially',\n",
              " 'dangerous',\n",
              " 'details',\n",
              " 'that',\n",
              " 'the',\n",
              " 'very',\n",
              " 'protagonist',\n",
              " 'in',\n",
              " 'the',\n",
              " 'story',\n",
              " 'could',\n",
              " 'not',\n",
              " 'be',\n",
              " 'aware',\n",
              " 'of.']"
            ]
          },
          "execution_count": 225,
          "metadata": {},
          "output_type": "execute_result"
        }
      ],
      "source": [
        "sentence_train"
      ]
    },
    {
      "attachments": {},
      "cell_type": "markdown",
      "metadata": {},
      "source": [
        "##### (3) s, /s 추가"
      ]
    },
    {
      "cell_type": "code",
      "execution_count": 226,
      "metadata": {},
      "outputs": [
        {
          "data": {
            "text/plain": [
              "['<s>',\n",
              " 'Suspense',\n",
              " 'novels',\n",
              " 'follow',\n",
              " 'a',\n",
              " 'plot',\n",
              " 'that',\n",
              " 'induces',\n",
              " 'a',\n",
              " 'unsettling',\n",
              " 'sense',\n",
              " 'of',\n",
              " 'worry',\n",
              " 'or',\n",
              " 'anticipation',\n",
              " 'in',\n",
              " 'readers.',\n",
              " 'This',\n",
              " 'is',\n",
              " 'done',\n",
              " 'so',\n",
              " 'by',\n",
              " 'letting',\n",
              " 'them',\n",
              " 'in',\n",
              " 'on',\n",
              " 'details',\n",
              " 'that',\n",
              " 'the',\n",
              " \"story's\",\n",
              " 'protagonist',\n",
              " 'is',\n",
              " 'often',\n",
              " 'not',\n",
              " 'weary',\n",
              " 'of.',\n",
              " 'Often,',\n",
              " 'mystery',\n",
              " 'or',\n",
              " 'thriller',\n",
              " 'novels',\n",
              " 'fall',\n",
              " 'under',\n",
              " 'the',\n",
              " 'suspense',\n",
              " 'category',\n",
              " 'and',\n",
              " 'these',\n",
              " 'three',\n",
              " 'genre',\n",
              " 'titles',\n",
              " 'are',\n",
              " 'also',\n",
              " 'used',\n",
              " 'interchangeably',\n",
              " 'because',\n",
              " 'of',\n",
              " 'the',\n",
              " 'blur',\n",
              " 'lines.',\n",
              " 'But',\n",
              " 'the',\n",
              " 'distinguishing',\n",
              " 'factor',\n",
              " 'between',\n",
              " 'these',\n",
              " 'three',\n",
              " 'lies',\n",
              " 'in',\n",
              " 'the',\n",
              " 'type',\n",
              " 'of',\n",
              " 'suspense',\n",
              " 'that',\n",
              " 'the',\n",
              " 'story',\n",
              " 'follows.',\n",
              " 'In',\n",
              " 'mystery',\n",
              " 'novels,',\n",
              " 'we',\n",
              " 'follow',\n",
              " 'the',\n",
              " 'journey',\n",
              " 'of',\n",
              " 'the',\n",
              " 'protagonist',\n",
              " 'who',\n",
              " 'is',\n",
              " 'would',\n",
              " 'be',\n",
              " 'trying',\n",
              " 'to',\n",
              " 'solve',\n",
              " 'a',\n",
              " 'crime.',\n",
              " 'In',\n",
              " 'thriller',\n",
              " 'novels,',\n",
              " 'we',\n",
              " 'see',\n",
              " 'the',\n",
              " 'central',\n",
              " 'characters',\n",
              " 'or',\n",
              " 'main',\n",
              " 'protagonist',\n",
              " 'being',\n",
              " 'suspended',\n",
              " 'in',\n",
              " 'ever-present',\n",
              " 'danger',\n",
              " 'and',\n",
              " 'risk.',\n",
              " 'And',\n",
              " 'in',\n",
              " 'suspense',\n",
              " 'novels,',\n",
              " 'the',\n",
              " 'plot',\n",
              " 'takes',\n",
              " 'its',\n",
              " 'readers',\n",
              " 'through',\n",
              " 'an',\n",
              " 'unsettling',\n",
              " 'sense',\n",
              " 'of',\n",
              " 'worry',\n",
              " 'and',\n",
              " 'anticipation',\n",
              " 'in',\n",
              " 'readers',\n",
              " 'by',\n",
              " 'revealing',\n",
              " 'potentially',\n",
              " 'dangerous',\n",
              " 'details',\n",
              " 'that',\n",
              " 'the',\n",
              " 'very',\n",
              " 'protagonist',\n",
              " 'in',\n",
              " 'the',\n",
              " 'story',\n",
              " 'could',\n",
              " 'not',\n",
              " 'be',\n",
              " 'aware',\n",
              " 'of.',\n",
              " '</s>']"
            ]
          },
          "execution_count": 226,
          "metadata": {},
          "output_type": "execute_result"
        }
      ],
      "source": [
        "sentence_train.insert(0, '<s>')\n",
        "sentence_train.append('</s>')\n",
        "\n",
        "sentence_train"
      ]
    },
    {
      "attachments": {},
      "cell_type": "markdown",
      "metadata": {},
      "source": [
        "##### 2) N-gram\n",
        "- 순서에 맞게 수정"
      ]
    },
    {
      "cell_type": "code",
      "execution_count": 227,
      "metadata": {
        "colab": {
          "base_uri": "https://localhost:8080/"
        },
        "id": "s1ipge_JGan3",
        "outputId": "889c74ba-1e51-4308-caba-8c40534f61a0"
      },
      "outputs": [
        {
          "name": "stdout",
          "output_type": "stream",
          "text": [
            "[(['Suspense', 'novels'], 'follow'), (['novels', 'follow'], 'a'), (['follow', 'a'], 'plot'), (['a', 'plot'], 'that'), (['plot', 'that'], 'induces'), (['that', 'induces'], 'a'), (['induces', 'a'], 'unsettling'), (['a', 'unsettling'], 'sense'), (['unsettling', 'sense'], 'of'), (['sense', 'of'], 'worry'), (['of', 'worry'], 'or'), (['worry', 'or'], 'anticipation'), (['or', 'anticipation'], 'in'), (['anticipation', 'in'], 'readers.'), (['in', 'readers.'], 'This'), (['readers.', 'This'], 'is'), (['This', 'is'], 'done'), (['is', 'done'], 'so'), (['done', 'so'], 'by'), (['so', 'by'], 'letting'), (['by', 'letting'], 'them'), (['letting', 'them'], 'in'), (['them', 'in'], 'on'), (['in', 'on'], 'details'), (['on', 'details'], 'that'), (['details', 'that'], 'the'), (['that', 'the'], \"story's\"), (['the', \"story's\"], 'protagonist'), ([\"story's\", 'protagonist'], 'is'), (['protagonist', 'is'], 'often'), (['is', 'often'], 'not'), (['often', 'not'], 'weary'), (['not', 'weary'], 'of.'), (['weary', 'of.'], 'Often,'), (['of.', 'Often,'], 'mystery'), (['Often,', 'mystery'], 'or'), (['mystery', 'or'], 'thriller'), (['or', 'thriller'], 'novels'), (['thriller', 'novels'], 'fall'), (['novels', 'fall'], 'under'), (['fall', 'under'], 'the'), (['under', 'the'], 'suspense'), (['the', 'suspense'], 'category'), (['suspense', 'category'], 'and'), (['category', 'and'], 'these'), (['and', 'these'], 'three'), (['these', 'three'], 'genre'), (['three', 'genre'], 'titles'), (['genre', 'titles'], 'are'), (['titles', 'are'], 'also'), (['are', 'also'], 'used'), (['also', 'used'], 'interchangeably'), (['used', 'interchangeably'], 'because'), (['interchangeably', 'because'], 'of'), (['because', 'of'], 'the'), (['of', 'the'], 'blur'), (['the', 'blur'], 'lines.'), (['blur', 'lines.'], 'But'), (['lines.', 'But'], 'the'), (['But', 'the'], 'distinguishing'), (['the', 'distinguishing'], 'factor'), (['distinguishing', 'factor'], 'between'), (['factor', 'between'], 'these'), (['between', 'these'], 'three'), (['these', 'three'], 'lies'), (['three', 'lies'], 'in'), (['lies', 'in'], 'the'), (['in', 'the'], 'type'), (['the', 'type'], 'of'), (['type', 'of'], 'suspense'), (['of', 'suspense'], 'that'), (['suspense', 'that'], 'the'), (['that', 'the'], 'story'), (['the', 'story'], 'follows.'), (['story', 'follows.'], 'In'), (['follows.', 'In'], 'mystery'), (['In', 'mystery'], 'novels,'), (['mystery', 'novels,'], 'we'), (['novels,', 'we'], 'follow'), (['we', 'follow'], 'the'), (['follow', 'the'], 'journey'), (['the', 'journey'], 'of'), (['journey', 'of'], 'the'), (['of', 'the'], 'protagonist'), (['the', 'protagonist'], 'who'), (['protagonist', 'who'], 'is'), (['who', 'is'], 'would'), (['is', 'would'], 'be'), (['would', 'be'], 'trying'), (['be', 'trying'], 'to'), (['trying', 'to'], 'solve'), (['to', 'solve'], 'a'), (['solve', 'a'], 'crime.'), (['a', 'crime.'], 'In'), (['crime.', 'In'], 'thriller'), (['In', 'thriller'], 'novels,'), (['thriller', 'novels,'], 'we'), (['novels,', 'we'], 'see'), (['we', 'see'], 'the'), (['see', 'the'], 'central'), (['the', 'central'], 'characters'), (['central', 'characters'], 'or'), (['characters', 'or'], 'main'), (['or', 'main'], 'protagonist'), (['main', 'protagonist'], 'being'), (['protagonist', 'being'], 'suspended'), (['being', 'suspended'], 'in'), (['suspended', 'in'], 'ever-present'), (['in', 'ever-present'], 'danger'), (['ever-present', 'danger'], 'and'), (['danger', 'and'], 'risk.'), (['and', 'risk.'], 'And'), (['risk.', 'And'], 'in'), (['And', 'in'], 'suspense'), (['in', 'suspense'], 'novels,'), (['suspense', 'novels,'], 'the'), (['novels,', 'the'], 'plot'), (['the', 'plot'], 'takes'), (['plot', 'takes'], 'its'), (['takes', 'its'], 'readers'), (['its', 'readers'], 'through'), (['readers', 'through'], 'an'), (['through', 'an'], 'unsettling'), (['an', 'unsettling'], 'sense'), (['unsettling', 'sense'], 'of'), (['sense', 'of'], 'worry'), (['of', 'worry'], 'and'), (['worry', 'and'], 'anticipation'), (['and', 'anticipation'], 'in'), (['anticipation', 'in'], 'readers'), (['in', 'readers'], 'by'), (['readers', 'by'], 'revealing'), (['by', 'revealing'], 'potentially'), (['revealing', 'potentially'], 'dangerous'), (['potentially', 'dangerous'], 'details'), (['dangerous', 'details'], 'that'), (['details', 'that'], 'the'), (['that', 'the'], 'very'), (['the', 'very'], 'protagonist'), (['very', 'protagonist'], 'in'), (['protagonist', 'in'], 'the'), (['in', 'the'], 'story'), (['the', 'story'], 'could'), (['story', 'could'], 'not'), (['could', 'not'], 'be'), (['not', 'be'], 'aware'), (['be', 'aware'], 'of.'), (['aware', 'of.'], '</s>')]\n"
          ]
        }
      ],
      "source": [
        "ngrams_train = [([sentence_train[i+j-NGRAM_SIZE] for j in range(NGRAM_SIZE)], sentence_train[i]) for i in range(NGRAM_SIZE, len(sentence_train))]\n",
        "ngrams_train = ngrams_train[1:]\n",
        "print(ngrams_train)"
      ]
    },
    {
      "attachments": {},
      "cell_type": "markdown",
      "metadata": {},
      "source": [
        "##### 3) 단어 사전 만들기"
      ]
    },
    {
      "cell_type": "code",
      "execution_count": 228,
      "metadata": {
        "id": "bJ78LYAhHX98"
      },
      "outputs": [],
      "source": [
        "vocab = set(sentence_train)\n",
        "word_to_idx = {word: i for i, word in enumerate(vocab)}\n",
        "idx_to_word = {v:k for k, v in word_to_idx.items()}"
      ]
    },
    {
      "cell_type": "code",
      "execution_count": 229,
      "metadata": {},
      "outputs": [
        {
          "data": {
            "text/plain": [
              "{'follows.': 0,\n",
              " 'And': 1,\n",
              " 'suspended': 2,\n",
              " 'sense': 3,\n",
              " 'be': 4,\n",
              " 'dangerous': 5,\n",
              " 'its': 6,\n",
              " 'potentially': 7,\n",
              " 'in': 8,\n",
              " 'by': 9,\n",
              " 'crime.': 10,\n",
              " 'novels,': 11,\n",
              " '</s>': 12,\n",
              " 'aware': 13,\n",
              " 'these': 14,\n",
              " 'under': 15,\n",
              " 'details': 16,\n",
              " 'novels': 17,\n",
              " 'of.': 18,\n",
              " 'distinguishing': 19,\n",
              " 'lies': 20,\n",
              " 'ever-present': 21,\n",
              " 'also': 22,\n",
              " 'This': 23,\n",
              " 'readers': 24,\n",
              " 'not': 25,\n",
              " 'follow': 26,\n",
              " 'that': 27,\n",
              " 'story': 28,\n",
              " 'mystery': 29,\n",
              " 'characters': 30,\n",
              " 'lines.': 31,\n",
              " 'often': 32,\n",
              " 'or': 33,\n",
              " 'trying': 34,\n",
              " 'protagonist': 35,\n",
              " 'are': 36,\n",
              " 'unsettling': 37,\n",
              " 'thriller': 38,\n",
              " 'so': 39,\n",
              " 'solve': 40,\n",
              " 'journey': 41,\n",
              " 'readers.': 42,\n",
              " 'three': 43,\n",
              " 'see': 44,\n",
              " 'titles': 45,\n",
              " 'very': 46,\n",
              " 'of': 47,\n",
              " 'type': 48,\n",
              " 'fall': 49,\n",
              " 'worry': 50,\n",
              " 'interchangeably': 51,\n",
              " 'danger': 52,\n",
              " 'But': 53,\n",
              " 'factor': 54,\n",
              " 'main': 55,\n",
              " 'could': 56,\n",
              " 'we': 57,\n",
              " 'weary': 58,\n",
              " 'suspense': 59,\n",
              " 'genre': 60,\n",
              " 'the': 61,\n",
              " 'anticipation': 62,\n",
              " 'central': 63,\n",
              " 'who': 64,\n",
              " 'because': 65,\n",
              " 'risk.': 66,\n",
              " 'an': 67,\n",
              " 'plot': 68,\n",
              " 'and': 69,\n",
              " 'a': 70,\n",
              " 'Often,': 71,\n",
              " 'category': 72,\n",
              " 'done': 73,\n",
              " 'used': 74,\n",
              " 'to': 75,\n",
              " 'through': 76,\n",
              " 'is': 77,\n",
              " 'In': 78,\n",
              " 'induces': 79,\n",
              " '<s>': 80,\n",
              " 'revealing': 81,\n",
              " 'takes': 82,\n",
              " 'blur': 83,\n",
              " 'letting': 84,\n",
              " 'on': 85,\n",
              " \"story's\": 86,\n",
              " 'them': 87,\n",
              " 'between': 88,\n",
              " 'would': 89,\n",
              " 'being': 90,\n",
              " 'Suspense': 91}"
            ]
          },
          "execution_count": 229,
          "metadata": {},
          "output_type": "execute_result"
        }
      ],
      "source": [
        "word_to_idx"
      ]
    },
    {
      "attachments": {},
      "cell_type": "markdown",
      "metadata": {
        "id": "YdGKR1BDH908"
      },
      "source": [
        "## Ngram pytorch module class 설정"
      ]
    },
    {
      "attachments": {},
      "cell_type": "markdown",
      "metadata": {},
      "source": [
        "##### 4) 모델 정의"
      ]
    },
    {
      "cell_type": "code",
      "execution_count": 230,
      "metadata": {
        "id": "mpLCyA0hHgML"
      },
      "outputs": [],
      "source": [
        "class NGramLanguageModeler(nn.Module):\n",
        "    def __init__(self, vocab_size, EMBEDDING_DIM, NGRAM_SIZE):\n",
        "        super(NGramLanguageModeler, self).__init__()\n",
        "        self.embeddings = nn.Embedding(vocab_size, embedding_dim=EMBEDDING_DIM)\n",
        "        self.linear1 = nn.Linear(NGRAM_SIZE * EMBEDDING_DIM, 128)\n",
        "        self.linear2 = nn.Linear(128, vocab_size)\n",
        "    def forward(self, inputs):\n",
        "        # print(f'inputs : {inputs}') # tensor([51, 64])\n",
        "        embeds = self.embeddings(inputs).view((1, -1)) # 행방향 크기를 1로 하고, 열방향에 나머지 원소들 다 때려넣어\n",
        "        # print(f'embeds : {embeds}')\n",
        "        \"\"\"\n",
        "        tensor([[-0.7379, -0.2725, -1.2734, -0.5576,  0.0750,  0.4588, -0.9168, -0.1681,\n",
        "         -1.8120, -0.1912, -0.4644,  0.0171, -0.0437,  1.1693,  1.1770, -0.2649,\n",
        "          1.0498,  0.4795, -0.7503,  1.0908]], grad_fn=<ViewBackward0>)\n",
        "        \"\"\"\n",
        "        output = F.relu(self.linear1(embeds))\n",
        "        output = self.linear2(output)\n",
        "        log_probs = F.log_softmax(output, dim=1) # 열방향으로 Log Softmax\n",
        "        # print(f'log_probs : {log_probs}')\n",
        "        \"\"\"\n",
        "        tensor([[-4.7832, -4.7157, -4.7879, -4.5430, -4.4339, -4.5025, -4.2623, -4.0010,\n",
        "         -4.7352, -4.6143, -4.3309, -4.6151, -4.3560, -4.4804, -4.7485, -4.5814,\n",
        "         -4.6898, -4.2726, -4.9978, -4.6067, -4.1026, -4.1331, -4.5865, -4.7218,\n",
        "         -4.7840, -4.6431, -4.7147, -4.6294, -4.7187, -4.2708, -4.6978, -4.4084,\n",
        "         -4.7089, -4.2476, -4.4089, -4.6950, -4.6561, -4.9805, -4.7100, -4.6702,\n",
        "         -4.6025, -4.3475, -4.6389, -4.8811, -4.6336, -4.9418, -4.8256, -5.0364,\n",
        "         -4.3126, -4.4835, -4.3877, -4.8331, -4.5688, -4.8238, -4.7488, -4.7655,\n",
        "         -4.7157, -4.4630, -4.4461, -4.5065, -4.6963, -5.0180, -4.6433, -4.2379,\n",
        "         -4.5765, -4.7061, -4.6288, -4.7156, -4.8744, -4.7938, -4.5158, -4.5270,\n",
        "         -4.6661, -4.4159, -4.7725, -4.5816, -4.4162, -4.6457, -4.4713, -4.6018,\n",
        "         -4.6241, -4.4262, -4.5049, -4.2798, -4.6101, -4.8002, -4.4954, -4.9527,\n",
        "         -4.6375, -4.5028, -4.7188, -4.0668, -4.7514, -4.6962, -4.8468, -4.4820,\n",
        "         -4.5518]], grad_fn=<LogSoftmaxBackward0>)\n",
        "        \"\"\"\n",
        "        return log_probs\n",
        "    \n",
        "model = NGramLanguageModeler(len(vocab), EMBEDDING_DIM, NGRAM_SIZE)"
      ]
    },
    {
      "cell_type": "code",
      "execution_count": 231,
      "metadata": {},
      "outputs": [
        {
          "name": "stdout",
          "output_type": "stream",
          "text": [
            "NGramLanguageModeler(\n",
            "  (embeddings): Embedding(92, 10)\n",
            "  (linear1): Linear(in_features=20, out_features=128, bias=True)\n",
            "  (linear2): Linear(in_features=128, out_features=92, bias=True)\n",
            ")\n"
          ]
        }
      ],
      "source": [
        "print(model)"
      ]
    },
    {
      "attachments": {},
      "cell_type": "markdown",
      "metadata": {},
      "source": [
        "##### 5) Optimzier 정의"
      ]
    },
    {
      "cell_type": "code",
      "execution_count": 232,
      "metadata": {
        "id": "HxXzIJk9Hy-e"
      },
      "outputs": [],
      "source": [
        "optimizer = optim.SGD(model.parameters(), lr=0.01)"
      ]
    },
    {
      "attachments": {},
      "cell_type": "markdown",
      "metadata": {},
      "source": [
        "##### 6) 모델 학습"
      ]
    },
    {
      "cell_type": "code",
      "execution_count": 233,
      "metadata": {
        "id": "zaSqCPjWILBt"
      },
      "outputs": [
        {
          "name": "stdout",
          "output_type": "stream",
          "text": [
            "losses : [666.2148597240448, 625.5793209075928, 590.1961398124695, 557.350429058075, 524.9565241336823, 492.2175736427307, 458.98890471458435, 425.5077577829361, 392.1096041202545, 359.0969905257225, 326.6119393110275, 295.06555311381817, 264.8008646965027, 236.34968575835228, 210.02487459778786, 186.28239931166172, 165.10969195514917, 146.61354123055935, 130.61559999734163, 116.89307923614979, 105.17908681184053, 95.23790773749352, 86.81012922152877, 79.68799680098891, 73.66704379022121, 68.56312000378966, 64.22043144330382, 60.51112983375788, 57.37409371510148, 54.66105133853853, 52.31294694170356, 50.275880847126245, 48.484878888353705, 46.92233865708113, 45.53008865006268, 44.28667985647917, 43.18890555202961, 42.19733400084078, 41.30102359689772, 40.48098659515381, 39.735495262779295, 39.046260443516076, 38.43332285154611, 37.83463633712381, 37.30113116558641, 36.78732426278293, 36.32392826862633, 35.869585807435215, 35.44751384947449, 35.04990298859775, 34.6838352503255, 34.31866386346519, 33.986820604652166, 33.66074424330145, 33.357852164655924, 33.0584533251822, 32.77489929739386, 32.511878721416, 32.25405173189938, 31.99419356044382, 31.74413575232029, 31.50056968163699, 31.271193185355514, 31.060778244864196, 30.84672087803483, 30.632985420990735, 30.442228122148663, 30.245254822075367, 30.05287832254544, 29.87506855232641, 29.693713914602995, 29.50585840502754, 29.32619978301227, 29.16537599824369, 29.0009915814735, 28.839120042975992, 28.687858525197953, 28.540686341002584, 28.393701122608036, 28.252259795553982, 28.108760939911008, 27.974850675091147, 27.841107867192477, 27.711860074661672, 27.58201722521335, 27.44976238673553, 27.335279650054872, 27.20927299791947, 27.090604215394706, 26.975624984595925, 26.862203556578606, 26.74733688030392, 26.640204031020403, 26.53169683041051, 26.430118442047387, 26.320455505046993, 26.21761208726093, 26.123621651437134, 26.00535463076085, 25.906433057039976, 25.809748137369752, 25.721712293103337, 25.631549907382578, 25.537550029344857, 25.444691569078714, 25.363491200376302, 25.275128048611805, 25.19547854270786, 25.10532499686815, 25.018568258965388, 24.926833263598382, 24.854125172365457, 24.76776362489909, 24.695954602444544, 24.62191177578643, 24.54592464468442, 24.467671850696206, 24.398871533805504, 24.31950279371813, 24.251185038127005, 24.18033074797131, 24.11502063111402, 24.0417420740705, 23.98807219346054, 23.911981729092076, 23.85335626010783, 23.778989168815315, 23.71986726927571, 23.648150155320764, 23.586555458139628, 23.528384258504957, 23.466200188035145, 23.407592468196526, 23.348188068019226, 23.292938011465594, 23.228126603877172, 23.1676411293447, 23.110831662779674, 23.051930542336777, 23.003627664176747, 22.94584351591766, 22.89039516192861, 22.83954685390927, 22.7890603763517, 22.732657134067267, 22.685273374198005, 22.632218786980957, 22.586367786396295, 22.53724001464434, 22.48818801739253, 22.439711464801803, 22.39501975872554, 22.343675266951323, 22.299628941575065, 22.253691396210343, 22.211379637476057, 22.161725658224896, 22.120553595013916, 22.073166873073205, 22.034914201823995, 21.986597529845312, 21.9448247870896, 21.903863733867183, 21.858160255709663, 21.81591459433548, 21.776407196419314, 21.740356016205624, 21.696541861863807, 21.651871593203396, 21.619144632248208, 21.580831630388275, 21.541609107516706, 21.50198363373056, 21.463490310125053, 21.429391745477915, 21.392970455810428, 21.355429494054988, 21.317945898510516, 21.2867511366494, 21.244181047426537, 21.21372030628845, 21.180701659759507, 21.141569202998653, 21.111902917269617, 21.077904764330015, 21.042622001143172, 21.010533902561292, 20.978529050946236, 20.945516397012398, 20.913317549275234, 20.87885074899532, 20.848240670282394, 20.81848802859895, 20.788375065429136, 20.759538996848278, 20.728410908021033, 20.694885052740574, 20.665550631820224, 20.638132896623574, 20.60925192711875, 20.57832104281988, 20.549472212442197, 20.517252532183193, 20.486320743802935, 20.460839345119894, 20.434399059042335, 20.40380589477718, 20.376329134218395, 20.34623685106635, 20.323183786589652, 20.29715431679506, 20.26895525166765, 20.240304219070822, 20.21549231186509, 20.19032031437382, 20.164907232043333, 20.139925909461454, 20.109810385270976, 20.086721385479905, 20.062985302647576, 20.03400307998527, 20.010798590956256, 19.987487154081464, 19.965620063245296, 19.942943605361506, 19.917164193466306, 19.892344370950013, 19.86705473146867, 19.842800820712, 19.82153105805628, 19.79813821532298, 19.777112191775814, 19.754568897304125, 19.726600642548874, 19.707852150895633, 19.687138940906152, 19.663229983765632, 19.642238406231627, 19.624226145911962, 19.601854781038128, 19.578684127540328, 19.560037893243134, 19.53946018673014, 19.518327037338167, 19.497643143171445, 19.47453526838217, 19.457419167738408, 19.43704779050313, 19.41594466904644, 19.39860783214681, 19.380340163828805, 19.361637632828206, 19.34142446075566, 19.316545230918564, 19.302452630363405, 19.287065249634907, 19.261965985642746, 19.245686358073726, 19.226988748647273, 19.207108238362707, 19.192039963556454, 19.174721980118193, 19.156271522515453, 19.136650061467662, 19.119963688310236, 19.104651228291914, 19.07891173043754, 19.067656388971955, 19.049057204043493, 19.03378951328341, 19.01753190951422, 18.997279013507068, 18.984089008532465, 18.962174970423803, 18.95071955176536, 18.929394808714278, 18.916413549683057, 18.898083086125553, 18.884008709341288, 18.864950585528277, 18.849743291037157, 18.834116573096253, 18.81844758207444, 18.803911488270387, 18.786737840622663, 18.76904613536317, 18.757207474904135, 18.739003007882275, 18.724143949104473, 18.710438926587813, 18.694653340848163, 18.680882927728817, 18.667148335720412, 18.64608011848759, 18.635823687305674, 18.61951629363466, 18.605624075047672, 18.59239947295282, 18.575622274307534, 18.56127282010857, 18.542498342576437, 18.537078243563883, 18.52110061678104, 18.505188694805838, 18.489219165290706, 18.478321364265867, 18.46196448500268, 18.44827487610746, 18.434105666936375, 18.4208487913711, 18.414120436063968, 18.392844040994532, 18.38205803046003, 18.36942904582247, 18.352615474141203, 18.34225349582266, 18.331057585892268, 18.31566098786425, 18.303239618544467, 18.289718325715512, 18.27756336564198, 18.265007987967692, 18.250144360936247, 18.235472352942452, 18.223755572573282, 18.211529017426074, 18.19597561750561, 18.186114412616007, 18.176671035704203, 18.166153565514833, 18.149531110655516, 18.137100515305065, 18.123927971580997, 18.11357060750015, 18.10571035335306, 18.087914628442377, 18.078520656796172, 18.067013684427366, 18.054043305455707, 18.04529106535483, 18.034783850656822, 18.021999156102538, 18.010111715178937, 17.99881263205316, 17.98596527427435, 17.979848292423412, 17.965556447627023, 17.957748307613656, 17.946327321231365, 17.93252196814865, 17.920685691176914, 17.91003720869776, 17.90096860565245, 17.89226827386301, 17.880443401634693, 17.86759509088006, 17.859301666961983, 17.847483557648957, 17.835732851875946, 17.82637814397458, 17.815119759063236, 17.808385693700984, 17.79518181469757, 17.785544943180867, 17.776313222246245, 17.765712001360953, 17.75560873595532, 17.743870564037934, 17.736076885135844, 17.726591612910852, 17.719405801268294, 17.707854065753054, 17.695672206988093, 17.687991127895657, 17.67814458347857, 17.66956752515398, 17.659967741987202, 17.646769355866127, 17.640939480334055, 17.63060305058025, 17.621942481549922, 17.61510313593317, 17.60190128313843, 17.593449162959587, 17.582193586218636, 17.57479446119396, 17.565589315490797, 17.555069978523534, 17.54947930999333, 17.538030980620533, 17.53021239140071, 17.523400854261126, 17.513820733933244, 17.50180194695713, 17.49451640516054, 17.483137306990102, 17.47898087708745, 17.468179384770337, 17.45870132697746, 17.450254906667396, 17.44264097395353, 17.433601159369573, 17.426150526735, 17.41796857555164, 17.407549125084188, 17.39899328170577, 17.39320531609701, 17.384636086411774, 17.37824646825902, 17.367342378362082, 17.359406793955714, 17.351425078872126, 17.345064918859862, 17.334385278169066, 17.326704302220605, 17.321159225597512, 17.31065375212347, 17.301021941297222, 17.297964436584152, 17.293935521156527, 17.284938059921842, 17.27343120618025, 17.265606953704264, 17.258626491879113, 17.247519566328265, 17.242438495450187, 17.2332650020835, 17.225197060906794, 17.21270426607225, 17.21155819291016, 17.200916580564808, 17.197450452425983, 17.18585277820239, 17.18121141695883, 17.16931217565434, 17.164635221241042, 17.15733900043415, 17.148723231162876, 17.145081987488084, 17.136810119089205, 17.12985747482162, 17.12892329180613, 17.11927369516343, 17.10891194199212, 17.104787115415093, 17.093183551973198, 17.08709831436863, 17.082858971494716, 17.072999727213755, 17.065749071189202, 17.058353130472824, 17.052025635552127, 17.04483969823923, 17.04340306314407, 17.031955267011654, 17.026615628390573, 17.019253571575973, 17.01025470806053, 17.011258239217568, 16.998410399013665, 16.99108210229315, 16.98662020365009, 16.979234971280675, 16.976650792290457, 16.96439143148018, 16.962303038395476, 16.954607298830524, 16.94764253369067, 16.943448227015324, 16.933404027542565, 16.929713289253414, 16.921907278359868, 16.913870109186973, 16.911074999312405, 16.90071074536536, 16.901572301459964, 16.888749933743384, 16.887418758880813, 16.879187673854176, 16.873257839353755, 16.8663786308025, 16.864197950984817, 16.855297071801033, 16.846898334857542, 16.845639658800792, 16.83876746497117, 16.83209937205538, 16.824420895718504, 16.816295454336796, 16.813291697355453, 16.80731398286298, 16.80029644269962, 16.796958924620412, 16.794382235850208, 16.784196174819954, 16.778567152272444, 16.772238765843213, 16.766426156566013, 16.760190461878665, 16.753521462902427, 16.750974425463937]\n",
            "tensor([-1.8292, -0.2035, -0.2537, -0.0864,  0.0275, -0.5894, -0.5312,  0.8136,\n",
            "         0.3292,  0.7648], grad_fn=<SelectBackward0>)\n"
          ]
        }
      ],
      "source": [
        "losses = []\n",
        "loss_function = nn.NLLLoss()\n",
        "\n",
        "# (1) Epoch 순회\n",
        "num_epochs = 100\n",
        "for epoch in range(num_epochs + 1):\n",
        "    # 1] 변수 초기화\n",
        "    total_loss = 0\n",
        "    for context, next_word in ngrams_train:\n",
        "        # 2] train 데이터 전처리\n",
        "        # Step 1. Prepare the inputs to be passed to the model (i.e, turn the words into integer indices and wrap them in tensors)\n",
        "        context_idxes = torch.tensor([word_to_idx[c] for c in context], dtype=torch.long)\n",
        "\n",
        "        # Step 2. Recall that torch *accumulates* gradients. Before passing in a new instance, you need to zero out the gradients from the old instance\n",
        "        model.zero_grad()\n",
        "\n",
        "        # 3] 모델 예측\n",
        "        # Step 3. Run the forward pass, getting log probabilities over next words\n",
        "        log_probs = model(context_idxes)\n",
        "\n",
        "        # 4] Cost 계산\n",
        "        # Step 4. Compute your loss function. (Again, Torch wants the target word wrapped in a tensor)\n",
        "        loss = loss_function(log_probs, torch.tensor([word_to_idx[next_word]], dtype=torch.long))\n",
        "        # print(torch.tensor([word_to_idx[next_word]], dtype=torch.long)) # tensor([61])\n",
        "\n",
        "        # 5] 모델 역전파\n",
        "        # Step 5. Do the backward pass and update the gradient\n",
        "        loss.backward()\n",
        "        optimizer.step()\n",
        "\n",
        "        # Get the Python number from a 1-element Tensor by calling tensor.item()\n",
        "        total_loss += loss.item()\n",
        "    losses.append(total_loss)\n",
        "\n",
        "# 6] 결과 출력\n",
        "print(f'losses : {losses}')\n",
        "\n",
        "print(model.embeddings.weight[word_to_idx[\"Suspense\"]])"
      ]
    },
    {
      "attachments": {},
      "cell_type": "markdown",
      "metadata": {},
      "source": [
        "- 테스트"
      ]
    },
    {
      "cell_type": "code",
      "execution_count": 234,
      "metadata": {},
      "outputs": [
        {
          "data": {
            "text/plain": [
              "['Suspense', 'novels']"
            ]
          },
          "execution_count": 234,
          "metadata": {},
          "output_type": "execute_result"
        }
      ],
      "source": [
        "context = ['Suspense', 'novels']\n",
        "\n",
        "context"
      ]
    },
    {
      "cell_type": "code",
      "execution_count": 235,
      "metadata": {},
      "outputs": [
        {
          "data": {
            "text/plain": [
              "tensor([91, 17])"
            ]
          },
          "execution_count": 235,
          "metadata": {},
          "output_type": "execute_result"
        }
      ],
      "source": [
        "context_idxes = torch.tensor([word_to_idx[c] for c in context], dtype = torch.long)\n",
        "\n",
        "context_idxes"
      ]
    },
    {
      "cell_type": "code",
      "execution_count": 236,
      "metadata": {},
      "outputs": [
        {
          "data": {
            "text/plain": [
              "tensor([[-9.9061e+00, -1.0498e+01, -1.0758e+01, -9.2008e+00, -1.0155e+01,\n",
              "         -1.3518e+01, -1.2190e+01, -9.6378e+00, -9.7001e+00, -1.2342e+01,\n",
              "         -1.0333e+01, -9.7490e+00, -1.6533e+01, -1.4480e+01, -1.6123e+01,\n",
              "         -1.0230e+01, -1.1962e+01, -6.5768e+00, -7.7794e+00, -1.2537e+01,\n",
              "         -1.1348e+01, -1.1538e+01, -1.4145e+01, -1.0613e+01, -1.3330e+01,\n",
              "         -1.7647e+01, -6.5814e-03, -8.7284e+00, -1.2222e+01, -1.6708e+01,\n",
              "         -1.6745e+01, -1.5558e+01, -9.4164e+00, -1.2281e+01, -1.2313e+01,\n",
              "         -1.7048e+01, -1.6297e+01, -1.2313e+01, -1.8562e+01, -1.2466e+01,\n",
              "         -1.3149e+01, -1.6485e+01, -1.3789e+01, -1.1736e+01, -1.2244e+01,\n",
              "         -1.5884e+01, -1.3463e+01, -1.2594e+01, -1.3223e+01, -5.9292e+00,\n",
              "         -1.2614e+01, -1.1923e+01, -1.7659e+01, -1.4877e+01, -1.3528e+01,\n",
              "         -1.4358e+01, -9.3623e+00, -1.3104e+01, -1.1925e+01, -1.3437e+01,\n",
              "         -1.1851e+01, -8.4969e+00, -1.3920e+01, -1.2400e+01, -1.0834e+01,\n",
              "         -9.9754e+00, -1.3599e+01, -1.0015e+01, -1.4755e+01, -9.0371e+00,\n",
              "         -1.9037e+01, -1.2986e+01, -1.1399e+01, -1.1400e+01, -1.5589e+01,\n",
              "         -1.2068e+01, -1.5792e+01, -1.1171e+01, -1.8021e+01, -1.0053e+01,\n",
              "         -1.5299e+01, -1.1554e+01, -8.1785e+00, -1.2991e+01, -1.4548e+01,\n",
              "         -1.1379e+01, -1.2914e+01, -8.2101e+00, -1.3689e+01, -1.3286e+01,\n",
              "         -1.1308e+01, -1.6235e+01]], grad_fn=<LogSoftmaxBackward0>)"
            ]
          },
          "execution_count": 236,
          "metadata": {},
          "output_type": "execute_result"
        }
      ],
      "source": [
        "log_probs = model(context_idxes)\n",
        "\n",
        "log_probs"
      ]
    },
    {
      "cell_type": "code",
      "execution_count": 237,
      "metadata": {},
      "outputs": [
        {
          "data": {
            "text/plain": [
              "tensor(-1146.7679, grad_fn=<SumBackward0>)"
            ]
          },
          "execution_count": 237,
          "metadata": {},
          "output_type": "execute_result"
        }
      ],
      "source": [
        "log_probs.sum()"
      ]
    },
    {
      "cell_type": "code",
      "execution_count": 238,
      "metadata": {},
      "outputs": [
        {
          "data": {
            "text/plain": [
              "tensor([26])"
            ]
          },
          "execution_count": 238,
          "metadata": {},
          "output_type": "execute_result"
        }
      ],
      "source": [
        "next_word_idx = log_probs.argmax(dim = 1)\n",
        "\n",
        "next_word_idx"
      ]
    },
    {
      "cell_type": "code",
      "execution_count": 240,
      "metadata": {},
      "outputs": [
        {
          "data": {
            "text/plain": [
              "[26]"
            ]
          },
          "execution_count": 240,
          "metadata": {},
          "output_type": "execute_result"
        }
      ],
      "source": [
        "next_word_idx.tolist()"
      ]
    },
    {
      "cell_type": "code",
      "execution_count": 241,
      "metadata": {},
      "outputs": [
        {
          "data": {
            "text/plain": [
              "26"
            ]
          },
          "execution_count": 241,
          "metadata": {},
          "output_type": "execute_result"
        }
      ],
      "source": [
        "next_word_idx.tolist()[0]"
      ]
    },
    {
      "cell_type": "code",
      "execution_count": 242,
      "metadata": {},
      "outputs": [
        {
          "data": {
            "text/plain": [
              "'follow'"
            ]
          },
          "execution_count": 242,
          "metadata": {},
          "output_type": "execute_result"
        }
      ],
      "source": [
        "next_word = idx_to_word[next_word_idx.tolist()[0]]\n",
        "\n",
        "next_word"
      ]
    },
    {
      "cell_type": "code",
      "execution_count": 243,
      "metadata": {},
      "outputs": [],
      "source": [
        "sentence_generate = [\"<s>\"]"
      ]
    },
    {
      "cell_type": "code",
      "execution_count": 244,
      "metadata": {},
      "outputs": [
        {
          "data": {
            "text/plain": [
              "['<s>', 'follow']"
            ]
          },
          "execution_count": 244,
          "metadata": {},
          "output_type": "execute_result"
        }
      ],
      "source": [
        "sentence_generate.append(next_word)\n",
        "\n",
        "sentence_generate"
      ]
    },
    {
      "cell_type": "code",
      "execution_count": 245,
      "metadata": {},
      "outputs": [
        {
          "data": {
            "text/plain": [
              "['<s>', 'follow']"
            ]
          },
          "execution_count": 245,
          "metadata": {},
          "output_type": "execute_result"
        }
      ],
      "source": [
        "ngrams_generate = sentence_generate[-NGRAM_SIZE:]\n",
        "\n",
        "ngrams_generate"
      ]
    },
    {
      "cell_type": "code",
      "execution_count": 246,
      "metadata": {},
      "outputs": [
        {
          "data": {
            "text/plain": [
              "80"
            ]
          },
          "execution_count": 246,
          "metadata": {},
          "output_type": "execute_result"
        }
      ],
      "source": [
        "word_to_idx[\"<s>\"]"
      ]
    },
    {
      "cell_type": "code",
      "execution_count": 247,
      "metadata": {},
      "outputs": [
        {
          "data": {
            "text/plain": [
              "91"
            ]
          },
          "execution_count": 247,
          "metadata": {},
          "output_type": "execute_result"
        }
      ],
      "source": [
        "word_to_idx[\"Suspense\"]"
      ]
    },
    {
      "cell_type": "code",
      "execution_count": 248,
      "metadata": {},
      "outputs": [
        {
          "data": {
            "text/plain": [
              "[80, 91]"
            ]
          },
          "execution_count": 248,
          "metadata": {},
          "output_type": "execute_result"
        }
      ],
      "source": [
        "[word_to_idx[\"<s>\"], word_to_idx[\"Suspense\"]]"
      ]
    },
    {
      "cell_type": "code",
      "execution_count": 249,
      "metadata": {},
      "outputs": [
        {
          "data": {
            "text/plain": [
              "tensor([80, 91])"
            ]
          },
          "execution_count": 249,
          "metadata": {},
          "output_type": "execute_result"
        }
      ],
      "source": [
        "temp_sentence = torch.tensor([word_to_idx[\"<s>\"], word_to_idx[\"Suspense\"]], dtype = torch.long)\n",
        "\n",
        "temp_sentence"
      ]
    },
    {
      "cell_type": "code",
      "execution_count": 250,
      "metadata": {},
      "outputs": [
        {
          "data": {
            "text/plain": [
              "tensor([80, 91,  0])"
            ]
          },
          "execution_count": 250,
          "metadata": {},
          "output_type": "execute_result"
        }
      ],
      "source": [
        "temp_sentence = torch.cat((temp_sentence, torch.tensor([0])))\n",
        "\n",
        "temp_sentence"
      ]
    },
    {
      "cell_type": "code",
      "execution_count": 251,
      "metadata": {},
      "outputs": [
        {
          "data": {
            "text/plain": [
              "tensor([80, 91,  0, 10])"
            ]
          },
          "execution_count": 251,
          "metadata": {},
          "output_type": "execute_result"
        }
      ],
      "source": [
        "temp_sentence = torch.cat((temp_sentence, torch.tensor([10], dtype = torch.long)))\n",
        "\n",
        "temp_sentence"
      ]
    },
    {
      "cell_type": "code",
      "execution_count": 256,
      "metadata": {},
      "outputs": [
        {
          "data": {
            "text/plain": [
              "['<s>', 0]"
            ]
          },
          "execution_count": 256,
          "metadata": {},
          "output_type": "execute_result"
        }
      ],
      "source": [
        "[\"<s>\", 0]"
      ]
    },
    {
      "attachments": {},
      "cell_type": "markdown",
      "metadata": {},
      "source": [
        "## 과제1: Generator 함수를 구현하세요.\n",
        " - 단어 하나를 입력으로 받아 문장을 자동으로 생성하는 def generator() 함수를 구현하면 됩니다."
      ]
    },
    {
      "cell_type": "code",
      "execution_count": 252,
      "metadata": {},
      "outputs": [],
      "source": [
        "def generate_sentence(start_word, seed=None, debug=False):\n",
        "    # (1) 시드 초기화\n",
        "    if seed is not None:\n",
        "        import random\n",
        "        random.seed(seed)\n",
        "    # (2) 변수 초기화\n",
        "    sentence_generate = [\"<s>\", start_word]\n",
        "    context_generate = [\"<s>\", start_word]\n",
        "    context_word = start_word\n",
        "\n",
        "    i = 0\n",
        "    # (3) 문장 생성\n",
        "    while True:\n",
        "        # 1] 현재 단어가 사전에 없는 경우 : 문장 생성 중단\n",
        "        if context_word not in word_to_idx:\n",
        "            break\n",
        "        # 2] 다음 단어 생성\n",
        "        context_ngram = torch.tensor([word_to_idx[s] for s in context_generate[-NGRAM_SIZE:]], dtype = torch.long)\n",
        "        # print(context_ngram)\n",
        "        next_log_probs = model(context_ngram)\n",
        "        next_word_idx = next_log_probs.argmax(dim = 1)\n",
        "        next_word = idx_to_word[next_word_idx.tolist()[0]]\n",
        "        # 3] 다음 단어가 문장의 마지막인 경우 : 문장 생성 중단\n",
        "        if next_word == \"</s>\":\n",
        "            break\n",
        "        # 4] 단어 전처리 (보편적으로 띄어쓰기를 하지 않는 경우를 제외하고는, 각 토큰은 띄어쓰기로 구분해서 생성)\n",
        "        if context_word == \"<s>\":\n",
        "            sentence_generate.append(next_word.title())\n",
        "        elif context_word in [\"`\", \"\\\"\",\"'\",\"(\"]:\n",
        "            sentence_generate.append(next_word)\n",
        "        elif next_word in [\"'\", \".\", \",\", \")\", \":\", \";\", \"?\"]:\n",
        "            sentence_generate.append(next_word)\n",
        "        else:\n",
        "            sentence_generate.append(\" \" + next_word)\n",
        "        context_generate.append(next_word)\n",
        "        context_word = next_word\n",
        "        # 5] 결과 출력\n",
        "        if debug:\n",
        "            print(sentence_generate)\n",
        "        i += 1\n",
        "        if i == 100:\n",
        "            break\n",
        "\n",
        "    return \"\".join(sentence_generate)"
      ]
    },
    {
      "cell_type": "code",
      "execution_count": 253,
      "metadata": {},
      "outputs": [
        {
          "name": "stdout",
          "output_type": "stream",
          "text": [
            "['<s>', 'Suspense', ' who']\n",
            "['<s>', 'Suspense', ' who', ' is']\n",
            "['<s>', 'Suspense', ' who', ' is', ' would']\n",
            "['<s>', 'Suspense', ' who', ' is', ' would', ' be']\n",
            "['<s>', 'Suspense', ' who', ' is', ' would', ' be', ' trying']\n",
            "['<s>', 'Suspense', ' who', ' is', ' would', ' be', ' trying', ' to']\n",
            "['<s>', 'Suspense', ' who', ' is', ' would', ' be', ' trying', ' to', ' solve']\n",
            "['<s>', 'Suspense', ' who', ' is', ' would', ' be', ' trying', ' to', ' solve', ' a']\n",
            "['<s>', 'Suspense', ' who', ' is', ' would', ' be', ' trying', ' to', ' solve', ' a', ' crime.']\n",
            "['<s>', 'Suspense', ' who', ' is', ' would', ' be', ' trying', ' to', ' solve', ' a', ' crime.', ' In']\n",
            "['<s>', 'Suspense', ' who', ' is', ' would', ' be', ' trying', ' to', ' solve', ' a', ' crime.', ' In', ' thriller']\n",
            "['<s>', 'Suspense', ' who', ' is', ' would', ' be', ' trying', ' to', ' solve', ' a', ' crime.', ' In', ' thriller', ' novels,']\n",
            "['<s>', 'Suspense', ' who', ' is', ' would', ' be', ' trying', ' to', ' solve', ' a', ' crime.', ' In', ' thriller', ' novels,', ' we']\n",
            "['<s>', 'Suspense', ' who', ' is', ' would', ' be', ' trying', ' to', ' solve', ' a', ' crime.', ' In', ' thriller', ' novels,', ' we', ' see']\n",
            "['<s>', 'Suspense', ' who', ' is', ' would', ' be', ' trying', ' to', ' solve', ' a', ' crime.', ' In', ' thriller', ' novels,', ' we', ' see', ' the']\n",
            "['<s>', 'Suspense', ' who', ' is', ' would', ' be', ' trying', ' to', ' solve', ' a', ' crime.', ' In', ' thriller', ' novels,', ' we', ' see', ' the', ' central']\n",
            "['<s>', 'Suspense', ' who', ' is', ' would', ' be', ' trying', ' to', ' solve', ' a', ' crime.', ' In', ' thriller', ' novels,', ' we', ' see', ' the', ' central', ' characters']\n",
            "['<s>', 'Suspense', ' who', ' is', ' would', ' be', ' trying', ' to', ' solve', ' a', ' crime.', ' In', ' thriller', ' novels,', ' we', ' see', ' the', ' central', ' characters', ' or']\n",
            "['<s>', 'Suspense', ' who', ' is', ' would', ' be', ' trying', ' to', ' solve', ' a', ' crime.', ' In', ' thriller', ' novels,', ' we', ' see', ' the', ' central', ' characters', ' or', ' main']\n",
            "['<s>', 'Suspense', ' who', ' is', ' would', ' be', ' trying', ' to', ' solve', ' a', ' crime.', ' In', ' thriller', ' novels,', ' we', ' see', ' the', ' central', ' characters', ' or', ' main', ' protagonist']\n",
            "['<s>', 'Suspense', ' who', ' is', ' would', ' be', ' trying', ' to', ' solve', ' a', ' crime.', ' In', ' thriller', ' novels,', ' we', ' see', ' the', ' central', ' characters', ' or', ' main', ' protagonist', ' being']\n",
            "['<s>', 'Suspense', ' who', ' is', ' would', ' be', ' trying', ' to', ' solve', ' a', ' crime.', ' In', ' thriller', ' novels,', ' we', ' see', ' the', ' central', ' characters', ' or', ' main', ' protagonist', ' being', ' suspended']\n",
            "['<s>', 'Suspense', ' who', ' is', ' would', ' be', ' trying', ' to', ' solve', ' a', ' crime.', ' In', ' thriller', ' novels,', ' we', ' see', ' the', ' central', ' characters', ' or', ' main', ' protagonist', ' being', ' suspended', ' in']\n",
            "['<s>', 'Suspense', ' who', ' is', ' would', ' be', ' trying', ' to', ' solve', ' a', ' crime.', ' In', ' thriller', ' novels,', ' we', ' see', ' the', ' central', ' characters', ' or', ' main', ' protagonist', ' being', ' suspended', ' in', ' ever-present']\n",
            "['<s>', 'Suspense', ' who', ' is', ' would', ' be', ' trying', ' to', ' solve', ' a', ' crime.', ' In', ' thriller', ' novels,', ' we', ' see', ' the', ' central', ' characters', ' or', ' main', ' protagonist', ' being', ' suspended', ' in', ' ever-present', ' danger']\n",
            "['<s>', 'Suspense', ' who', ' is', ' would', ' be', ' trying', ' to', ' solve', ' a', ' crime.', ' In', ' thriller', ' novels,', ' we', ' see', ' the', ' central', ' characters', ' or', ' main', ' protagonist', ' being', ' suspended', ' in', ' ever-present', ' danger', ' and']\n",
            "['<s>', 'Suspense', ' who', ' is', ' would', ' be', ' trying', ' to', ' solve', ' a', ' crime.', ' In', ' thriller', ' novels,', ' we', ' see', ' the', ' central', ' characters', ' or', ' main', ' protagonist', ' being', ' suspended', ' in', ' ever-present', ' danger', ' and', ' risk.']\n",
            "['<s>', 'Suspense', ' who', ' is', ' would', ' be', ' trying', ' to', ' solve', ' a', ' crime.', ' In', ' thriller', ' novels,', ' we', ' see', ' the', ' central', ' characters', ' or', ' main', ' protagonist', ' being', ' suspended', ' in', ' ever-present', ' danger', ' and', ' risk.', ' And']\n",
            "['<s>', 'Suspense', ' who', ' is', ' would', ' be', ' trying', ' to', ' solve', ' a', ' crime.', ' In', ' thriller', ' novels,', ' we', ' see', ' the', ' central', ' characters', ' or', ' main', ' protagonist', ' being', ' suspended', ' in', ' ever-present', ' danger', ' and', ' risk.', ' And', ' in']\n",
            "['<s>', 'Suspense', ' who', ' is', ' would', ' be', ' trying', ' to', ' solve', ' a', ' crime.', ' In', ' thriller', ' novels,', ' we', ' see', ' the', ' central', ' characters', ' or', ' main', ' protagonist', ' being', ' suspended', ' in', ' ever-present', ' danger', ' and', ' risk.', ' And', ' in', ' suspense']\n",
            "['<s>', 'Suspense', ' who', ' is', ' would', ' be', ' trying', ' to', ' solve', ' a', ' crime.', ' In', ' thriller', ' novels,', ' we', ' see', ' the', ' central', ' characters', ' or', ' main', ' protagonist', ' being', ' suspended', ' in', ' ever-present', ' danger', ' and', ' risk.', ' And', ' in', ' suspense', ' novels,']\n",
            "['<s>', 'Suspense', ' who', ' is', ' would', ' be', ' trying', ' to', ' solve', ' a', ' crime.', ' In', ' thriller', ' novels,', ' we', ' see', ' the', ' central', ' characters', ' or', ' main', ' protagonist', ' being', ' suspended', ' in', ' ever-present', ' danger', ' and', ' risk.', ' And', ' in', ' suspense', ' novels,', ' the']\n",
            "['<s>', 'Suspense', ' who', ' is', ' would', ' be', ' trying', ' to', ' solve', ' a', ' crime.', ' In', ' thriller', ' novels,', ' we', ' see', ' the', ' central', ' characters', ' or', ' main', ' protagonist', ' being', ' suspended', ' in', ' ever-present', ' danger', ' and', ' risk.', ' And', ' in', ' suspense', ' novels,', ' the', ' plot']\n",
            "['<s>', 'Suspense', ' who', ' is', ' would', ' be', ' trying', ' to', ' solve', ' a', ' crime.', ' In', ' thriller', ' novels,', ' we', ' see', ' the', ' central', ' characters', ' or', ' main', ' protagonist', ' being', ' suspended', ' in', ' ever-present', ' danger', ' and', ' risk.', ' And', ' in', ' suspense', ' novels,', ' the', ' plot', ' takes']\n",
            "['<s>', 'Suspense', ' who', ' is', ' would', ' be', ' trying', ' to', ' solve', ' a', ' crime.', ' In', ' thriller', ' novels,', ' we', ' see', ' the', ' central', ' characters', ' or', ' main', ' protagonist', ' being', ' suspended', ' in', ' ever-present', ' danger', ' and', ' risk.', ' And', ' in', ' suspense', ' novels,', ' the', ' plot', ' takes', ' its']\n",
            "['<s>', 'Suspense', ' who', ' is', ' would', ' be', ' trying', ' to', ' solve', ' a', ' crime.', ' In', ' thriller', ' novels,', ' we', ' see', ' the', ' central', ' characters', ' or', ' main', ' protagonist', ' being', ' suspended', ' in', ' ever-present', ' danger', ' and', ' risk.', ' And', ' in', ' suspense', ' novels,', ' the', ' plot', ' takes', ' its', ' readers']\n",
            "['<s>', 'Suspense', ' who', ' is', ' would', ' be', ' trying', ' to', ' solve', ' a', ' crime.', ' In', ' thriller', ' novels,', ' we', ' see', ' the', ' central', ' characters', ' or', ' main', ' protagonist', ' being', ' suspended', ' in', ' ever-present', ' danger', ' and', ' risk.', ' And', ' in', ' suspense', ' novels,', ' the', ' plot', ' takes', ' its', ' readers', ' through']\n",
            "['<s>', 'Suspense', ' who', ' is', ' would', ' be', ' trying', ' to', ' solve', ' a', ' crime.', ' In', ' thriller', ' novels,', ' we', ' see', ' the', ' central', ' characters', ' or', ' main', ' protagonist', ' being', ' suspended', ' in', ' ever-present', ' danger', ' and', ' risk.', ' And', ' in', ' suspense', ' novels,', ' the', ' plot', ' takes', ' its', ' readers', ' through', ' an']\n",
            "['<s>', 'Suspense', ' who', ' is', ' would', ' be', ' trying', ' to', ' solve', ' a', ' crime.', ' In', ' thriller', ' novels,', ' we', ' see', ' the', ' central', ' characters', ' or', ' main', ' protagonist', ' being', ' suspended', ' in', ' ever-present', ' danger', ' and', ' risk.', ' And', ' in', ' suspense', ' novels,', ' the', ' plot', ' takes', ' its', ' readers', ' through', ' an', ' unsettling']\n",
            "['<s>', 'Suspense', ' who', ' is', ' would', ' be', ' trying', ' to', ' solve', ' a', ' crime.', ' In', ' thriller', ' novels,', ' we', ' see', ' the', ' central', ' characters', ' or', ' main', ' protagonist', ' being', ' suspended', ' in', ' ever-present', ' danger', ' and', ' risk.', ' And', ' in', ' suspense', ' novels,', ' the', ' plot', ' takes', ' its', ' readers', ' through', ' an', ' unsettling', ' sense']\n",
            "['<s>', 'Suspense', ' who', ' is', ' would', ' be', ' trying', ' to', ' solve', ' a', ' crime.', ' In', ' thriller', ' novels,', ' we', ' see', ' the', ' central', ' characters', ' or', ' main', ' protagonist', ' being', ' suspended', ' in', ' ever-present', ' danger', ' and', ' risk.', ' And', ' in', ' suspense', ' novels,', ' the', ' plot', ' takes', ' its', ' readers', ' through', ' an', ' unsettling', ' sense', ' of']\n",
            "['<s>', 'Suspense', ' who', ' is', ' would', ' be', ' trying', ' to', ' solve', ' a', ' crime.', ' In', ' thriller', ' novels,', ' we', ' see', ' the', ' central', ' characters', ' or', ' main', ' protagonist', ' being', ' suspended', ' in', ' ever-present', ' danger', ' and', ' risk.', ' And', ' in', ' suspense', ' novels,', ' the', ' plot', ' takes', ' its', ' readers', ' through', ' an', ' unsettling', ' sense', ' of', ' worry']\n",
            "['<s>', 'Suspense', ' who', ' is', ' would', ' be', ' trying', ' to', ' solve', ' a', ' crime.', ' In', ' thriller', ' novels,', ' we', ' see', ' the', ' central', ' characters', ' or', ' main', ' protagonist', ' being', ' suspended', ' in', ' ever-present', ' danger', ' and', ' risk.', ' And', ' in', ' suspense', ' novels,', ' the', ' plot', ' takes', ' its', ' readers', ' through', ' an', ' unsettling', ' sense', ' of', ' worry', ' and']\n",
            "['<s>', 'Suspense', ' who', ' is', ' would', ' be', ' trying', ' to', ' solve', ' a', ' crime.', ' In', ' thriller', ' novels,', ' we', ' see', ' the', ' central', ' characters', ' or', ' main', ' protagonist', ' being', ' suspended', ' in', ' ever-present', ' danger', ' and', ' risk.', ' And', ' in', ' suspense', ' novels,', ' the', ' plot', ' takes', ' its', ' readers', ' through', ' an', ' unsettling', ' sense', ' of', ' worry', ' and', ' anticipation']\n",
            "['<s>', 'Suspense', ' who', ' is', ' would', ' be', ' trying', ' to', ' solve', ' a', ' crime.', ' In', ' thriller', ' novels,', ' we', ' see', ' the', ' central', ' characters', ' or', ' main', ' protagonist', ' being', ' suspended', ' in', ' ever-present', ' danger', ' and', ' risk.', ' And', ' in', ' suspense', ' novels,', ' the', ' plot', ' takes', ' its', ' readers', ' through', ' an', ' unsettling', ' sense', ' of', ' worry', ' and', ' anticipation', ' in']\n",
            "['<s>', 'Suspense', ' who', ' is', ' would', ' be', ' trying', ' to', ' solve', ' a', ' crime.', ' In', ' thriller', ' novels,', ' we', ' see', ' the', ' central', ' characters', ' or', ' main', ' protagonist', ' being', ' suspended', ' in', ' ever-present', ' danger', ' and', ' risk.', ' And', ' in', ' suspense', ' novels,', ' the', ' plot', ' takes', ' its', ' readers', ' through', ' an', ' unsettling', ' sense', ' of', ' worry', ' and', ' anticipation', ' in', ' readers']\n",
            "['<s>', 'Suspense', ' who', ' is', ' would', ' be', ' trying', ' to', ' solve', ' a', ' crime.', ' In', ' thriller', ' novels,', ' we', ' see', ' the', ' central', ' characters', ' or', ' main', ' protagonist', ' being', ' suspended', ' in', ' ever-present', ' danger', ' and', ' risk.', ' And', ' in', ' suspense', ' novels,', ' the', ' plot', ' takes', ' its', ' readers', ' through', ' an', ' unsettling', ' sense', ' of', ' worry', ' and', ' anticipation', ' in', ' readers', ' by']\n",
            "['<s>', 'Suspense', ' who', ' is', ' would', ' be', ' trying', ' to', ' solve', ' a', ' crime.', ' In', ' thriller', ' novels,', ' we', ' see', ' the', ' central', ' characters', ' or', ' main', ' protagonist', ' being', ' suspended', ' in', ' ever-present', ' danger', ' and', ' risk.', ' And', ' in', ' suspense', ' novels,', ' the', ' plot', ' takes', ' its', ' readers', ' through', ' an', ' unsettling', ' sense', ' of', ' worry', ' and', ' anticipation', ' in', ' readers', ' by', ' revealing']\n",
            "['<s>', 'Suspense', ' who', ' is', ' would', ' be', ' trying', ' to', ' solve', ' a', ' crime.', ' In', ' thriller', ' novels,', ' we', ' see', ' the', ' central', ' characters', ' or', ' main', ' protagonist', ' being', ' suspended', ' in', ' ever-present', ' danger', ' and', ' risk.', ' And', ' in', ' suspense', ' novels,', ' the', ' plot', ' takes', ' its', ' readers', ' through', ' an', ' unsettling', ' sense', ' of', ' worry', ' and', ' anticipation', ' in', ' readers', ' by', ' revealing', ' potentially']\n",
            "['<s>', 'Suspense', ' who', ' is', ' would', ' be', ' trying', ' to', ' solve', ' a', ' crime.', ' In', ' thriller', ' novels,', ' we', ' see', ' the', ' central', ' characters', ' or', ' main', ' protagonist', ' being', ' suspended', ' in', ' ever-present', ' danger', ' and', ' risk.', ' And', ' in', ' suspense', ' novels,', ' the', ' plot', ' takes', ' its', ' readers', ' through', ' an', ' unsettling', ' sense', ' of', ' worry', ' and', ' anticipation', ' in', ' readers', ' by', ' revealing', ' potentially', ' dangerous']\n",
            "['<s>', 'Suspense', ' who', ' is', ' would', ' be', ' trying', ' to', ' solve', ' a', ' crime.', ' In', ' thriller', ' novels,', ' we', ' see', ' the', ' central', ' characters', ' or', ' main', ' protagonist', ' being', ' suspended', ' in', ' ever-present', ' danger', ' and', ' risk.', ' And', ' in', ' suspense', ' novels,', ' the', ' plot', ' takes', ' its', ' readers', ' through', ' an', ' unsettling', ' sense', ' of', ' worry', ' and', ' anticipation', ' in', ' readers', ' by', ' revealing', ' potentially', ' dangerous', ' details']\n",
            "['<s>', 'Suspense', ' who', ' is', ' would', ' be', ' trying', ' to', ' solve', ' a', ' crime.', ' In', ' thriller', ' novels,', ' we', ' see', ' the', ' central', ' characters', ' or', ' main', ' protagonist', ' being', ' suspended', ' in', ' ever-present', ' danger', ' and', ' risk.', ' And', ' in', ' suspense', ' novels,', ' the', ' plot', ' takes', ' its', ' readers', ' through', ' an', ' unsettling', ' sense', ' of', ' worry', ' and', ' anticipation', ' in', ' readers', ' by', ' revealing', ' potentially', ' dangerous', ' details', ' that']\n",
            "['<s>', 'Suspense', ' who', ' is', ' would', ' be', ' trying', ' to', ' solve', ' a', ' crime.', ' In', ' thriller', ' novels,', ' we', ' see', ' the', ' central', ' characters', ' or', ' main', ' protagonist', ' being', ' suspended', ' in', ' ever-present', ' danger', ' and', ' risk.', ' And', ' in', ' suspense', ' novels,', ' the', ' plot', ' takes', ' its', ' readers', ' through', ' an', ' unsettling', ' sense', ' of', ' worry', ' and', ' anticipation', ' in', ' readers', ' by', ' revealing', ' potentially', ' dangerous', ' details', ' that', ' the']\n",
            "['<s>', 'Suspense', ' who', ' is', ' would', ' be', ' trying', ' to', ' solve', ' a', ' crime.', ' In', ' thriller', ' novels,', ' we', ' see', ' the', ' central', ' characters', ' or', ' main', ' protagonist', ' being', ' suspended', ' in', ' ever-present', ' danger', ' and', ' risk.', ' And', ' in', ' suspense', ' novels,', ' the', ' plot', ' takes', ' its', ' readers', ' through', ' an', ' unsettling', ' sense', ' of', ' worry', ' and', ' anticipation', ' in', ' readers', ' by', ' revealing', ' potentially', ' dangerous', ' details', ' that', ' the', ' very']\n",
            "['<s>', 'Suspense', ' who', ' is', ' would', ' be', ' trying', ' to', ' solve', ' a', ' crime.', ' In', ' thriller', ' novels,', ' we', ' see', ' the', ' central', ' characters', ' or', ' main', ' protagonist', ' being', ' suspended', ' in', ' ever-present', ' danger', ' and', ' risk.', ' And', ' in', ' suspense', ' novels,', ' the', ' plot', ' takes', ' its', ' readers', ' through', ' an', ' unsettling', ' sense', ' of', ' worry', ' and', ' anticipation', ' in', ' readers', ' by', ' revealing', ' potentially', ' dangerous', ' details', ' that', ' the', ' very', ' protagonist']\n",
            "['<s>', 'Suspense', ' who', ' is', ' would', ' be', ' trying', ' to', ' solve', ' a', ' crime.', ' In', ' thriller', ' novels,', ' we', ' see', ' the', ' central', ' characters', ' or', ' main', ' protagonist', ' being', ' suspended', ' in', ' ever-present', ' danger', ' and', ' risk.', ' And', ' in', ' suspense', ' novels,', ' the', ' plot', ' takes', ' its', ' readers', ' through', ' an', ' unsettling', ' sense', ' of', ' worry', ' and', ' anticipation', ' in', ' readers', ' by', ' revealing', ' potentially', ' dangerous', ' details', ' that', ' the', ' very', ' protagonist', ' in']\n",
            "['<s>', 'Suspense', ' who', ' is', ' would', ' be', ' trying', ' to', ' solve', ' a', ' crime.', ' In', ' thriller', ' novels,', ' we', ' see', ' the', ' central', ' characters', ' or', ' main', ' protagonist', ' being', ' suspended', ' in', ' ever-present', ' danger', ' and', ' risk.', ' And', ' in', ' suspense', ' novels,', ' the', ' plot', ' takes', ' its', ' readers', ' through', ' an', ' unsettling', ' sense', ' of', ' worry', ' and', ' anticipation', ' in', ' readers', ' by', ' revealing', ' potentially', ' dangerous', ' details', ' that', ' the', ' very', ' protagonist', ' in', ' the']\n",
            "['<s>', 'Suspense', ' who', ' is', ' would', ' be', ' trying', ' to', ' solve', ' a', ' crime.', ' In', ' thriller', ' novels,', ' we', ' see', ' the', ' central', ' characters', ' or', ' main', ' protagonist', ' being', ' suspended', ' in', ' ever-present', ' danger', ' and', ' risk.', ' And', ' in', ' suspense', ' novels,', ' the', ' plot', ' takes', ' its', ' readers', ' through', ' an', ' unsettling', ' sense', ' of', ' worry', ' and', ' anticipation', ' in', ' readers', ' by', ' revealing', ' potentially', ' dangerous', ' details', ' that', ' the', ' very', ' protagonist', ' in', ' the', ' story']\n",
            "['<s>', 'Suspense', ' who', ' is', ' would', ' be', ' trying', ' to', ' solve', ' a', ' crime.', ' In', ' thriller', ' novels,', ' we', ' see', ' the', ' central', ' characters', ' or', ' main', ' protagonist', ' being', ' suspended', ' in', ' ever-present', ' danger', ' and', ' risk.', ' And', ' in', ' suspense', ' novels,', ' the', ' plot', ' takes', ' its', ' readers', ' through', ' an', ' unsettling', ' sense', ' of', ' worry', ' and', ' anticipation', ' in', ' readers', ' by', ' revealing', ' potentially', ' dangerous', ' details', ' that', ' the', ' very', ' protagonist', ' in', ' the', ' story', ' could']\n",
            "['<s>', 'Suspense', ' who', ' is', ' would', ' be', ' trying', ' to', ' solve', ' a', ' crime.', ' In', ' thriller', ' novels,', ' we', ' see', ' the', ' central', ' characters', ' or', ' main', ' protagonist', ' being', ' suspended', ' in', ' ever-present', ' danger', ' and', ' risk.', ' And', ' in', ' suspense', ' novels,', ' the', ' plot', ' takes', ' its', ' readers', ' through', ' an', ' unsettling', ' sense', ' of', ' worry', ' and', ' anticipation', ' in', ' readers', ' by', ' revealing', ' potentially', ' dangerous', ' details', ' that', ' the', ' very', ' protagonist', ' in', ' the', ' story', ' could', ' not']\n",
            "['<s>', 'Suspense', ' who', ' is', ' would', ' be', ' trying', ' to', ' solve', ' a', ' crime.', ' In', ' thriller', ' novels,', ' we', ' see', ' the', ' central', ' characters', ' or', ' main', ' protagonist', ' being', ' suspended', ' in', ' ever-present', ' danger', ' and', ' risk.', ' And', ' in', ' suspense', ' novels,', ' the', ' plot', ' takes', ' its', ' readers', ' through', ' an', ' unsettling', ' sense', ' of', ' worry', ' and', ' anticipation', ' in', ' readers', ' by', ' revealing', ' potentially', ' dangerous', ' details', ' that', ' the', ' very', ' protagonist', ' in', ' the', ' story', ' could', ' not', ' be']\n",
            "['<s>', 'Suspense', ' who', ' is', ' would', ' be', ' trying', ' to', ' solve', ' a', ' crime.', ' In', ' thriller', ' novels,', ' we', ' see', ' the', ' central', ' characters', ' or', ' main', ' protagonist', ' being', ' suspended', ' in', ' ever-present', ' danger', ' and', ' risk.', ' And', ' in', ' suspense', ' novels,', ' the', ' plot', ' takes', ' its', ' readers', ' through', ' an', ' unsettling', ' sense', ' of', ' worry', ' and', ' anticipation', ' in', ' readers', ' by', ' revealing', ' potentially', ' dangerous', ' details', ' that', ' the', ' very', ' protagonist', ' in', ' the', ' story', ' could', ' not', ' be', ' aware']\n",
            "['<s>', 'Suspense', ' who', ' is', ' would', ' be', ' trying', ' to', ' solve', ' a', ' crime.', ' In', ' thriller', ' novels,', ' we', ' see', ' the', ' central', ' characters', ' or', ' main', ' protagonist', ' being', ' suspended', ' in', ' ever-present', ' danger', ' and', ' risk.', ' And', ' in', ' suspense', ' novels,', ' the', ' plot', ' takes', ' its', ' readers', ' through', ' an', ' unsettling', ' sense', ' of', ' worry', ' and', ' anticipation', ' in', ' readers', ' by', ' revealing', ' potentially', ' dangerous', ' details', ' that', ' the', ' very', ' protagonist', ' in', ' the', ' story', ' could', ' not', ' be', ' aware', ' of.']\n"
          ]
        },
        {
          "data": {
            "text/plain": [
              "'<s>Suspense who is would be trying to solve a crime. In thriller novels, we see the central characters or main protagonist being suspended in ever-present danger and risk. And in suspense novels, the plot takes its readers through an unsettling sense of worry and anticipation in readers by revealing potentially dangerous details that the very protagonist in the story could not be aware of.'"
            ]
          },
          "execution_count": 253,
          "metadata": {},
          "output_type": "execute_result"
        }
      ],
      "source": [
        "generate_sentence(\"Suspense\", debug = True)"
      ]
    },
    {
      "attachments": {},
      "cell_type": "markdown",
      "metadata": {},
      "source": [
        "## 과제2: RNN을 이용해 생성모델을 강화해 보세요"
      ]
    },
    {
      "cell_type": "code",
      "execution_count": null,
      "metadata": {},
      "outputs": [],
      "source": []
    },
    {
      "attachments": {},
      "cell_type": "markdown",
      "metadata": {},
      "source": [
        "## 과제3: Perplexity를 이용해 FCN모델과 RNN모델의 성능을 평가해보세요."
      ]
    },
    {
      "cell_type": "code",
      "execution_count": null,
      "metadata": {},
      "outputs": [],
      "source": []
    }
  ],
  "metadata": {
    "colab": {
      "provenance": []
    },
    "kernelspec": {
      "display_name": "Python 3",
      "name": "python3"
    },
    "language_info": {
      "codemirror_mode": {
        "name": "ipython",
        "version": 3
      },
      "file_extension": ".py",
      "mimetype": "text/x-python",
      "name": "python",
      "nbconvert_exporter": "python",
      "pygments_lexer": "ipython3",
      "version": "3.9.15"
    }
  },
  "nbformat": 4,
  "nbformat_minor": 0
}
