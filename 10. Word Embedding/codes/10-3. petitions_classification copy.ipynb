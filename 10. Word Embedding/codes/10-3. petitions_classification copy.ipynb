{
 "cells": [
  {
   "cell_type": "code",
   "execution_count": 1,
   "metadata": {
    "collapsed": true
   },
   "outputs": [
    {
     "ename": "TypeError",
     "evalue": "__init__() got an unexpected keyword argument 'size'",
     "output_type": "error",
     "traceback": [
      "\u001b[1;31m---------------------------------------------------------------------------\u001b[0m",
      "\u001b[1;31mTypeError\u001b[0m                                 Traceback (most recent call last)",
      "Cell \u001b[1;32mIn[1], line 46\u001b[0m\n\u001b[0;32m     43\u001b[0m labels_test \u001b[39m=\u001b[39m [\u001b[39m1\u001b[39m, \u001b[39m1\u001b[39m, \u001b[39m0\u001b[39m]\n\u001b[0;32m     45\u001b[0m \u001b[39m# Train the Word2Vec model\u001b[39;00m\n\u001b[1;32m---> 46\u001b[0m model \u001b[39m=\u001b[39m train_word2vec(sentences_train, embed_size\u001b[39m=\u001b[39;49m\u001b[39m10\u001b[39;49m)\n\u001b[0;32m     48\u001b[0m \u001b[39m# Convert sentences to vectors\u001b[39;00m\n\u001b[0;32m     49\u001b[0m X_train \u001b[39m=\u001b[39m get_vectors(model, sentences_train)\n",
      "Cell \u001b[1;32mIn[1], line 9\u001b[0m, in \u001b[0;36mtrain_word2vec\u001b[1;34m(sentences, embed_size)\u001b[0m\n\u001b[0;32m      8\u001b[0m \u001b[39mdef\u001b[39;00m \u001b[39mtrain_word2vec\u001b[39m(sentences, embed_size):\n\u001b[1;32m----> 9\u001b[0m     model \u001b[39m=\u001b[39m Word2Vec(sentences, size\u001b[39m=\u001b[39;49membed_size, min_count\u001b[39m=\u001b[39;49m\u001b[39m1\u001b[39;49m)\n\u001b[0;32m     10\u001b[0m     \u001b[39mreturn\u001b[39;00m model\n",
      "\u001b[1;31mTypeError\u001b[0m: __init__() got an unexpected keyword argument 'size'"
     ]
    }
   ],
   "source": [
    "# Import necessary libraries\n",
    "import numpy as np\n",
    "from gensim.models import Word2Vec\n",
    "from sklearn.linear_model import LogisticRegression\n",
    "from sklearn.metrics import accuracy_score\n",
    "\n",
    "# Define the function to train Word2Vec model\n",
    "model = Word2Vec(sentences = tokenized_train_dataset, vector_size = 50, window = 2, min_count = 5, workers = 4, sg = 1)\n",
    "\n",
    "def train_word2vec(sentences, embed_size):\n",
    "    model = Word2Vec(sentences, embed_size, min_count=1)\n",
    "    return model\n",
    "\n",
    "# Define the function to convert sentences to vectors\n",
    "def get_vectors(model, sentences):\n",
    "    vectors = []\n",
    "    for sentence in sentences:\n",
    "        vector = np.zeros(model.vector_size)\n",
    "        count = 0\n",
    "        for word in sentence:\n",
    "            if word in model:\n",
    "                vector += model[word]\n",
    "                count += 1\n",
    "        if count != 0:\n",
    "            vector /= count\n",
    "        vectors.append(vector)\n",
    "    return vectors\n",
    "\n",
    "# Define the function to train the logistic regression classifier\n",
    "def train_classifier(X_train, y_train):\n",
    "    clf = LogisticRegression()\n",
    "    clf.fit(X_train, y_train)\n",
    "    return clf\n",
    "\n",
    "# Define the function to test the classifier\n",
    "def test_classifier(clf, X_test, y_test):\n",
    "    y_pred = clf.predict(X_test)\n",
    "    acc = accuracy_score(y_test, y_pred)\n",
    "    return acc\n",
    "\n",
    "# Example sentences for training and testing\n",
    "sentences_train = [['cat', 'chases', 'mouse'], ['dog', 'barks', 'loudly'], ['elephant', 'is', 'big']]\n",
    "labels_train = [1, 1, 0]\n",
    "sentences_test = [['cat', 'sleeps'], ['dog', 'plays', 'ball'], ['elephant', 'has', 'trunk']]\n",
    "labels_test = [1, 1, 0]\n",
    "\n",
    "# Train the Word2Vec model\n",
    "model = train_word2vec(sentences_train, embed_size=10)\n",
    "\n",
    "# Convert sentences to vectors\n",
    "X_train = get_vectors(model, sentences_train)\n",
    "X_test = get_vectors(model, sentences_test)\n",
    "\n",
    "# Train the classifier\n",
    "clf = train_classifier(X_train, labels_train)\n",
    "\n",
    "# Test the classifier\n",
    "acc = test_classifier(clf, X_test, labels_test)\n",
    "\n",
    "# Print the accuracy\n",
    "print(\"Accuracy:\", acc)"
   ]
  },
  {
   "cell_type": "code",
   "execution_count": null,
   "metadata": {},
   "outputs": [],
   "source": []
  }
 ],
 "metadata": {
  "kernelspec": {
   "display_name": "Python 3",
   "language": "python",
   "name": "python3"
  },
  "language_info": {
   "codemirror_mode": {
    "name": "ipython",
    "version": 3
   },
   "file_extension": ".py",
   "mimetype": "text/x-python",
   "name": "python",
   "nbconvert_exporter": "python",
   "pygments_lexer": "ipython3",
   "version": "3.9.15"
  }
 },
 "nbformat": 4,
 "nbformat_minor": 2
}
